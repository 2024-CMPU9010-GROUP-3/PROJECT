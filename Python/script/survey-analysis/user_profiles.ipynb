{
 "cells": [
  {
   "cell_type": "markdown",
   "metadata": {},
   "source": [
    "## Profiles containing responses from Users who left their emails"
   ]
  },
  {
   "cell_type": "code",
   "execution_count": null,
   "metadata": {},
   "outputs": [],
   "source": [
    "# import libraries\n",
    "import pandas as pd\n",
    "import plotly.io as pio\n",
    "import plotly.express as px\n",
    "import plotly.graph_objects as go\n",
    "from plotly.subplots import make_subplots\n",
    "\n",
    "pio.renderers.default = 'notebook'"
   ]
  },
  {
   "cell_type": "markdown",
   "metadata": {},
   "source": [
    "### UserA\n",
    "1. Import User A CSV\n",
    "2. Exclude all rows that have empty in the email column\n",
    "3. Print a pretty table separated into 3: demographic, technology usage, magpie"
   ]
  },
  {
   "cell_type": "code",
   "execution_count": null,
   "metadata": {},
   "outputs": [],
   "source": [
    "# import csv file as dataframe\n",
    "userA_path = \"userA_responses.csv\"\n",
    "userA_data = pd.read_csv(userA_path, delimiter=\",\")\n",
    "\n",
    "# filter to only keep rows with email in contact column\n",
    "userA_filtered = userA_data.loc[userA_data[\"contact_personal\"].str.contains(\"@\", na=False)]\n",
    "\n",
    "# create sub dataframe containing cols 0-3 & 11 (DEMOGRAPHIC)\n",
    "demographic_A = userA_filtered.iloc[:, [0, 11, 1, 2, 3]]\n",
    "\n",
    "# create sub dataframe containing cols 4-5 & 11 (DEVICE & TOOLS)\n",
    "tech_A = userA_filtered.iloc[:, [0, 11, 4, 5]]\n",
    "\n",
    "# create sub dataframe containing cols 6-10 & 11 (MAGPIE FEASEABILITY)\n",
    "magpie_A = userA_filtered.iloc[:, [0, 11, 6, 7, 8, 9, 10]]"
   ]
  },
  {
   "cell_type": "code",
   "execution_count": null,
   "metadata": {},
   "outputs": [],
   "source": [
    "# function for plotting tables\n",
    "def create_plotly_table(df, title,col_widths):\n",
    "    fig = go.Figure(data=[go.Table(\n",
    "        columnwidth=col_widths,\n",
    "        header=dict(\n",
    "            values=list(df.columns),\n",
    "            fill_color='paleturquoise',\n",
    "            align='left',\n",
    "            font=dict(size=12),\n",
    "            height=30 \n",
    "        ),\n",
    "        cells=dict(\n",
    "            values=[df[col] for col in df.columns],\n",
    "            fill_color='lavender',\n",
    "            align='left',\n",
    "            font=dict(size=10),\n",
    "            height=25,\n",
    "        )\n",
    "    )])\n",
    "    # dynamic layout adjustment\n",
    "    fig.update_layout(\n",
    "        title=title,\n",
    "        margin=dict(l=0, r=0, t=50, b=0),\n",
    "        width=1000\n",
    "    )\n",
    "    fig.show()\n",
    "\n",
    "# set column widths\n",
    "demographicA_col_widths = [0.1, 0.5, 0.5, 0.5, 0.5]\n",
    "techA_col_widths = [0.1, 1, 1, 1]\n",
    "magpieA_col_widths = [0.3, 1.4, 1, 2, 1, 1,2]\n",
    "\n",
    "# plot pretty tables\n",
    "create_plotly_table(demographic_A, \"User A - Demographic Data\", demographicA_col_widths)\n",
    "create_plotly_table(tech_A, \"User A - Device & Tools Data\", techA_col_widths)\n",
    "create_plotly_table(magpie_A, \"User A - Magpie Feasibility Data\", magpieA_col_widths)"
   ]
  },
  {
   "cell_type": "markdown",
   "metadata": {},
   "source": [
    "### UserB\n",
    "1. Import User B CSV\n",
    "2. Exclude all rows that have empty in the email column\n",
    "3. Print a pretty table separated into 3: demographic, amenity usage, magpie"
   ]
  },
  {
   "cell_type": "code",
   "execution_count": null,
   "metadata": {},
   "outputs": [],
   "source": [
    "# import csv file as dataframe\n",
    "userB_path = \"userB_responses.csv\"\n",
    "userB_data = pd.read_csv(userB_path, delimiter=\",\")\n",
    "\n",
    "# keep only those who left their email\n",
    "userB_filtered = userB_data.loc[userB_data[\"contact_work\"].str.contains(\"@\", na=False)]\n"
   ]
  },
  {
   "cell_type": "code",
   "execution_count": null,
   "metadata": {},
   "outputs": [],
   "source": [
    "userB_filtered.columns"
   ]
  },
  {
   "cell_type": "code",
   "execution_count": null,
   "metadata": {},
   "outputs": [],
   "source": [
    "# create sub dataframe containing cols 0-3 & 11 (DEMOGRAPHIC)\n",
    "demographic_B = userB_filtered.iloc[:, [0, 23, 1, 2, 3, 5]]\n",
    "\n",
    "# create sub dataframe containing cols 4-5 & 11 (DEVICE & TOOLS)\n",
    "amenity_B = userB_filtered.iloc[:, [0, 23, 4, 6, 7, 8, 9, 10, 11]]\n",
    "\n",
    "# create sub dataframe containing cols 6-10 & 11 (MAGPIE FEASEABILITY)\n",
    "magpie_B = userB_filtered.iloc[:, [0, 23, 12, 13, 14, 15, 16, 17, 18, 19, 20, 21, 22]]"
   ]
  },
  {
   "cell_type": "code",
   "execution_count": null,
   "metadata": {},
   "outputs": [],
   "source": [
    "# set column widths\n",
    "demographicB_col_widths = [0.1, 0.5, 0.5, 0.5, 0.5,0.5]\n",
    "amenB_col_widths = [0.4, 1, 0.8, 0.8, 0.8, 0.8, 1, 1, 1.2]\n",
    "magpieB_col_widths = [0.2, 0.8, 0.5, 0.5, 0.8, 0.4, 0.4, 0.4, 0.4, 0.4, 0.4, 0.4, 0.8]\n",
    "\n",
    "# plot pretty tables\n",
    "create_plotly_table(demographic_B, \"User B - Demographic Data\", demographicB_col_widths)\n",
    "create_plotly_table(amenity_B, \"User B - Device & Tools Data\", amenB_col_widths)\n",
    "create_plotly_table(magpie_B, \"User B - Magpie Feasibility Data\", magpieB_col_widths)"
   ]
  }
 ],
 "metadata": {
  "kernelspec": {
   "display_name": "Python 3",
   "language": "python",
   "name": "python3"
  },
  "language_info": {
   "codemirror_mode": {
    "name": "ipython",
    "version": 3
   },
   "file_extension": ".py",
   "mimetype": "text/x-python",
   "name": "python",
   "nbconvert_exporter": "python",
   "pygments_lexer": "ipython3",
   "version": "3.9.0"
  }
 },
 "nbformat": 4,
 "nbformat_minor": 2
}
