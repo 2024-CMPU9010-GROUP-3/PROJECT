{
 "cells": [
  {
   "cell_type": "markdown",
   "metadata": {},
   "source": [
    "## Analysing responses from Market research survey"
   ]
  },
  {
   "cell_type": "code",
   "execution_count": null,
   "metadata": {},
   "outputs": [],
   "source": [
    "# import libraries\n",
    "import pandas as pd\n",
    "import matplotlib.pyplot as plt\n",
    "import plotly.io as pio\n",
    "import plotly.express as px\n",
    "pio.renderers.default = 'notebook'"
   ]
  },
  {
   "cell_type": "markdown",
   "metadata": {},
   "source": [
    "### User A = Don't use Amenity Data"
   ]
  },
  {
   "cell_type": "code",
   "execution_count": null,
   "metadata": {},
   "outputs": [],
   "source": [
    "# import csv file as dataframe\n",
    "userA_path = \"userA_responses.csv\"\n",
    "userA_data = pd.read_csv(userA_path, delimiter=\",\")\n",
    "userA_data.head(5)"
   ]
  },
  {
   "cell_type": "markdown",
   "metadata": {},
   "source": [
    "#### Basic demographic data\n",
    "1. County percentages\n",
    "2. Sector percentages"
   ]
  },
  {
   "cell_type": "code",
   "execution_count": null,
   "metadata": {},
   "outputs": [],
   "source": [
    "# county plot\n",
    "county_count = userA_data[\"county\"].value_counts()\n",
    "\n",
    "### need to fix this code, its annoying\n",
    "pie_data = pd.DataFrame({'County': county_count.index, 'Count': county_count.values})\n",
    "fig = px.pie(pie_data, names='County', values='Count', title=\"County Distribution\")\n",
    "\n",
    "fig.update_layout(\n",
    "    legend=dict(\n",
    "        title=\"County\",\n",
    "        orientation=\"v\",\n",
    "        x=1.1,            # Position legend on the right side of the plot\n",
    "        y=1,\n",
    "        xanchor=\"left\",\n",
    "        yanchor=\"top\",\n",
    "        traceorder=\"normal\",\n",
    "        font=dict(size=10),\n",
    "        itemsizing=\"constant\",   # Keeps a consistent item size in the legend\n",
    "        bgcolor=\"rgba(255, 255, 255, 0.8)\"  # Adds a semi-transparent background\n",
    "    ),\n",
    "    margin=dict(t=50, b=50, l=50, r=100), # Adds space for the legend\n",
    ")\n",
    "\n",
    "# Adjust legend layout to multiple columns if there are many items\n",
    "fig.update_layout(\n",
    "    legend=dict(\n",
    "        tracegroupgap=5,   # Adds gap between groups if needed\n",
    "        itemwidth=40       # Sets consistent item width\n",
    "    )\n",
    ")\n",
    "\n",
    "# Show Plotly figure\n",
    "fig.show()"
   ]
  },
  {
   "cell_type": "markdown",
   "metadata": {},
   "source": [
    "### User B = Use Amenity Data"
   ]
  }
 ],
 "metadata": {
  "kernelspec": {
   "display_name": "Python 3",
   "language": "python",
   "name": "python3"
  },
  "language_info": {
   "codemirror_mode": {
    "name": "ipython",
    "version": 3
   },
   "file_extension": ".py",
   "mimetype": "text/x-python",
   "name": "python",
   "nbconvert_exporter": "python",
   "pygments_lexer": "ipython3",
   "version": "3.9.0"
  }
 },
 "nbformat": 4,
 "nbformat_minor": 2
}
