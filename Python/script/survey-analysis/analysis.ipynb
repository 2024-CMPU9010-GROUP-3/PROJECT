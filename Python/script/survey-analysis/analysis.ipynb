{
 "cells": [
  {
   "cell_type": "markdown",
   "metadata": {},
   "source": [
    "## Analysing responses from Market research survey"
   ]
  },
  {
   "cell_type": "code",
   "execution_count": 1,
   "metadata": {},
   "outputs": [],
   "source": [
    "# import libraries\n",
    "import pandas as pd"
   ]
  },
  {
   "cell_type": "markdown",
   "metadata": {},
   "source": [
    "### User A = Don't use Amenity Data"
   ]
  },
  {
   "cell_type": "code",
   "execution_count": 2,
   "metadata": {},
   "outputs": [
    {
     "data": {
      "text/html": [
       "<div>\n",
       "<style scoped>\n",
       "    .dataframe tbody tr th:only-of-type {\n",
       "        vertical-align: middle;\n",
       "    }\n",
       "\n",
       "    .dataframe tbody tr th {\n",
       "        vertical-align: top;\n",
       "    }\n",
       "\n",
       "    .dataframe thead th {\n",
       "        text-align: right;\n",
       "    }\n",
       "</style>\n",
       "<table border=\"1\" class=\"dataframe\">\n",
       "  <thead>\n",
       "    <tr style=\"text-align: right;\">\n",
       "      <th></th>\n",
       "      <th>id</th>\n",
       "      <th>county</th>\n",
       "      <th>sector</th>\n",
       "      <th>use_amenity_data</th>\n",
       "      <th>device_personal</th>\n",
       "      <th>freq_tool_personal</th>\n",
       "      <th>demo_useful_personal</th>\n",
       "      <th>why_impractical_demo_personal</th>\n",
       "      <th>other_tool_personal</th>\n",
       "      <th>other_amenity_personal</th>\n",
       "      <th>other_feature_personal</th>\n",
       "      <th>contact_personal</th>\n",
       "    </tr>\n",
       "  </thead>\n",
       "  <tbody>\n",
       "    <tr>\n",
       "      <th>0</th>\n",
       "      <td>2</td>\n",
       "      <td>Dublin</td>\n",
       "      <td>Government</td>\n",
       "      <td>No</td>\n",
       "      <td>Desktop computer;Laptop;Smartphone</td>\n",
       "      <td>Weekly</td>\n",
       "      <td>Extremely useful</td>\n",
       "      <td>Unapplicable</td>\n",
       "      <td>Unapplicable</td>\n",
       "      <td>Empty</td>\n",
       "      <td>Cost;Parking hours</td>\n",
       "      <td>Empty</td>\n",
       "    </tr>\n",
       "    <tr>\n",
       "      <th>1</th>\n",
       "      <td>3</td>\n",
       "      <td>Fingal</td>\n",
       "      <td>Construction</td>\n",
       "      <td>No</td>\n",
       "      <td>Desktop computer</td>\n",
       "      <td>Never</td>\n",
       "      <td>Somewhat useful</td>\n",
       "      <td>Unapplicable</td>\n",
       "      <td>Unapplicable</td>\n",
       "      <td>Empty</td>\n",
       "      <td>Parking hours</td>\n",
       "      <td>Empty</td>\n",
       "    </tr>\n",
       "    <tr>\n",
       "      <th>2</th>\n",
       "      <td>9</td>\n",
       "      <td>Kildare</td>\n",
       "      <td>Government</td>\n",
       "      <td>No</td>\n",
       "      <td>Smartphone;Laptop</td>\n",
       "      <td>Daily</td>\n",
       "      <td>Extremely useful</td>\n",
       "      <td>Unapplicable</td>\n",
       "      <td>Unapplicable</td>\n",
       "      <td>Empty</td>\n",
       "      <td>Cost;Parking hours</td>\n",
       "      <td>Empty</td>\n",
       "    </tr>\n",
       "    <tr>\n",
       "      <th>3</th>\n",
       "      <td>11</td>\n",
       "      <td>Dublin</td>\n",
       "      <td>Education</td>\n",
       "      <td>No</td>\n",
       "      <td>Laptop;Smartphone</td>\n",
       "      <td>Daily</td>\n",
       "      <td>Extremely useful</td>\n",
       "      <td>Unapplicable</td>\n",
       "      <td>Unapplicable</td>\n",
       "      <td>Empty</td>\n",
       "      <td>Cost;Parking hours;Safety rating</td>\n",
       "      <td>Empty</td>\n",
       "    </tr>\n",
       "    <tr>\n",
       "      <th>4</th>\n",
       "      <td>12</td>\n",
       "      <td>Kildare</td>\n",
       "      <td>Technology</td>\n",
       "      <td>No</td>\n",
       "      <td>Laptop</td>\n",
       "      <td>Weekly</td>\n",
       "      <td>Somewhat useful</td>\n",
       "      <td>Unapplicable</td>\n",
       "      <td>Unapplicable</td>\n",
       "      <td>Empty</td>\n",
       "      <td>Cost;Parking hours</td>\n",
       "      <td>Empty</td>\n",
       "    </tr>\n",
       "  </tbody>\n",
       "</table>\n",
       "</div>"
      ],
      "text/plain": [
       "   id   county        sector use_amenity_data  \\\n",
       "0   2   Dublin    Government               No   \n",
       "1   3   Fingal  Construction               No   \n",
       "2   9  Kildare    Government               No   \n",
       "3  11   Dublin     Education               No   \n",
       "4  12  Kildare    Technology               No   \n",
       "\n",
       "                      device_personal freq_tool_personal demo_useful_personal  \\\n",
       "0  Desktop computer;Laptop;Smartphone             Weekly     Extremely useful   \n",
       "1                    Desktop computer              Never      Somewhat useful   \n",
       "2                   Smartphone;Laptop              Daily     Extremely useful   \n",
       "3                   Laptop;Smartphone              Daily     Extremely useful   \n",
       "4                              Laptop             Weekly      Somewhat useful   \n",
       "\n",
       "  why_impractical_demo_personal other_tool_personal other_amenity_personal  \\\n",
       "0                  Unapplicable        Unapplicable                  Empty   \n",
       "1                  Unapplicable        Unapplicable                  Empty   \n",
       "2                  Unapplicable        Unapplicable                  Empty   \n",
       "3                  Unapplicable        Unapplicable                  Empty   \n",
       "4                  Unapplicable        Unapplicable                  Empty   \n",
       "\n",
       "             other_feature_personal contact_personal  \n",
       "0                Cost;Parking hours            Empty  \n",
       "1                     Parking hours            Empty  \n",
       "2                Cost;Parking hours            Empty  \n",
       "3  Cost;Parking hours;Safety rating            Empty  \n",
       "4                Cost;Parking hours            Empty  "
      ]
     },
     "execution_count": 2,
     "metadata": {},
     "output_type": "execute_result"
    }
   ],
   "source": [
    "# import csv file as dataframe\n",
    "userA_path = \"userA_responses.csv\"\n",
    "userA_data = pd.read_csv(userA_path, delimiter=\",\")\n",
    "userA_data.head(5)"
   ]
  },
  {
   "cell_type": "markdown",
   "metadata": {},
   "source": [
    "### User B = Use Amenity Data"
   ]
  }
 ],
 "metadata": {
  "kernelspec": {
   "display_name": "Python 3",
   "language": "python",
   "name": "python3"
  },
  "language_info": {
   "codemirror_mode": {
    "name": "ipython",
    "version": 3
   },
   "file_extension": ".py",
   "mimetype": "text/x-python",
   "name": "python",
   "nbconvert_exporter": "python",
   "pygments_lexer": "ipython3",
   "version": "3.9.0"
  }
 },
 "nbformat": 4,
 "nbformat_minor": 2
}
