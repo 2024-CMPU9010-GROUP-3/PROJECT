{
 "cells": [
  {
   "cell_type": "markdown",
   "metadata": {},
   "source": [
    "## Retrieving images not used for training and validation\n",
    "On LabelStudio, the tool we used to annotate our 251 images for training, it is not possible to export the image that have NOT been annotated. Therefore, the script below has developped to find the test images by substracting the training and validation images from the whole dataset."
   ]
  },
  {
   "cell_type": "code",
   "execution_count": 1,
   "metadata": {},
   "outputs": [],
   "source": [
    "import os\n",
    "import shutil\n",
    "\n",
    "# necessary paths\n",
    "all_dir = \"C:\\TUD_MSC\\sem_3\\Magpie_mc\\dataset_ann\\yolov8_n\\images\\\\all images\"\n",
    "train_dir = \"C:\\TUD_MSC\\sem_3\\Magpie_mc\\dataset_ann\\yolov8_n\\images\\\\train\"\n",
    "val_dir = \"C:\\TUD_MSC\\sem_3\\Magpie_mc\\dataset_ann\\yolov8_n\\images\\\\val\"\n",
    "test_dir = \"C:\\TUD_MSC\\sem_3\\Magpie_mc\\dataset_ann\\yolov8_n\\images\\\\test\""
   ]
  },
  {
   "cell_type": "code",
   "execution_count": 2,
   "metadata": {},
   "outputs": [],
   "source": [
    "# get list of train & val imgs\n",
    "train_imgs = set(os.listdir(train_dir))\n",
    "val_imgs = set(os.listdir(val_dir))\n",
    "\n",
    "# get list of ALL imgs\n",
    "all_imgs = set(os.listdir(all_dir))"
   ]
  },
  {
   "cell_type": "code",
   "execution_count": 3,
   "metadata": {},
   "outputs": [],
   "source": [
    "# initialize counter for successfully moved images\n",
    "test_img_count = 0\n",
    "error_count = 0"
   ]
  },
  {
   "cell_type": "code",
   "execution_count": null,
   "metadata": {},
   "outputs": [],
   "source": [
    "# loop through all imgs in master dir\n",
    "for img in all_imgs:\n",
    "    # check if it isn't in train or val\n",
    "    if img not in train_imgs and img not in val_imgs:\n",
    "        try:\n",
    "            # define source & destination paths\n",
    "            source_path = os.path.join(all_dir, img)\n",
    "            dest_path = os.path.join(test_dir, img)\n",
    "\n",
    "            # move img to test dir\n",
    "            shutil.move(source_path, dest_path)\n",
    "            test_img_count += 1\n",
    "            print(f\"Successfully moved {img} to test directory\")\n",
    "\n",
    "        except FileNotFoundError:\n",
    "            print(f\"Error: {img} not found. Skipping...\")\n",
    "            error_count +=1\n",
    "\n",
    "        except PermissionError:\n",
    "            print(f\"Error: Permission denied for {img}. Skipping...\")\n",
    "\n",
    "        except Exception as e:\n",
    "            print(f\"Error: Could not move {img} due to {e}. Skipping...\")\n",
    "\n",
    "# summary of move\n",
    "print(f\"Separation of images is complete.\")\n",
    "print(f\"Successfully moved {test_img_count} images to the test folder.\")\n",
    "if error_count > 0:\n",
    "    print(f\"{error_count} errors occurred during the process.\")\n"
   ]
  }
 ],
 "metadata": {
  "kernelspec": {
   "display_name": "venv",
   "language": "python",
   "name": "python3"
  },
  "language_info": {
   "codemirror_mode": {
    "name": "ipython",
    "version": 3
   },
   "file_extension": ".py",
   "mimetype": "text/x-python",
   "name": "python",
   "nbconvert_exporter": "python",
   "pygments_lexer": "ipython3",
   "version": "3.9.0"
  }
 },
 "nbformat": 4,
 "nbformat_minor": 2
}
