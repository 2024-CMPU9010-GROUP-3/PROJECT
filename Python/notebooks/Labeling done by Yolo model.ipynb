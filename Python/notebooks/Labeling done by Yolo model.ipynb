{
  "cells": [
    {
      "cell_type": "code",
      "execution_count": null,
      "metadata": {
        "colab": {
          "base_uri": "https://localhost:8080/"
        },
        "id": "9XRftFxbdNaY",
        "outputId": "7715ddd9-c81c-4ec3-accc-2920f876f4e0"
      },
      "outputs": [],
      "source": [
        "!pip install torch opencv-python\n",
        "!pip install git+https://github.com/ultralytics/yolov5\n"
      ]
    },
    {
      "cell_type": "code",
      "execution_count": null,
      "metadata": {
        "colab": {
          "base_uri": "https://localhost:8080/"
        },
        "id": "4ufYKkJWf3NT",
        "outputId": "babb2739-a8cc-4d7d-c86a-c26aa2c7fd05"
      },
      "outputs": [],
      "source": [
        "from google.colab import drive\n",
        "drive.mount('/content/drive')\n",
        "\n",
        "import torch\n",
        "import cv2\n",
        "from pathlib import Path\n",
        "import os\n",
        "\n",
        "def detect_and_save_results(image_path, output_image_path, output_txt_path):\n",
        "    # Load pre-trained YOLOv5 model\n",
        "    model = torch.hub.load('ultralytics/yolov5', 'yolov5s', pretrained=True)\n",
        "\n",
        "    img = cv2.imread(image_path)\n",
        "\n",
        "    results = model(img)\n",
        "\n",
        "    detections = results.xyxy[0].cpu().numpy()  # [x_min, y_min, x_max, y_max, confidence, class_id]\n",
        "\n",
        "    output_image_dir = Path(output_image_path).parent\n",
        "    output_txt_dir = Path(output_txt_path).parent\n",
        "    output_image_dir.mkdir(parents=True, exist_ok=True)\n",
        "    output_txt_dir.mkdir(parents=True, exist_ok=True)\n",
        "\n",
        "    with open(output_txt_path, 'w') as f:\n",
        "        for detection in detections:\n",
        "            x_min, y_min, x_max, y_max, conf, class_id = detection\n",
        "            label = model.names[int(class_id)]\n",
        "            f.write(f'{label} {conf:.2f} {x_min:.0f} {y_min:.0f} {x_max:.0f} {y_max:.0f}\\n')\n",
        "\n",
        "            cv2.rectangle(img, (int(x_min), int(y_min)), (int(x_max), int(y_max)), (255, 0, 0), 2)\n",
        "            cv2.putText(img, f'{label} {conf:.2f}', (int(x_min), int(y_min) - 10),\n",
        "                        cv2.FONT_HERSHEY_SIMPLEX, 0.9, (255, 0, 0), 2)\n",
        "\n",
        "    cv2.imwrite(output_image_path, img)\n",
        "\n",
        "image_folder = '/content/drive/My Drive/all images'\n",
        "output_folder = '/content/drive/My Drive/satellite_output'\n",
        "\n",
        "os.makedirs(output_folder, exist_ok=True)\n",
        "\n",
        "for image_filename in os.listdir(image_folder):\n",
        "    if image_filename.endswith('.jpg') or image_filename.endswith('.png'):\n",
        "        image_path = os.path.join(image_folder, image_filename)\n",
        "        output_image_path = os.path.join(output_folder, f\"output_{image_filename}\")\n",
        "        output_txt_path = os.path.join(output_folder, f\"output_{image_filename.split('.')[0]}.txt\")\n",
        "\n",
        "        detect_and_save_results(image_path, output_image_path, output_txt_path)\n",
        "\n",
        "print(f\"Detection complete. Results saved to {output_folder}.\")\n"
      ]
    }
  ],
  "metadata": {
    "colab": {
      "provenance": []
    },
    "kernelspec": {
      "display_name": "Python 3",
      "name": "python3"
    },
    "language_info": {
      "name": "python"
    }
  },
  "nbformat": 4,
  "nbformat_minor": 0
}
