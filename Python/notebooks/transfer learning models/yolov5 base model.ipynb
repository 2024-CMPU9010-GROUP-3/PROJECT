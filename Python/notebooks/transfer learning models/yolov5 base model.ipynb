{
  "cells": [
    {
      "cell_type": "code",
      "execution_count": null,
      "metadata": {},
      "outputs": [],
      "source": [
        "import tensorflow as tf\n",
        "\n",
        "base_yolo_model = tf.saved_model.load('yolov5_tf')\n",
        "\n",
        "input_shape = (640, 640, 3)\n",
        "\n",
        "inputs = tf.keras.Input(shape=input_shape)\n",
        "\n",
        "features = base_yolo_model(inputs)\n",
        "\n",
        "#we use the functional api instead of the sequential one as the yolo model has a complex architecture (isn't sequential) \n",
        "x = tf.keras.layers.GlobalAveragePooling2D()(features)\n",
        "x = tf.keras.layers.Dense(256, activation='relu')(x) \n",
        "x = tf.keras.layers.Dropout(0.5)(x) \n",
        "output_layer = tf.keras.layers.Dense(1, activation='sigmoid')(x)#sigmoid cause 2 classes instead of softmax\n",
        "\n",
        "\n",
        "model = tf.keras.Model(inputs=inputs, outputs=output_layer)\n",
        "\n",
        "# freeze the base layers for the start of the training process\n",
        "for layer in base_yolo_model.layers:\n",
        "    layer.trainable = False\n",
        "\n",
        "model.summary()"
      ]
    },
    {
      "cell_type": "code",
      "execution_count": null,
      "metadata": {},
      "outputs": [],
      "source": [
        "model.compile(optimizer='adam',\n",
        "              loss='binary_crossentropy',  #binary classification\n",
        "              metrics=['accuracy'])\n",
        "\n",
        "#bounding boxes handled by yolo ??"
      ]
    },
    {
      "cell_type": "code",
      "execution_count": null,
      "metadata": {},
      "outputs": [],
      "source": [
        "train_img = tf.data.Dataset.list_files(\"labelled_images/images/*.png\")\n",
        "train_img = train_img.batch(32).prefetch(tf.data.AUTOTUNE)  # define batch size for training efficiency\n",
        "train_label = tf.data.Dataset.list_files(\"labelled_images/labels/*.txt\")\n",
        "# probably needs to load to numpy array for compatibility with tensorflow\n",
        "\n",
        "\n",
        "val_img = tf.data.Dataset.list_files(\"labelled_images/images/*.png\")\n",
        "val_img = val_img.batch(32).prefetch(tf.data.AUTOTUNE)\n",
        "val_label = tf.data.Dataset.list_files(\"labelled_images/labels/*.txt\")"
      ]
    },
    {
      "cell_type": "code",
      "execution_count": null,
      "metadata": {},
      "outputs": [],
      "source": [
        "#use early stopping to reduce unecessary training time and risk of overfitting\n",
        "early_stopping = tf.keras.callbacks.EarlyStopping(monitor='val_loss', patience=5, mode='min')\n",
        "\n",
        "#train a first time\n",
        "history = model.fit(train_img, train_label,\n",
        "                    epochs=50,  \n",
        "                    validation_data=(val_img,val_label)\n",
        "                    callbacks=[early_stopping])\n",
        "\n",
        "model.save(\"trained_yolov5_tf\")\n"
      ]
    },
    {
      "cell_type": "code",
      "execution_count": null,
      "metadata": {},
      "outputs": [],
      "source": [
        "#then unfreeze the yolo layers to fine tune\n",
        "for layer in base_yolo_model.layers:\n",
        "    layer.trainable = True\n",
        "\n",
        "model.compile(optimizer=tf.keras.optimizers.Adam(1e-5),  # lower learning rate for fine-tuning\n",
        "              loss='binary_crossentropy',\n",
        "              metrics=['accuracy'])\n",
        "\n",
        "#retrain with the first layers weights unfrozen\n",
        "history2 = model.fit(train_img, train_label,\n",
        "                    epochs=50,  \n",
        "                    validation_data=(val_img,val_label)\n",
        "                    callbacks=[early_stopping])\n",
        "\n",
        "model.save(\"fine_tuned_yolov5_tf\")\n"
      ]
    }
  ],
  "metadata": {
    "colab": {
      "provenance": []
    },
    "kernelspec": {
      "display_name": "base",
      "language": "python",
      "name": "python3"
    },
    "language_info": {
      "codemirror_mode": {
        "name": "ipython",
        "version": 3
      },
      "file_extension": ".py",
      "mimetype": "text/x-python",
      "name": "python",
      "nbconvert_exporter": "python",
      "pygments_lexer": "ipython3",
      "version": "3.12.3"
    }
  },
  "nbformat": 4,
  "nbformat_minor": 0
}
