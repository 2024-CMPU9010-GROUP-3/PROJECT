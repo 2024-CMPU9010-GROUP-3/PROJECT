{
  "cells": [
    {
      "cell_type": "code",
      "execution_count": null,
      "metadata": {},
      "outputs": [],
      "source": [
        "import tensorflow as tf\n",
        "\n",
        "base_yolo_model = tf.saved_model.load('yolov5_tf')\n",
        "\n",
        "input_shape = (640, 640, 3)\n",
        "\n",
        "inputs = tf.keras.Input(shape=input_shape)\n",
        "\n",
        "features = base_yolo_model(inputs)\n",
        "\n",
        "#we use the functional api instead of the sequential one as the yolo model has a complex architecture (isn't sequential) \n",
        "x = tf.keras.layers.GlobalAveragePooling2D()(features)\n",
        "x = tf.keras.layers.Dense(256, activation='relu')(x) \n",
        "x = tf.keras.layers.Dropout(0.5)(x) \n",
        "output_layer = tf.keras.layers.Dense(1, activation='sigmoid')(x)#sigmoid cause 2 classes instead of relu\n",
        "\n",
        "\n",
        "model = tf.keras.Model(inputs=inputs, outputs=output_layer)\n",
        "\n",
        "# freeze the base layers for the start of the training process\n",
        "for layer in base_yolo_model.layers:\n",
        "    layer.trainable = False\n"
      ]
    },
    {
      "cell_type": "code",
      "execution_count": null,
      "metadata": {},
      "outputs": [],
      "source": [
        "model.compile(optimizer='adam',\n",
        "              loss='binary_crossentropy',  #binary classification\n",
        "              metrics=['accuracy'])\n",
        "\n",
        "#bounding boxes handled by yolo ??"
      ]
    },
    {
      "cell_type": "code",
      "execution_count": null,
      "metadata": {},
      "outputs": [],
      "source": [
        "train = tf.data.Dataset.list_files(\"labelled_images/*.png\")\n",
        "train = train.batch(32).prefetch(tf.data.AUTOTUNE)  # define batch size for training efficiency\n",
        "\n",
        "val = tf.data.Dataset.list_files(\"labelled_images/*.png\")\n",
        "val = val.batch(32).prefetch(tf.data.AUTOTUNE)\n"
      ]
    },
    {
      "cell_type": "code",
      "execution_count": null,
      "metadata": {},
      "outputs": [],
      "source": [
        "#train a first time\n",
        "history = model.fit(train,\n",
        "                    epochs=10,  \n",
        "                    validation_data=val)\n",
        "\n",
        "model.save(\"trained_yolov5_tf\")\n"
      ]
    },
    {
      "cell_type": "code",
      "execution_count": null,
      "metadata": {},
      "outputs": [],
      "source": [
        "#then unfreeze the yolo layers to fine tune\n",
        "for layer in base_yolo_model.layers:\n",
        "    layer.trainable = True\n",
        "\n",
        "model.compile(optimizer=tf.keras.optimizers.Adam(1e-5),  # lower learning rate for fine-tuning\n",
        "              loss='binary_crossentropy',\n",
        "              metrics=['accuracy'])\n",
        "\n",
        "#retrain with the first layers weights unfrozen\n",
        "history2 = model.fit(train,\n",
        "                    epochs=10,\n",
        "                    validation_data=val)\n",
        "\n",
        "model.save(\"fine_tuned_yolov5_tf\")\n"
      ]
    }
  ],
  "metadata": {
    "colab": {
      "provenance": []
    },
    "kernelspec": {
      "display_name": "base",
      "language": "python",
      "name": "python3"
    },
    "language_info": {
      "codemirror_mode": {
        "name": "ipython",
        "version": 3
      },
      "file_extension": ".py",
      "mimetype": "text/x-python",
      "name": "python",
      "nbconvert_exporter": "python",
      "pygments_lexer": "ipython3",
      "version": "3.12.3"
    }
  },
  "nbformat": 4,
  "nbformat_minor": 0
}
