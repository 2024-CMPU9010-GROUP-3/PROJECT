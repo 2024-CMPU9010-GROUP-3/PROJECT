{
  "cells": [
    {
      "cell_type": "markdown",
      "metadata": {
        "id": "wcEmy2CZ8_33"
      },
      "source": [
        "Package installs necessary to run notebook in collab (or local jupyter notebook)"
      ]
    },
    {
      "cell_type": "code",
      "execution_count": null,
      "metadata": {
        "colab": {
          "base_uri": "https://localhost:8080/"
        },
        "id": "P_SUqtou80gP",
        "outputId": "6a4057a5-ca95-4493-8647-fd97b6bdaa4a"
      },
      "outputs": [],
      "source": [
        "!pip install torch torchvision matplotlib\n"
      ]
    },
    {
      "cell_type": "markdown",
      "metadata": {
        "id": "De_yUlAz9P38"
      },
      "source": [
        "First approach ResNet with Faster R-CNN"
      ]
    },
    {
      "cell_type": "code",
      "execution_count": null,
      "metadata": {
        "colab": {
          "base_uri": "https://localhost:8080/"
        },
        "id": "a_0wD6bm-eV4",
        "outputId": "7e83fd5b-05f4-4126-9f65-33bd792d79b7"
      },
      "outputs": [],
      "source": [
        "from google.colab import drive\n",
        "import os\n",
        "import cv2\n",
        "from pathlib import Path\n",
        "\n",
        "drive.mount('/content/drive')\n",
        "#replace with proper paths in the google drive containing the images\n",
        "image_folder = '/content/drive/My Drive/all images'\n",
        "output_folder = '/content/drive/My Drive/Faster_R-CNN'\n",
        "\n",
        "os.makedirs(output_folder, exist_ok=True)"
      ]
    },
    {
      "cell_type": "code",
      "execution_count": null,
      "metadata": {
        "colab": {
          "base_uri": "https://localhost:8080/",
          "height": 463
        },
        "id": "q1L4Og6J85M9",
        "outputId": "65135bdc-2bdc-4fea-d0a1-bf374aa157d4"
      },
      "outputs": [],
      "source": [
        "import torch\n",
        "import torchvision\n",
        "from torchvision.models.detection import fasterrcnn_resnet50_fpn\n",
        "from PIL import Image, ImageDraw\n",
        "import torchvision.transforms as T\n",
        "import matplotlib.pyplot as plt\n",
        "import os\n",
        "\n",
        "model = fasterrcnn_resnet50_fpn(pretrained=True)\n",
        "model.eval()\n",
        "\n",
        "def transform_image(image_path):\n",
        "    image = Image.open(image_path).convert('RGB')\n",
        "    transform = T.Compose([T.ToTensor()])\n",
        "    return transform(image).unsqueeze(0)\n",
        "\n",
        "def detect_objects(image_path):\n",
        "    image_tensor = transform_image(image_path)\n",
        "    with torch.no_grad():\n",
        "        predictions = model(image_tensor)[0]\n",
        "\n",
        "    return predictions\n",
        "\n",
        "def visualize_and_save_detections(image_path, predictions, output_image_path, output_txt_path, threshold=0.5):\n",
        "    image = Image.open(image_path)\n",
        "    draw = ImageDraw.Draw(image)\n",
        "\n",
        "    with open(output_txt_path, 'w') as f:\n",
        "        for i, box in enumerate(predictions['boxes']):\n",
        "            score = predictions['scores'][i].item()\n",
        "            if score > threshold:\n",
        "                x_min, y_min, x_max, y_max = box\n",
        "                label = predictions['labels'][i].item()\n",
        "                draw.rectangle(((x_min, y_min), (x_max, y_max)), outline=\"red\", width=2)\n",
        "                draw.text((x_min, y_min - 10), f'Label: {label}, Score: {score:.2f}', fill=\"red\")\n",
        "                f.write(f'{label} {score:.2f} {x_min:.0f} {y_min:.0f} {x_max:.0f} {y_max:.0f}\\n')\n",
        "\n",
        "    image.save(output_image_path)\n",
        "\n",
        "for image_filename in os.listdir(image_folder):\n",
        "    if image_filename.endswith('.jpg') or image_filename.endswith('.png'):\n",
        "        image_path = os.path.join(image_folder, image_filename)\n",
        "        output_image_path = os.path.join(output_folder, f\"output_{image_filename}\")\n",
        "        output_txt_path = os.path.join(output_folder, f\"output_{image_filename.split('.')[0]}.txt\")\n",
        "\n",
        "        predictions = detect_objects(image_path)\n",
        "        visualize_and_save_detections(image_path, predictions, output_image_path, output_txt_path)\n"
      ]
    },
    {
      "cell_type": "markdown",
      "metadata": {
        "id": "sheQpdqe9WU5"
      },
      "source": [
        "Mask R-CNN"
      ]
    },
    {
      "cell_type": "code",
      "execution_count": 4,
      "metadata": {
        "id": "SShwIJGqCLYn"
      },
      "outputs": [],
      "source": [
        "output_folder2 = '/content/drive/My Drive/Mask_R-CNN'\n",
        "\n",
        "os.makedirs(output_folder2, exist_ok=True)"
      ]
    },
    {
      "cell_type": "code",
      "execution_count": null,
      "metadata": {
        "colab": {
          "base_uri": "https://localhost:8080/",
          "height": 480
        },
        "id": "ZygYHLbO88c3",
        "outputId": "061a06f5-a9a0-4ce5-e2ce-d74afdec6420"
      },
      "outputs": [],
      "source": [
        "from torchvision.models.detection import maskrcnn_resnet50_fpn\n",
        "import numpy as np\n",
        "\n",
        "model = maskrcnn_resnet50_fpn(pretrained=True)\n",
        "model.eval()\n",
        "\n",
        "def detect_and_segment_objects(image_path):\n",
        "    image_tensor = transform_image(image_path)\n",
        "    with torch.no_grad():\n",
        "        predictions = model(image_tensor)[0]\n",
        "\n",
        "    return predictions\n",
        "\n",
        "def visualize_and_save_detections(image_path, predictions, output_image_path, output_txt_path, threshold=0.5):\n",
        "    image = Image.open(image_path).convert('RGB')\n",
        "    draw = ImageDraw.Draw(image)\n",
        "\n",
        "    with open(output_txt_path, 'w') as f:\n",
        "        for i, box in enumerate(predictions['boxes']):\n",
        "            score = predictions['scores'][i].item()\n",
        "            if score > threshold:\n",
        "                x_min, y_min, x_max, y_max = box\n",
        "                label = predictions['labels'][i].item()\n",
        "\n",
        "                mask = predictions['masks'][i, 0].cpu().numpy()\n",
        "                mask = mask > 0.5\n",
        "\n",
        "                draw.rectangle(((x_min, y_min), (x_max, y_max)), outline=\"red\", width=2)\n",
        "                draw.text((x_min, y_min - 10), f'Label: {label}, Score: {score:.2f}', fill=\"red\")\n",
        "\n",
        "                mask_image = np.array(image)\n",
        "                mask_image[mask] = (255, 0, 0)\n",
        "                image = Image.fromarray(mask_image)\n",
        "\n",
        "                f.write(f'{label} {score:.2f} {x_min:.0f} {y_min:.0f} {x_max:.0f} {y_max:.0f}\\n')\n",
        "\n",
        "    image.save(output_image_path)\n",
        "\n",
        "for image_filename in os.listdir(image_folder):\n",
        "    if image_filename.endswith('.jpg') or image_filename.endswith('.png'):\n",
        "        image_path = os.path.join(image_folder, image_filename)\n",
        "        output_image_path = os.path.join(output_folder2, f\"output_{image_filename}\")\n",
        "        output_txt_path = os.path.join(output_folder2, f\"output_{image_filename.split('.')[0]}.txt\")\n",
        "\n",
        "        predictions = detect_and_segment_objects(image_path)\n",
        "\n",
        "        visualize_and_save_detections(image_path, predictions, output_image_path, output_txt_path)\n"
      ]
    }
  ],
  "metadata": {
    "colab": {
      "provenance": []
    },
    "kernelspec": {
      "display_name": "Python 3",
      "name": "python3"
    },
    "language_info": {
      "name": "python"
    }
  },
  "nbformat": 4,
  "nbformat_minor": 0
}
