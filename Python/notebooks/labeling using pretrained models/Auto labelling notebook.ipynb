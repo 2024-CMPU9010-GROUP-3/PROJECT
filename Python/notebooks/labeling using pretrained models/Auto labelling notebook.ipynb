{
  "cells": [
    {
      "cell_type": "markdown",
      "metadata": {
        "id": "bRSpSp5_O_XX"
      },
      "source": [
        "This is the notebook version of the readme script to be run in collab\n",
        "\n",
        "Before running the notebook follow these steps:\n",
        "- Export the labelled images from label studio and save them in your Google Drive.\n",
        "- Seperate into images and labels folders, containing train, test and validation.\n",
        "- Ensure the split is made with enough background images in the all subsets.\n",
        "- Upload the data and hyp yaml files to session storage\n",
        "- Update the data.yaml file to have the correct paths\n",
        "- train: /content/drive/MyDrive/labelled images/images/train\n",
        "- val: /content/drive/MyDrive/labelled images/images/val\n"
      ]
    },
    {
      "cell_type": "markdown",
      "metadata": {
        "id": "iw00OJgeRd0g"
      },
      "source": [
        "Mount the drive"
      ]
    },
    {
      "cell_type": "code",
      "execution_count": null,
      "metadata": {
        "colab": {
          "base_uri": "https://localhost:8080/"
        },
        "id": "aawKma3WO85q",
        "outputId": "4b2e5f4d-0d3a-42c1-da81-0631c56e9d5b"
      },
      "outputs": [],
      "source": [
        "from google.colab import drive\n",
        "drive.mount('/content/drive')"
      ]
    },
    {
      "cell_type": "markdown",
      "metadata": {
        "id": "fxSCFhT0RhVO"
      },
      "source": [
        "Clone the Yolov5 repository"
      ]
    },
    {
      "cell_type": "code",
      "execution_count": null,
      "metadata": {
        "colab": {
          "base_uri": "https://localhost:8080/"
        },
        "id": "RhrzFCGRMo--",
        "outputId": "e71d1f52-0881-4020-8a8e-2cc1f0caba01"
      },
      "outputs": [],
      "source": [
        "!git clone https://github.com/ultralytics/yolov5.git"
      ]
    },
    {
      "cell_type": "markdown",
      "metadata": {
        "id": "f054QGcLRmuY"
      },
      "source": [
        "Install the requirements of the project"
      ]
    },
    {
      "cell_type": "code",
      "execution_count": null,
      "metadata": {
        "colab": {
          "base_uri": "https://localhost:8080/"
        },
        "id": "xKdIzBv0RlWy",
        "outputId": "b12d5abc-3a39-4b9c-9298-555d5ef7ae02"
      },
      "outputs": [],
      "source": [
        "!pip install -r yolov5/requirements.txt\n"
      ]
    },
    {
      "cell_type": "markdown",
      "metadata": {
        "id": "l2_kOoUJWsvD"
      },
      "source": [
        "Download the pre-trained weights for the yolov5 model and run an inital detection on the training set"
      ]
    },
    {
      "cell_type": "code",
      "execution_count": null,
      "metadata": {
        "colab": {
          "base_uri": "https://localhost:8080/"
        },
        "id": "Gp7EGhpDWmW6",
        "outputId": "b56f1a93-d0df-4dc2-a48e-5e63da149fa1"
      },
      "outputs": [],
      "source": [
        "!python yolov5/detect.py --weights yolov5s.pt --source drive/MyDrive/labelled\\ images/images/train\n"
      ]
    },
    {
      "cell_type": "markdown",
      "metadata": {
        "id": "Yxww835lXVJ6"
      },
      "source": [
        "Fine tune model by training & validating on our labelled images\n"
      ]
    },
    {
      "cell_type": "code",
      "execution_count": null,
      "metadata": {
        "colab": {
          "base_uri": "https://localhost:8080/"
        },
        "id": "hGUwM-4mXT-g",
        "outputId": "02c93c12-96d6-4884-d669-0e8aed1206f4"
      },
      "outputs": [],
      "source": [
        "!python yolov5/train.py --img 640 --batch 16 --epochs 10 --data data.yaml --weights yolov5/yolov5s.pt --hyp hyp.yaml --cache"
      ]
    },
    {
      "cell_type": "markdown",
      "metadata": {
        "id": "031dgeXmX8Xa"
      },
      "source": [
        "Results of the runs can be seen in runs/train/exp directory.\n",
        "\n",
        "Then test the model on the test images to see how well it label them."
      ]
    },
    {
      "cell_type": "code",
      "execution_count": null,
      "metadata": {
        "id": "fF6TKzhPXQEp"
      },
      "outputs": [],
      "source": [
        "!python detect.py --weights yolov5/runs/train/exp8/weights/best.pt --img 640 --conf 0.25 --source /content/drive/MyDrive/labelled images/images/test\n",
        "#update the folder number wiith the best weights\n"
      ]
    }
  ],
  "metadata": {
    "colab": {
      "provenance": []
    },
    "kernelspec": {
      "display_name": "Python 3",
      "name": "python3"
    },
    "language_info": {
      "name": "python"
    }
  },
  "nbformat": 4,
  "nbformat_minor": 0
}
