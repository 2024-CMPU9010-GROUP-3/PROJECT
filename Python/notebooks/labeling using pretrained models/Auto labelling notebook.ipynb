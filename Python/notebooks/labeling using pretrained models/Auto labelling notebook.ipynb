{
  "cells": [
    {
      "cell_type": "markdown",
      "metadata": {
        "id": "bRSpSp5_O_XX"
      },
      "source": [
        "Before running the notebook follow these steps:\n",
        "- Export the labelled images from label studio and save them in a folder called labelled_images.\n",
        "- Seperate into images and labels folders, containing train, test and validation.\n",
        "- Ensure the split is made with enough background images in the all subsets.\n",
        "- Have the data and hyp yaml files in the direectory you are running this notebook\n",
        "- Update the data.yaml file to have the correct paths\n"
      ]
    },
    {
      "cell_type": "markdown",
      "metadata": {
        "id": "fxSCFhT0RhVO"
      },
      "source": [
        "Clone the Yolov5 repository"
      ]
    },
    {
      "cell_type": "code",
      "execution_count": null,
      "metadata": {
        "colab": {
          "base_uri": "https://localhost:8080/"
        },
        "id": "RhrzFCGRMo--",
        "outputId": "e71d1f52-0881-4020-8a8e-2cc1f0caba01"
      },
      "outputs": [],
      "source": [
        "!git clone https://github.com/ultralytics/yolov5.git"
      ]
    },
    {
      "cell_type": "markdown",
      "metadata": {
        "id": "f054QGcLRmuY"
      },
      "source": [
        "Install the requirements of the project"
      ]
    },
    {
      "cell_type": "code",
      "execution_count": null,
      "metadata": {
        "colab": {
          "base_uri": "https://localhost:8080/"
        },
        "id": "xKdIzBv0RlWy",
        "outputId": "b12d5abc-3a39-4b9c-9298-555d5ef7ae02"
      },
      "outputs": [],
      "source": [
        "!pip install -r yolov5/requirements.txt\n"
      ]
    },
    {
      "cell_type": "markdown",
      "metadata": {
        "id": "l2_kOoUJWsvD"
      },
      "source": [
        "Download the pre-trained weights for the yolov5 model and run an inital detection on the test set"
      ]
    },
    {
      "cell_type": "code",
      "execution_count": null,
      "metadata": {
        "colab": {
          "base_uri": "https://localhost:8080/"
        },
        "id": "Gp7EGhpDWmW6",
        "outputId": "b56f1a93-d0df-4dc2-a48e-5e63da149fa1"
      },
      "outputs": [],
      "source": [
        "!python yolov5/detect.py --weights yolov5s.pt --source labelled_images/images/test\n"
      ]
    },
    {
      "cell_type": "markdown",
      "metadata": {
        "id": "Yxww835lXVJ6"
      },
      "source": [
        "Fine tune model by training & validating on our labelled images\n"
      ]
    },
    {
      "cell_type": "code",
      "execution_count": null,
      "metadata": {
        "colab": {
          "base_uri": "https://localhost:8080/"
        },
        "id": "hGUwM-4mXT-g",
        "outputId": "745bc157-63f9-4204-db4a-b19f7ba292a0"
      },
      "outputs": [],
      "source": [
        "!python yolov5/train.py --img 640 --batch 16 --epochs 10 --data data.yaml --weights yolov5/yolov5s.pt --hyp hyp.yaml --cache"
      ]
    },
    {
      "cell_type": "markdown",
      "metadata": {
        "id": "031dgeXmX8Xa"
      },
      "source": [
        "Results of the runs can be seen in runs/train/exp directory.\n",
        "\n",
        "Then test the model on the test images to see how well it label them."
      ]
    },
    {
      "cell_type": "code",
      "execution_count": null,
      "metadata": {
        "colab": {
          "base_uri": "https://localhost:8080/"
        },
        "id": "fF6TKzhPXQEp",
        "outputId": "2f748cf2-63ca-45e2-ca10-6bbc3140a053"
      },
      "outputs": [],
      "source": [
        "!python yolov5/detect.py --weights yolov5/runs/train/exp7/weights/best.pt --img 640 --conf 0.50 --source labelled_images/images/test\n",
        "#update the folder number wiith the best weights\n"
      ]
    },
    {
      "cell_type": "markdown",
      "metadata": {
        "id": "g6CME56Vvv6s"
      },
      "source": [
        "Then run best model on all the remaining images to label them"
      ]
    },
    {
      "cell_type": "code",
      "execution_count": null,
      "metadata": {
        "id": "q59B0qYgwm9C"
      },
      "outputs": [],
      "source": [
        "!python yolov5/detect.py --weights yolov5/runs/train/exp7/weights/best.pt --img 640 --conf 0.50 --source all_images\n"
      ]
    },
    {
      "cell_type": "markdown",
      "metadata": {},
      "source": [
        "Then install ONNX, onnx-simplifier, onnx-tf and TensorFlow as we want to save the trained model and it's weights to a TensorFlow compatible format"
      ]
    },
    {
      "cell_type": "code",
      "execution_count": null,
      "metadata": {},
      "outputs": [],
      "source": [
        "!pip install torch onnx onnx-simplifier onnx-tf tensorflow\n"
      ]
    },
    {
      "cell_type": "markdown",
      "metadata": {},
      "source": [
        "Then export the fine tunned YOLOv5 model (best.pt) to ONNX format"
      ]
    },
    {
      "cell_type": "code",
      "execution_count": null,
      "metadata": {},
      "outputs": [],
      "source": [
        "!python yolov5/export.py --weights yolov5/runs/train/exp7/weights/best.pt  --img-size 640 --batch 1 --device cpu --simplify --export onnx\n"
      ]
    },
    {
      "cell_type": "markdown",
      "metadata": {},
      "source": [
        "Then simplify the ONNX model to make it more compatible with tensorflow"
      ]
    },
    {
      "cell_type": "code",
      "execution_count": null,
      "metadata": {},
      "outputs": [],
      "source": [
        "!python -m onnxsim yolov5/yolov5s.onnx yolov5/yolov5s_simplified.onnx\n"
      ]
    },
    {
      "cell_type": "markdown",
      "metadata": {},
      "source": [
        "Finally convert ONNX model to  the TensorFlow format"
      ]
    },
    {
      "cell_type": "code",
      "execution_count": null,
      "metadata": {},
      "outputs": [],
      "source": [
        "!onnx-tf convert -i yolov5/yolov5s_simplified.onnx -o yolov5/yolov5_tf\n"
      ]
    },
    {
      "cell_type": "markdown",
      "metadata": {},
      "source": [
        "Save the yolov5_tf file to be able to load it for furture use"
      ]
    }
  ],
  "metadata": {
    "colab": {
      "provenance": []
    },
    "kernelspec": {
      "display_name": "base",
      "language": "python",
      "name": "python3"
    },
    "language_info": {
      "codemirror_mode": {
        "name": "ipython",
        "version": 3
      },
      "file_extension": ".py",
      "mimetype": "text/x-python",
      "name": "python",
      "nbconvert_exporter": "python",
      "pygments_lexer": "ipython3",
      "version": "3.12.3"
    }
  },
  "nbformat": 4,
  "nbformat_minor": 0
}
