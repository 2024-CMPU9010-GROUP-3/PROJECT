{
 "cells": [
  {
   "cell_type": "markdown",
   "metadata": {},
   "source": [
    "# Auto-labelling using YOLOv8"
   ]
  },
  {
   "cell_type": "code",
   "execution_count": 1,
   "metadata": {},
   "outputs": [
    {
     "name": "stdout",
     "output_type": "stream",
     "text": [
      "Ultralytics 8.3.9  Python-3.9.0 torch-2.4.1+cpu CPU (11th Gen Intel Core(TM) i7-1165G7 2.80GHz)\n",
      "Setup complete  (8 CPUs, 15.8 GB RAM, 331.0/475.8 GB disk)\n"
     ]
    }
   ],
   "source": [
    "import ultralytics\n",
    "from ultralytics import YOLO\n",
    "\n",
    "ultralytics.checks()"
   ]
  },
  {
   "cell_type": "code",
   "execution_count": 2,
   "metadata": {},
   "outputs": [
    {
     "name": "stdout",
     "output_type": "stream",
     "text": [
      "Downloading https://github.com/ultralytics/assets/releases/download/v8.3.0/yolov8n.pt to 'yolov8n.pt'...\n"
     ]
    },
    {
     "name": "stderr",
     "output_type": "stream",
     "text": [
      "100%|██████████| 6.25M/6.25M [00:00<00:00, 22.8MB/s]\n"
     ]
    }
   ],
   "source": [
    "# import model\n",
    "yolo8_model = YOLO(\"yolov8n.pt\") # pre-trained medium model"
   ]
  },
  {
   "cell_type": "code",
   "execution_count": 3,
   "metadata": {},
   "outputs": [],
   "source": [
    "# data path\n",
    "data_config = \"data.yaml\""
   ]
  },
  {
   "cell_type": "code",
   "execution_count": null,
   "metadata": {},
   "outputs": [],
   "source": [
    "# tune model\n",
    "#yolo8_model.tune(data=data_config,\n",
    "                  #epochs=15,\n",
    "                  #iterations=20,\n",
    "                  #optimizer=\"AdamW\",    # Adam + weight decay for less overfitting\n",
    "                  #val=True, # validate during training\n",
    "                  #plots=False,  # skip plotting for faster tuning\n",
    "                  #save=False    # skip checkpointing for faster tuning\n",
    "                  #)"
   ]
  },
  {
   "cell_type": "code",
   "execution_count": 5,
   "metadata": {},
   "outputs": [
    {
     "name": "stdout",
     "output_type": "stream",
     "text": [
      "New https://pypi.org/project/ultralytics/8.3.19 available  Update with 'pip install -U ultralytics'\n",
      "Ultralytics 8.3.9  Python-3.9.0 torch-2.4.1+cpu CPU (11th Gen Intel Core(TM) i7-1165G7 2.80GHz)\n",
      "uns\\detect\train7\\weightest.pt, optimizer=AdamW, verbose=True, seed=1, deterministic=True, single_cls=False, rect=False, cos_lr=False, close_mosaic=10, resume=False, amp=True, fraction=1.0, profile=False, freeze=None, multi_scale=False, overlap_mask=True, mask_ratio=4, dropout=0.0, val=True, split=val, save_json=False, save_hybrid=False, conf=None, iou=0.7, max_det=300, half=False, dnn=False, plots=True, source=None, vid_stride=1, stream_buffer=False, visualize=False, augment=False, agnostic_nms=False, classes=None, retina_masks=False, embed=None, show=False, save_frames=False, save_txt=False, save_conf=False, save_crop=False, show_labels=True, show_conf=True, show_boxes=True, line_width=None, format=torchscript, keras=False, optimize=False, int8=False, dynamic=False, simplify=True, opset=None, workspace=4, nms=False, lr0=0.01, lrf=0.01, momentum=0.937, weight_decay=0.0005, warmup_epochs=3.0, warmup_momentum=0.8, warmup_bias_lr=0.1, box=7.5, cls=0.5, dfl=1.5, pose=12.0, kobj=1.0, label_smoothing=0.0, nbs=64, hsv_h=0.015, hsv_s=0.7, hsv_v=0.4, degrees=0.0, translate=0.1, scale=0.5, shear=0.0, perspective=0.0, flipud=0.0, fliplr=0.5, bgr=0.0, mosaic=1.0, mixup=0.0, copy_paste=0.0, copy_paste_mode=flip, auto_augment=randaugment, erasing=0.4, crop_fraction=1.0, cfg=None, tracker=botsort.yaml, save_dir=runs\\detect\\train72\n",
      "\n",
      "                   from  n    params  module                                       arguments                     \n",
      "  0                  -1  1       464  ultralytics.nn.modules.conv.Conv             [3, 16, 3, 2]                 \n",
      "  1                  -1  1      4672  ultralytics.nn.modules.conv.Conv             [16, 32, 3, 2]                \n",
      "  2                  -1  1      7360  ultralytics.nn.modules.block.C2f             [32, 32, 1, True]             \n",
      "  3                  -1  1     18560  ultralytics.nn.modules.conv.Conv             [32, 64, 3, 2]                \n",
      "  4                  -1  2     49664  ultralytics.nn.modules.block.C2f             [64, 64, 2, True]             \n",
      "  5                  -1  1     73984  ultralytics.nn.modules.conv.Conv             [64, 128, 3, 2]               \n",
      "  6                  -1  2    197632  ultralytics.nn.modules.block.C2f             [128, 128, 2, True]           \n",
      "  7                  -1  1    295424  ultralytics.nn.modules.conv.Conv             [128, 256, 3, 2]              \n",
      "  8                  -1  1    460288  ultralytics.nn.modules.block.C2f             [256, 256, 1, True]           \n",
      "  9                  -1  1    164608  ultralytics.nn.modules.block.SPPF            [256, 256, 5]                 \n",
      " 10                  -1  1         0  torch.nn.modules.upsampling.Upsample         [None, 2, 'nearest']          \n",
      " 11             [-1, 6]  1         0  ultralytics.nn.modules.conv.Concat           [1]                           \n",
      " 12                  -1  1    148224  ultralytics.nn.modules.block.C2f             [384, 128, 1]                 \n",
      " 13                  -1  1         0  torch.nn.modules.upsampling.Upsample         [None, 2, 'nearest']          \n",
      " 14             [-1, 4]  1         0  ultralytics.nn.modules.conv.Concat           [1]                           \n",
      " 15                  -1  1     37248  ultralytics.nn.modules.block.C2f             [192, 64, 1]                  \n",
      " 16                  -1  1     36992  ultralytics.nn.modules.conv.Conv             [64, 64, 3, 2]                \n",
      " 17            [-1, 12]  1         0  ultralytics.nn.modules.conv.Concat           [1]                           \n",
      " 18                  -1  1    123648  ultralytics.nn.modules.block.C2f             [192, 128, 1]                 \n",
      " 19                  -1  1    147712  ultralytics.nn.modules.conv.Conv             [128, 128, 3, 2]              \n",
      " 20             [-1, 9]  1         0  ultralytics.nn.modules.conv.Concat           [1]                           \n",
      " 21                  -1  1    493056  ultralytics.nn.modules.block.C2f             [384, 256, 1]                 \n",
      " 22        [15, 18, 21]  1    430867  ultralytics.nn.modules.head.Detect           [1, [64, 128, 256]]           \n",
      "Model summary: 249 layers, 2,690,403 parameters, 2,690,387 gradients, 6.9 GFLOPs\n",
      "\n",
      "Transferred 391/391 items from pretrained weights\n",
      "Freezing layer 'model.22.dfl.conv.weight'\n",
      "WARNING  imgsz=[400] must be multiple of max stride 32, updating to [416]\n"
     ]
    },
    {
     "name": "stderr",
     "output_type": "stream",
     "text": [
      "\u001b[34m\u001b[1mtrain: \u001b[0mScanning C:\\TUD_MSC\\sem_3\\Magpie_mc\\dataset_ann\\yolov8_n\\labels\\train.cache... 200 images, 66 backgrounds, 0 corrupt: 100%|██████████| 200/200 [00:00<?, ?it/s]\n",
      "\u001b[34m\u001b[1mtrain: \u001b[0mCaching images (0.1GB Disk): 100%|██████████| 200/200 [00:00<00:00, 15372.48it/s]\n",
      "\u001b[34m\u001b[1mval: \u001b[0mScanning C:\\TUD_MSC\\sem_3\\Magpie_mc\\dataset_ann\\yolov8_n\\labels\\val.cache... 51 images, 22 backgrounds, 0 corrupt: 100%|██████████| 51/51 [00:00<?, ?it/s]\n",
      "\u001b[34m\u001b[1mval: \u001b[0mCaching images (0.0GB Disk): 100%|██████████| 51/51 [00:00<00:00, 8509.75it/s]\n"
     ]
    },
    {
     "name": "stdout",
     "output_type": "stream",
     "text": [
      "Plotting labels to runs\\detect\\train72\\labels.jpg... \n",
      "\u001b[34m\u001b[1moptimizer:\u001b[0m AdamW(lr=0.01, momentum=0.937) with parameter groups 63 weight(decay=0.0), 70 weight(decay=0.0005), 69 bias(decay=0.0)\n",
      "Image sizes 416 train, 416 val\n",
      "Using 0 dataloader workers\n",
      "Logging results to \u001b[1mruns\\detect\\train72\u001b[0m\n",
      "Starting training for 20 epochs...\n",
      "\n",
      "      Epoch    GPU_mem   box_loss   cls_loss   dfl_loss  Instances       Size\n"
     ]
    },
    {
     "name": "stderr",
     "output_type": "stream",
     "text": [
      "       1/20         0G      1.716      1.085      1.145         47        416: 100%|██████████| 13/13 [00:40<00:00,  3.10s/it]\n",
      "                 Class     Images  Instances      Box(P          R      mAP50  mAP50-95): 100%|██████████| 2/2 [00:03<00:00,  1.99s/it]"
     ]
    },
    {
     "name": "stdout",
     "output_type": "stream",
     "text": [
      "                   all         51        227      0.478      0.374      0.359     0.0931\n"
     ]
    },
    {
     "name": "stderr",
     "output_type": "stream",
     "text": [
      "\n"
     ]
    },
    {
     "name": "stdout",
     "output_type": "stream",
     "text": [
      "\n",
      "      Epoch    GPU_mem   box_loss   cls_loss   dfl_loss  Instances       Size\n"
     ]
    },
    {
     "name": "stderr",
     "output_type": "stream",
     "text": [
      "       2/20         0G      1.819      1.187      1.149         66        416: 100%|██████████| 13/13 [00:35<00:00,  2.72s/it]\n",
      "                 Class     Images  Instances      Box(P          R      mAP50  mAP50-95): 100%|██████████| 2/2 [00:03<00:00,  1.91s/it]"
     ]
    },
    {
     "name": "stdout",
     "output_type": "stream",
     "text": [
      "                   all         51        227      0.719      0.683       0.71      0.255\n"
     ]
    },
    {
     "name": "stderr",
     "output_type": "stream",
     "text": [
      "\n"
     ]
    },
    {
     "name": "stdout",
     "output_type": "stream",
     "text": [
      "\n",
      "      Epoch    GPU_mem   box_loss   cls_loss   dfl_loss  Instances       Size\n"
     ]
    },
    {
     "name": "stderr",
     "output_type": "stream",
     "text": [
      "       3/20         0G      1.743      1.172      1.111         70        416: 100%|██████████| 13/13 [00:37<00:00,  2.90s/it]\n",
      "                 Class     Images  Instances      Box(P          R      mAP50  mAP50-95): 100%|██████████| 2/2 [00:07<00:00,  3.79s/it]"
     ]
    },
    {
     "name": "stdout",
     "output_type": "stream",
     "text": [
      "                   all         51        227     0.0328     0.0705    0.00674    0.00166\n"
     ]
    },
    {
     "name": "stderr",
     "output_type": "stream",
     "text": [
      "\n"
     ]
    },
    {
     "name": "stdout",
     "output_type": "stream",
     "text": [
      "\n",
      "      Epoch    GPU_mem   box_loss   cls_loss   dfl_loss  Instances       Size\n"
     ]
    },
    {
     "name": "stderr",
     "output_type": "stream",
     "text": [
      "       4/20         0G      1.775      1.122      1.134        117        416: 100%|██████████| 13/13 [00:39<00:00,  3.07s/it]\n",
      "                 Class     Images  Instances      Box(P          R      mAP50  mAP50-95): 100%|██████████| 2/2 [00:08<00:00,  4.00s/it]"
     ]
    },
    {
     "name": "stdout",
     "output_type": "stream",
     "text": [
      "                   all         51        227    0.00423      0.264    0.00267   0.000874\n"
     ]
    },
    {
     "name": "stderr",
     "output_type": "stream",
     "text": [
      "\n"
     ]
    },
    {
     "name": "stdout",
     "output_type": "stream",
     "text": [
      "\n",
      "      Epoch    GPU_mem   box_loss   cls_loss   dfl_loss  Instances       Size\n"
     ]
    },
    {
     "name": "stderr",
     "output_type": "stream",
     "text": [
      "       5/20         0G        1.8      1.141       1.14         91        416: 100%|██████████| 13/13 [00:39<00:00,  3.07s/it]\n",
      "                 Class     Images  Instances      Box(P          R      mAP50  mAP50-95): 100%|██████████| 2/2 [00:07<00:00,  3.81s/it]"
     ]
    },
    {
     "name": "stdout",
     "output_type": "stream",
     "text": [
      "                   all         51        227     0.0137     0.0793     0.0185    0.00367\n"
     ]
    },
    {
     "name": "stderr",
     "output_type": "stream",
     "text": [
      "\n"
     ]
    },
    {
     "name": "stdout",
     "output_type": "stream",
     "text": [
      "\n",
      "      Epoch    GPU_mem   box_loss   cls_loss   dfl_loss  Instances       Size\n"
     ]
    },
    {
     "name": "stderr",
     "output_type": "stream",
     "text": [
      "       6/20         0G      1.829      1.168       1.13         94        416: 100%|██████████| 13/13 [00:37<00:00,  2.88s/it]\n",
      "                 Class     Images  Instances      Box(P          R      mAP50  mAP50-95): 100%|██████████| 2/2 [00:06<00:00,  3.46s/it]"
     ]
    },
    {
     "name": "stdout",
     "output_type": "stream",
     "text": [
      "                   all         51        227      0.091     0.0396      0.015    0.00301\n"
     ]
    },
    {
     "name": "stderr",
     "output_type": "stream",
     "text": [
      "\n"
     ]
    },
    {
     "name": "stdout",
     "output_type": "stream",
     "text": [
      "\n",
      "      Epoch    GPU_mem   box_loss   cls_loss   dfl_loss  Instances       Size\n"
     ]
    },
    {
     "name": "stderr",
     "output_type": "stream",
     "text": [
      "       7/20         0G      1.839      1.193      1.127         64        416: 100%|██████████| 13/13 [00:36<00:00,  2.80s/it]\n",
      "                 Class     Images  Instances      Box(P          R      mAP50  mAP50-95): 100%|██████████| 2/2 [00:07<00:00,  3.54s/it]"
     ]
    },
    {
     "name": "stdout",
     "output_type": "stream",
     "text": [
      "                   all         51        227     0.0162      0.106    0.00382   0.000779\n"
     ]
    },
    {
     "name": "stderr",
     "output_type": "stream",
     "text": [
      "\n"
     ]
    },
    {
     "name": "stdout",
     "output_type": "stream",
     "text": [
      "\n",
      "      Epoch    GPU_mem   box_loss   cls_loss   dfl_loss  Instances       Size\n"
     ]
    },
    {
     "name": "stderr",
     "output_type": "stream",
     "text": [
      "       8/20         0G       1.79      1.165      1.159         32        416: 100%|██████████| 13/13 [00:37<00:00,  2.90s/it]\n",
      "                 Class     Images  Instances      Box(P          R      mAP50  mAP50-95): 100%|██████████| 2/2 [00:05<00:00,  2.59s/it]"
     ]
    },
    {
     "name": "stdout",
     "output_type": "stream",
     "text": [
      "                   all         51        227      0.116      0.106     0.0324    0.00682\n"
     ]
    },
    {
     "name": "stderr",
     "output_type": "stream",
     "text": [
      "\n"
     ]
    },
    {
     "name": "stdout",
     "output_type": "stream",
     "text": [
      "\n",
      "      Epoch    GPU_mem   box_loss   cls_loss   dfl_loss  Instances       Size\n"
     ]
    },
    {
     "name": "stderr",
     "output_type": "stream",
     "text": [
      "       9/20         0G      1.757      1.151       1.11        122        416: 100%|██████████| 13/13 [00:37<00:00,  2.85s/it]\n",
      "                 Class     Images  Instances      Box(P          R      mAP50  mAP50-95): 100%|██████████| 2/2 [00:03<00:00,  1.93s/it]"
     ]
    },
    {
     "name": "stdout",
     "output_type": "stream",
     "text": [
      "                   all         51        227      0.769      0.705      0.742      0.313\n"
     ]
    },
    {
     "name": "stderr",
     "output_type": "stream",
     "text": [
      "\n"
     ]
    },
    {
     "name": "stdout",
     "output_type": "stream",
     "text": [
      "\n",
      "      Epoch    GPU_mem   box_loss   cls_loss   dfl_loss  Instances       Size\n"
     ]
    },
    {
     "name": "stderr",
     "output_type": "stream",
     "text": [
      "      10/20         0G      1.779      1.085       1.14         74        416: 100%|██████████| 13/13 [00:36<00:00,  2.83s/it]\n",
      "                 Class     Images  Instances      Box(P          R      mAP50  mAP50-95): 100%|██████████| 2/2 [00:04<00:00,  2.05s/it]"
     ]
    },
    {
     "name": "stdout",
     "output_type": "stream",
     "text": [
      "                   all         51        227      0.513      0.414      0.443      0.134\n"
     ]
    },
    {
     "name": "stderr",
     "output_type": "stream",
     "text": [
      "\n"
     ]
    },
    {
     "name": "stdout",
     "output_type": "stream",
     "text": [
      "Closing dataloader mosaic\n",
      "\n",
      "      Epoch    GPU_mem   box_loss   cls_loss   dfl_loss  Instances       Size\n"
     ]
    },
    {
     "name": "stderr",
     "output_type": "stream",
     "text": [
      "      11/20         0G      1.675       1.07       1.14         25        416: 100%|██████████| 13/13 [00:38<00:00,  2.94s/it]\n",
      "                 Class     Images  Instances      Box(P          R      mAP50  mAP50-95): 100%|██████████| 2/2 [00:03<00:00,  1.88s/it]"
     ]
    },
    {
     "name": "stdout",
     "output_type": "stream",
     "text": [
      "                   all         51        227      0.643      0.658      0.641      0.265\n"
     ]
    },
    {
     "name": "stderr",
     "output_type": "stream",
     "text": [
      "\n"
     ]
    },
    {
     "name": "stdout",
     "output_type": "stream",
     "text": [
      "\n",
      "      Epoch    GPU_mem   box_loss   cls_loss   dfl_loss  Instances       Size\n"
     ]
    },
    {
     "name": "stderr",
     "output_type": "stream",
     "text": [
      "      12/20         0G      1.675      1.095      1.152        116        416: 100%|██████████| 13/13 [00:36<00:00,  2.82s/it]\n",
      "                 Class     Images  Instances      Box(P          R      mAP50  mAP50-95): 100%|██████████| 2/2 [00:03<00:00,  1.98s/it]"
     ]
    },
    {
     "name": "stdout",
     "output_type": "stream",
     "text": [
      "                   all         51        227      0.676       0.67      0.628      0.222\n"
     ]
    },
    {
     "name": "stderr",
     "output_type": "stream",
     "text": [
      "\n"
     ]
    },
    {
     "name": "stdout",
     "output_type": "stream",
     "text": [
      "\n",
      "      Epoch    GPU_mem   box_loss   cls_loss   dfl_loss  Instances       Size\n"
     ]
    },
    {
     "name": "stderr",
     "output_type": "stream",
     "text": [
      "      13/20         0G       1.66      1.041      1.126         45        416: 100%|██████████| 13/13 [00:37<00:00,  2.87s/it]\n",
      "                 Class     Images  Instances      Box(P          R      mAP50  mAP50-95): 100%|██████████| 2/2 [00:03<00:00,  1.93s/it]"
     ]
    },
    {
     "name": "stdout",
     "output_type": "stream",
     "text": [
      "                   all         51        227      0.708      0.717      0.685      0.294\n"
     ]
    },
    {
     "name": "stderr",
     "output_type": "stream",
     "text": [
      "\n"
     ]
    },
    {
     "name": "stdout",
     "output_type": "stream",
     "text": [
      "\n",
      "      Epoch    GPU_mem   box_loss   cls_loss   dfl_loss  Instances       Size\n"
     ]
    },
    {
     "name": "stderr",
     "output_type": "stream",
     "text": [
      "      14/20         0G      1.619      1.046      1.124         27        416: 100%|██████████| 13/13 [00:37<00:00,  2.86s/it]\n",
      "                 Class     Images  Instances      Box(P          R      mAP50  mAP50-95): 100%|██████████| 2/2 [00:03<00:00,  1.98s/it]"
     ]
    },
    {
     "name": "stdout",
     "output_type": "stream",
     "text": [
      "                   all         51        227      0.748      0.731      0.701      0.318\n"
     ]
    },
    {
     "name": "stderr",
     "output_type": "stream",
     "text": [
      "\n"
     ]
    },
    {
     "name": "stdout",
     "output_type": "stream",
     "text": [
      "\n",
      "      Epoch    GPU_mem   box_loss   cls_loss   dfl_loss  Instances       Size\n"
     ]
    },
    {
     "name": "stderr",
     "output_type": "stream",
     "text": [
      "      15/20         0G      1.557      1.006      1.118         73        416: 100%|██████████| 13/13 [00:38<00:00,  2.93s/it]\n",
      "                 Class     Images  Instances      Box(P          R      mAP50  mAP50-95): 100%|██████████| 2/2 [00:04<00:00,  2.00s/it]"
     ]
    },
    {
     "name": "stdout",
     "output_type": "stream",
     "text": [
      "                   all         51        227      0.763      0.753      0.703      0.298\n"
     ]
    },
    {
     "name": "stderr",
     "output_type": "stream",
     "text": [
      "\n"
     ]
    },
    {
     "name": "stdout",
     "output_type": "stream",
     "text": [
      "\n",
      "      Epoch    GPU_mem   box_loss   cls_loss   dfl_loss  Instances       Size\n"
     ]
    },
    {
     "name": "stderr",
     "output_type": "stream",
     "text": [
      "      16/20         0G      1.594     0.9776      1.115         46        416: 100%|██████████| 13/13 [00:36<00:00,  2.80s/it]\n",
      "                 Class     Images  Instances      Box(P          R      mAP50  mAP50-95): 100%|██████████| 2/2 [00:03<00:00,  1.97s/it]"
     ]
    },
    {
     "name": "stdout",
     "output_type": "stream",
     "text": [
      "                   all         51        227      0.834      0.784      0.797      0.371\n"
     ]
    },
    {
     "name": "stderr",
     "output_type": "stream",
     "text": [
      "\n"
     ]
    },
    {
     "name": "stdout",
     "output_type": "stream",
     "text": [
      "\n",
      "      Epoch    GPU_mem   box_loss   cls_loss   dfl_loss  Instances       Size\n"
     ]
    },
    {
     "name": "stderr",
     "output_type": "stream",
     "text": [
      "      17/20         0G      1.556     0.9553      1.111         37        416: 100%|██████████| 13/13 [00:37<00:00,  2.87s/it]\n",
      "                 Class     Images  Instances      Box(P          R      mAP50  mAP50-95): 100%|██████████| 2/2 [00:03<00:00,  1.95s/it]"
     ]
    },
    {
     "name": "stdout",
     "output_type": "stream",
     "text": [
      "                   all         51        227      0.825      0.824      0.824      0.377\n"
     ]
    },
    {
     "name": "stderr",
     "output_type": "stream",
     "text": [
      "\n"
     ]
    },
    {
     "name": "stdout",
     "output_type": "stream",
     "text": [
      "\n",
      "      Epoch    GPU_mem   box_loss   cls_loss   dfl_loss  Instances       Size\n"
     ]
    },
    {
     "name": "stderr",
     "output_type": "stream",
     "text": [
      "      18/20         0G      1.547      0.923      1.107         29        416: 100%|██████████| 13/13 [00:35<00:00,  2.76s/it]\n",
      "                 Class     Images  Instances      Box(P          R      mAP50  mAP50-95): 100%|██████████| 2/2 [00:03<00:00,  1.91s/it]"
     ]
    },
    {
     "name": "stdout",
     "output_type": "stream",
     "text": [
      "                   all         51        227      0.827      0.789      0.821      0.386\n"
     ]
    },
    {
     "name": "stderr",
     "output_type": "stream",
     "text": [
      "\n"
     ]
    },
    {
     "name": "stdout",
     "output_type": "stream",
     "text": [
      "\n",
      "      Epoch    GPU_mem   box_loss   cls_loss   dfl_loss  Instances       Size\n"
     ]
    },
    {
     "name": "stderr",
     "output_type": "stream",
     "text": [
      "      19/20         0G       1.55     0.9167      1.081         45        416: 100%|██████████| 13/13 [00:36<00:00,  2.83s/it]\n",
      "                 Class     Images  Instances      Box(P          R      mAP50  mAP50-95): 100%|██████████| 2/2 [00:03<00:00,  1.93s/it]"
     ]
    },
    {
     "name": "stdout",
     "output_type": "stream",
     "text": [
      "                   all         51        227      0.791      0.846      0.834      0.364\n"
     ]
    },
    {
     "name": "stderr",
     "output_type": "stream",
     "text": [
      "\n"
     ]
    },
    {
     "name": "stdout",
     "output_type": "stream",
     "text": [
      "\n",
      "      Epoch    GPU_mem   box_loss   cls_loss   dfl_loss  Instances       Size\n"
     ]
    },
    {
     "name": "stderr",
     "output_type": "stream",
     "text": [
      "      20/20         0G      1.573     0.9471      1.108         33        416: 100%|██████████| 13/13 [00:36<00:00,  2.80s/it]\n",
      "                 Class     Images  Instances      Box(P          R      mAP50  mAP50-95): 100%|██████████| 2/2 [00:04<00:00,  2.00s/it]"
     ]
    },
    {
     "name": "stdout",
     "output_type": "stream",
     "text": [
      "                   all         51        227      0.833      0.806       0.84      0.387\n"
     ]
    },
    {
     "name": "stderr",
     "output_type": "stream",
     "text": [
      "\n"
     ]
    },
    {
     "name": "stdout",
     "output_type": "stream",
     "text": [
      "\n",
      "20 epochs completed in 0.238 hours.\n",
      "Optimizer stripped from runs\\detect\\train72\\weights\\last.pt, 5.6MB\n",
      "Optimizer stripped from runs\\detect\\train72\\weights\\best.pt, 5.6MB\n",
      "\n",
      "Validating runs\\detect\\train72\\weights\\best.pt...\n",
      "Ultralytics 8.3.9  Python-3.9.0 torch-2.4.1+cpu CPU (11th Gen Intel Core(TM) i7-1165G7 2.80GHz)\n",
      "Model summary (fused): 186 layers, 2,684,563 parameters, 0 gradients, 6.8 GFLOPs\n"
     ]
    },
    {
     "name": "stderr",
     "output_type": "stream",
     "text": [
      "                 Class     Images  Instances      Box(P          R      mAP50  mAP50-95): 100%|██████████| 2/2 [00:03<00:00,  1.67s/it]\n"
     ]
    },
    {
     "name": "stdout",
     "output_type": "stream",
     "text": [
      "                   all         51        227      0.833      0.806       0.84      0.387\n",
      "Speed: 1.3ms preprocess, 55.7ms inference, 0.0ms loss, 0.7ms postprocess per image\n",
      "Results saved to \u001b[1mruns\\detect\\train72\u001b[0m\n"
     ]
    },
    {
     "data": {
      "text/plain": [
       "ultralytics.utils.metrics.DetMetrics object with attributes:\n",
       "\n",
       "ap_class_index: array([0])\n",
       "box: ultralytics.utils.metrics.Metric object\n",
       "confusion_matrix: <ultralytics.utils.metrics.ConfusionMatrix object at 0x00000233BE017C40>\n",
       "curves: ['Precision-Recall(B)', 'F1-Confidence(B)', 'Precision-Confidence(B)', 'Recall-Confidence(B)']\n",
       "curves_results: [[array([          0,    0.001001,    0.002002,    0.003003,    0.004004,    0.005005,    0.006006,    0.007007,    0.008008,    0.009009,     0.01001,    0.011011,    0.012012,    0.013013,    0.014014,    0.015015,    0.016016,    0.017017,    0.018018,    0.019019,     0.02002,    0.021021,    0.022022,    0.023023,\n",
       "          0.024024,    0.025025,    0.026026,    0.027027,    0.028028,    0.029029,     0.03003,    0.031031,    0.032032,    0.033033,    0.034034,    0.035035,    0.036036,    0.037037,    0.038038,    0.039039,     0.04004,    0.041041,    0.042042,    0.043043,    0.044044,    0.045045,    0.046046,    0.047047,\n",
       "          0.048048,    0.049049,     0.05005,    0.051051,    0.052052,    0.053053,    0.054054,    0.055055,    0.056056,    0.057057,    0.058058,    0.059059,     0.06006,    0.061061,    0.062062,    0.063063,    0.064064,    0.065065,    0.066066,    0.067067,    0.068068,    0.069069,     0.07007,    0.071071,\n",
       "          0.072072,    0.073073,    0.074074,    0.075075,    0.076076,    0.077077,    0.078078,    0.079079,     0.08008,    0.081081,    0.082082,    0.083083,    0.084084,    0.085085,    0.086086,    0.087087,    0.088088,    0.089089,     0.09009,    0.091091,    0.092092,    0.093093,    0.094094,    0.095095,\n",
       "          0.096096,    0.097097,    0.098098,    0.099099,      0.1001,      0.1011,      0.1021,      0.1031,      0.1041,     0.10511,     0.10611,     0.10711,     0.10811,     0.10911,     0.11011,     0.11111,     0.11211,     0.11311,     0.11411,     0.11512,     0.11612,     0.11712,     0.11812,     0.11912,\n",
       "           0.12012,     0.12112,     0.12212,     0.12312,     0.12412,     0.12513,     0.12613,     0.12713,     0.12813,     0.12913,     0.13013,     0.13113,     0.13213,     0.13313,     0.13413,     0.13514,     0.13614,     0.13714,     0.13814,     0.13914,     0.14014,     0.14114,     0.14214,     0.14314,\n",
       "           0.14414,     0.14515,     0.14615,     0.14715,     0.14815,     0.14915,     0.15015,     0.15115,     0.15215,     0.15315,     0.15415,     0.15516,     0.15616,     0.15716,     0.15816,     0.15916,     0.16016,     0.16116,     0.16216,     0.16316,     0.16416,     0.16517,     0.16617,     0.16717,\n",
       "           0.16817,     0.16917,     0.17017,     0.17117,     0.17217,     0.17317,     0.17417,     0.17518,     0.17618,     0.17718,     0.17818,     0.17918,     0.18018,     0.18118,     0.18218,     0.18318,     0.18418,     0.18519,     0.18619,     0.18719,     0.18819,     0.18919,     0.19019,     0.19119,\n",
       "           0.19219,     0.19319,     0.19419,      0.1952,      0.1962,      0.1972,      0.1982,      0.1992,      0.2002,      0.2012,      0.2022,      0.2032,      0.2042,     0.20521,     0.20621,     0.20721,     0.20821,     0.20921,     0.21021,     0.21121,     0.21221,     0.21321,     0.21421,     0.21522,\n",
       "           0.21622,     0.21722,     0.21822,     0.21922,     0.22022,     0.22122,     0.22222,     0.22322,     0.22422,     0.22523,     0.22623,     0.22723,     0.22823,     0.22923,     0.23023,     0.23123,     0.23223,     0.23323,     0.23423,     0.23524,     0.23624,     0.23724,     0.23824,     0.23924,\n",
       "           0.24024,     0.24124,     0.24224,     0.24324,     0.24424,     0.24525,     0.24625,     0.24725,     0.24825,     0.24925,     0.25025,     0.25125,     0.25225,     0.25325,     0.25425,     0.25526,     0.25626,     0.25726,     0.25826,     0.25926,     0.26026,     0.26126,     0.26226,     0.26326,\n",
       "           0.26426,     0.26527,     0.26627,     0.26727,     0.26827,     0.26927,     0.27027,     0.27127,     0.27227,     0.27327,     0.27427,     0.27528,     0.27628,     0.27728,     0.27828,     0.27928,     0.28028,     0.28128,     0.28228,     0.28328,     0.28428,     0.28529,     0.28629,     0.28729,\n",
       "           0.28829,     0.28929,     0.29029,     0.29129,     0.29229,     0.29329,     0.29429,      0.2953,      0.2963,      0.2973,      0.2983,      0.2993,      0.3003,      0.3013,      0.3023,      0.3033,      0.3043,     0.30531,     0.30631,     0.30731,     0.30831,     0.30931,     0.31031,     0.31131,\n",
       "           0.31231,     0.31331,     0.31431,     0.31532,     0.31632,     0.31732,     0.31832,     0.31932,     0.32032,     0.32132,     0.32232,     0.32332,     0.32432,     0.32533,     0.32633,     0.32733,     0.32833,     0.32933,     0.33033,     0.33133,     0.33233,     0.33333,     0.33433,     0.33534,\n",
       "           0.33634,     0.33734,     0.33834,     0.33934,     0.34034,     0.34134,     0.34234,     0.34334,     0.34434,     0.34535,     0.34635,     0.34735,     0.34835,     0.34935,     0.35035,     0.35135,     0.35235,     0.35335,     0.35435,     0.35536,     0.35636,     0.35736,     0.35836,     0.35936,\n",
       "           0.36036,     0.36136,     0.36236,     0.36336,     0.36436,     0.36537,     0.36637,     0.36737,     0.36837,     0.36937,     0.37037,     0.37137,     0.37237,     0.37337,     0.37437,     0.37538,     0.37638,     0.37738,     0.37838,     0.37938,     0.38038,     0.38138,     0.38238,     0.38338,\n",
       "           0.38438,     0.38539,     0.38639,     0.38739,     0.38839,     0.38939,     0.39039,     0.39139,     0.39239,     0.39339,     0.39439,      0.3954,      0.3964,      0.3974,      0.3984,      0.3994,      0.4004,      0.4014,      0.4024,      0.4034,      0.4044,     0.40541,     0.40641,     0.40741,\n",
       "           0.40841,     0.40941,     0.41041,     0.41141,     0.41241,     0.41341,     0.41441,     0.41542,     0.41642,     0.41742,     0.41842,     0.41942,     0.42042,     0.42142,     0.42242,     0.42342,     0.42442,     0.42543,     0.42643,     0.42743,     0.42843,     0.42943,     0.43043,     0.43143,\n",
       "           0.43243,     0.43343,     0.43443,     0.43544,     0.43644,     0.43744,     0.43844,     0.43944,     0.44044,     0.44144,     0.44244,     0.44344,     0.44444,     0.44545,     0.44645,     0.44745,     0.44845,     0.44945,     0.45045,     0.45145,     0.45245,     0.45345,     0.45445,     0.45546,\n",
       "           0.45646,     0.45746,     0.45846,     0.45946,     0.46046,     0.46146,     0.46246,     0.46346,     0.46446,     0.46547,     0.46647,     0.46747,     0.46847,     0.46947,     0.47047,     0.47147,     0.47247,     0.47347,     0.47447,     0.47548,     0.47648,     0.47748,     0.47848,     0.47948,\n",
       "           0.48048,     0.48148,     0.48248,     0.48348,     0.48448,     0.48549,     0.48649,     0.48749,     0.48849,     0.48949,     0.49049,     0.49149,     0.49249,     0.49349,     0.49449,      0.4955,      0.4965,      0.4975,      0.4985,      0.4995,      0.5005,      0.5015,      0.5025,      0.5035,\n",
       "            0.5045,     0.50551,     0.50651,     0.50751,     0.50851,     0.50951,     0.51051,     0.51151,     0.51251,     0.51351,     0.51451,     0.51552,     0.51652,     0.51752,     0.51852,     0.51952,     0.52052,     0.52152,     0.52252,     0.52352,     0.52452,     0.52553,     0.52653,     0.52753,\n",
       "           0.52853,     0.52953,     0.53053,     0.53153,     0.53253,     0.53353,     0.53453,     0.53554,     0.53654,     0.53754,     0.53854,     0.53954,     0.54054,     0.54154,     0.54254,     0.54354,     0.54454,     0.54555,     0.54655,     0.54755,     0.54855,     0.54955,     0.55055,     0.55155,\n",
       "           0.55255,     0.55355,     0.55455,     0.55556,     0.55656,     0.55756,     0.55856,     0.55956,     0.56056,     0.56156,     0.56256,     0.56356,     0.56456,     0.56557,     0.56657,     0.56757,     0.56857,     0.56957,     0.57057,     0.57157,     0.57257,     0.57357,     0.57457,     0.57558,\n",
       "           0.57658,     0.57758,     0.57858,     0.57958,     0.58058,     0.58158,     0.58258,     0.58358,     0.58458,     0.58559,     0.58659,     0.58759,     0.58859,     0.58959,     0.59059,     0.59159,     0.59259,     0.59359,     0.59459,      0.5956,      0.5966,      0.5976,      0.5986,      0.5996,\n",
       "            0.6006,      0.6016,      0.6026,      0.6036,      0.6046,     0.60561,     0.60661,     0.60761,     0.60861,     0.60961,     0.61061,     0.61161,     0.61261,     0.61361,     0.61461,     0.61562,     0.61662,     0.61762,     0.61862,     0.61962,     0.62062,     0.62162,     0.62262,     0.62362,\n",
       "           0.62462,     0.62563,     0.62663,     0.62763,     0.62863,     0.62963,     0.63063,     0.63163,     0.63263,     0.63363,     0.63463,     0.63564,     0.63664,     0.63764,     0.63864,     0.63964,     0.64064,     0.64164,     0.64264,     0.64364,     0.64464,     0.64565,     0.64665,     0.64765,\n",
       "           0.64865,     0.64965,     0.65065,     0.65165,     0.65265,     0.65365,     0.65465,     0.65566,     0.65666,     0.65766,     0.65866,     0.65966,     0.66066,     0.66166,     0.66266,     0.66366,     0.66466,     0.66567,     0.66667,     0.66767,     0.66867,     0.66967,     0.67067,     0.67167,\n",
       "           0.67267,     0.67367,     0.67467,     0.67568,     0.67668,     0.67768,     0.67868,     0.67968,     0.68068,     0.68168,     0.68268,     0.68368,     0.68468,     0.68569,     0.68669,     0.68769,     0.68869,     0.68969,     0.69069,     0.69169,     0.69269,     0.69369,     0.69469,      0.6957,\n",
       "            0.6967,      0.6977,      0.6987,      0.6997,      0.7007,      0.7017,      0.7027,      0.7037,      0.7047,     0.70571,     0.70671,     0.70771,     0.70871,     0.70971,     0.71071,     0.71171,     0.71271,     0.71371,     0.71471,     0.71572,     0.71672,     0.71772,     0.71872,     0.71972,\n",
       "           0.72072,     0.72172,     0.72272,     0.72372,     0.72472,     0.72573,     0.72673,     0.72773,     0.72873,     0.72973,     0.73073,     0.73173,     0.73273,     0.73373,     0.73473,     0.73574,     0.73674,     0.73774,     0.73874,     0.73974,     0.74074,     0.74174,     0.74274,     0.74374,\n",
       "           0.74474,     0.74575,     0.74675,     0.74775,     0.74875,     0.74975,     0.75075,     0.75175,     0.75275,     0.75375,     0.75475,     0.75576,     0.75676,     0.75776,     0.75876,     0.75976,     0.76076,     0.76176,     0.76276,     0.76376,     0.76476,     0.76577,     0.76677,     0.76777,\n",
       "           0.76877,     0.76977,     0.77077,     0.77177,     0.77277,     0.77377,     0.77477,     0.77578,     0.77678,     0.77778,     0.77878,     0.77978,     0.78078,     0.78178,     0.78278,     0.78378,     0.78478,     0.78579,     0.78679,     0.78779,     0.78879,     0.78979,     0.79079,     0.79179,\n",
       "           0.79279,     0.79379,     0.79479,      0.7958,      0.7968,      0.7978,      0.7988,      0.7998,      0.8008,      0.8018,      0.8028,      0.8038,      0.8048,     0.80581,     0.80681,     0.80781,     0.80881,     0.80981,     0.81081,     0.81181,     0.81281,     0.81381,     0.81481,     0.81582,\n",
       "           0.81682,     0.81782,     0.81882,     0.81982,     0.82082,     0.82182,     0.82282,     0.82382,     0.82482,     0.82583,     0.82683,     0.82783,     0.82883,     0.82983,     0.83083,     0.83183,     0.83283,     0.83383,     0.83483,     0.83584,     0.83684,     0.83784,     0.83884,     0.83984,\n",
       "           0.84084,     0.84184,     0.84284,     0.84384,     0.84484,     0.84585,     0.84685,     0.84785,     0.84885,     0.84985,     0.85085,     0.85185,     0.85285,     0.85385,     0.85485,     0.85586,     0.85686,     0.85786,     0.85886,     0.85986,     0.86086,     0.86186,     0.86286,     0.86386,\n",
       "           0.86486,     0.86587,     0.86687,     0.86787,     0.86887,     0.86987,     0.87087,     0.87187,     0.87287,     0.87387,     0.87487,     0.87588,     0.87688,     0.87788,     0.87888,     0.87988,     0.88088,     0.88188,     0.88288,     0.88388,     0.88488,     0.88589,     0.88689,     0.88789,\n",
       "           0.88889,     0.88989,     0.89089,     0.89189,     0.89289,     0.89389,     0.89489,      0.8959,      0.8969,      0.8979,      0.8989,      0.8999,      0.9009,      0.9019,      0.9029,      0.9039,      0.9049,     0.90591,     0.90691,     0.90791,     0.90891,     0.90991,     0.91091,     0.91191,\n",
       "           0.91291,     0.91391,     0.91491,     0.91592,     0.91692,     0.91792,     0.91892,     0.91992,     0.92092,     0.92192,     0.92292,     0.92392,     0.92492,     0.92593,     0.92693,     0.92793,     0.92893,     0.92993,     0.93093,     0.93193,     0.93293,     0.93393,     0.93493,     0.93594,\n",
       "           0.93694,     0.93794,     0.93894,     0.93994,     0.94094,     0.94194,     0.94294,     0.94394,     0.94494,     0.94595,     0.94695,     0.94795,     0.94895,     0.94995,     0.95095,     0.95195,     0.95295,     0.95395,     0.95495,     0.95596,     0.95696,     0.95796,     0.95896,     0.95996,\n",
       "           0.96096,     0.96196,     0.96296,     0.96396,     0.96496,     0.96597,     0.96697,     0.96797,     0.96897,     0.96997,     0.97097,     0.97197,     0.97297,     0.97397,     0.97497,     0.97598,     0.97698,     0.97798,     0.97898,     0.97998,     0.98098,     0.98198,     0.98298,     0.98398,\n",
       "           0.98498,     0.98599,     0.98699,     0.98799,     0.98899,     0.98999,     0.99099,     0.99199,     0.99299,     0.99399,     0.99499,       0.996,       0.997,       0.998,       0.999,           1]), array([[          1,           1,           1,           1,           1,     0.95455,     0.95455,     0.95455,     0.95455,     0.95455,     0.95455,     0.95455,     0.95455,     0.95455,     0.95455,     0.95455,     0.95455,     0.95455,     0.95455,     0.95455,     0.95455,     0.95455,     0.95455,\n",
       "            0.95455,     0.95455,     0.95455,     0.95455,     0.95455,     0.95455,     0.95455,     0.95455,     0.95455,     0.95455,     0.95455,     0.95455,     0.95455,     0.95455,     0.95455,     0.95455,     0.95455,     0.95455,     0.95455,     0.95455,     0.95455,     0.95455,     0.95455,\n",
       "            0.95455,     0.95455,     0.95455,     0.95455,     0.95455,     0.95455,     0.95455,     0.95455,     0.95455,     0.95455,     0.95455,     0.95455,     0.95455,     0.95455,     0.95455,     0.95455,     0.95455,     0.95455,     0.95455,     0.95455,     0.95455,     0.95455,     0.95455,\n",
       "            0.95455,     0.95455,     0.95455,     0.95455,     0.95455,     0.95455,     0.95455,     0.95455,     0.95455,     0.95455,     0.95455,     0.95455,     0.95455,     0.95455,     0.95455,     0.95455,     0.95455,     0.95455,     0.95455,     0.95455,     0.95455,     0.95455,     0.95455,\n",
       "            0.95455,        0.94,        0.94,        0.94,        0.94,        0.94,        0.94,        0.94,        0.94,        0.94,        0.94,        0.94,        0.94,        0.94,        0.94,        0.94,        0.94,        0.94,        0.94,        0.94,        0.94,        0.94,        0.94,\n",
       "               0.94,        0.94,        0.94,        0.94,        0.94,        0.94,        0.94,        0.94,        0.94,        0.94,        0.94,        0.94,        0.94,        0.94,        0.94,        0.94,        0.94,        0.94,        0.94,        0.94,        0.94,        0.94,        0.94,\n",
       "               0.94,        0.94,        0.94,        0.94,        0.94,        0.94,        0.94,        0.94,        0.94,        0.94,        0.94,        0.94,        0.94,        0.94,        0.94,        0.94,        0.94,        0.94,        0.94,        0.94,        0.94,        0.94,        0.94,\n",
       "               0.94,        0.94,        0.94,        0.94,        0.94,        0.94,        0.94,        0.94,        0.94,        0.94,        0.94,        0.94,        0.94,        0.94,        0.94,        0.94,        0.94,        0.94,        0.94,        0.94,        0.94,        0.94,        0.94,\n",
       "               0.94,        0.94,        0.94,        0.94,        0.94,        0.94,        0.94,        0.94,        0.94,        0.94,        0.94,        0.94,        0.94,        0.94,        0.94,        0.94,        0.94,        0.94,        0.94,        0.94,        0.94,        0.94,        0.94,\n",
       "               0.94,        0.94,        0.94,        0.94,        0.94,        0.94,        0.94,        0.94,        0.94,        0.94,        0.94,        0.94,        0.94,        0.94,        0.94,        0.94,        0.94,        0.94,        0.94,        0.94,        0.94,        0.94,        0.94,\n",
       "               0.94,        0.94,        0.94,        0.94,        0.94,        0.94,        0.94,        0.94,        0.94,        0.94,        0.94,        0.94,        0.94,        0.94,        0.94,        0.94,        0.94,        0.94,        0.94,        0.94,        0.94,        0.94,        0.94,\n",
       "               0.94,        0.94,        0.94,        0.94,        0.94,        0.94,        0.94,        0.94,        0.94,        0.94,        0.94,        0.94,        0.94,        0.94,        0.94,        0.94,        0.94,        0.94,        0.94,        0.94,        0.94,        0.94,        0.94,\n",
       "               0.94,        0.94,        0.94,        0.94,        0.94,        0.94,        0.94,        0.94,        0.94,        0.94,        0.94,        0.94,        0.94,        0.94,        0.94,        0.94,        0.94,        0.94,        0.94,        0.94,        0.94,        0.94,        0.94,\n",
       "               0.94,        0.94,        0.94,        0.94,        0.94,        0.94,        0.94,        0.94,        0.94,        0.94,        0.94,        0.94,        0.94,        0.94,        0.94,        0.94,        0.94,        0.94,        0.94,        0.94,        0.94,        0.94,        0.94,\n",
       "               0.94,        0.94,        0.94,        0.94,        0.94,        0.94,        0.94,        0.94,        0.94,        0.94,        0.94,        0.94,        0.94,        0.94,        0.94,        0.94,        0.94,        0.94,        0.94,        0.94,        0.94,        0.94,        0.94,\n",
       "               0.94,        0.94,        0.94,        0.94,        0.94,        0.94,        0.94,        0.94,        0.94,        0.94,        0.94,        0.94,        0.94,        0.94,        0.94,        0.94,        0.94,        0.94,        0.94,        0.94,        0.94,        0.94,        0.94,\n",
       "               0.94,        0.94,        0.94,        0.94,        0.94,        0.94,        0.94,        0.94,        0.94,        0.94,        0.94,        0.94,        0.94,        0.94,        0.94,        0.94,        0.94,        0.94,        0.94,        0.94,        0.94,        0.94,        0.94,\n",
       "               0.94,        0.94,        0.94,        0.94,        0.94,        0.94,        0.94,        0.94,        0.94,        0.94,        0.94,        0.94,        0.94,        0.94,        0.94,        0.94,        0.94,        0.94,        0.94,        0.94,        0.94,        0.94,        0.94,\n",
       "            0.93269,     0.93269,     0.93269,     0.93269,     0.93269,     0.93269,     0.93269,     0.93269,     0.93269,     0.93269,     0.93269,     0.93269,     0.93269,     0.93103,     0.93103,     0.93103,     0.93103,     0.93103,     0.93103,     0.93103,     0.93103,     0.93103,     0.93103,\n",
       "            0.93103,     0.93103,     0.93103,     0.93103,     0.93103,     0.93103,     0.93103,     0.93103,     0.93103,     0.93103,     0.93103,     0.93103,     0.93103,     0.93103,     0.93103,     0.93103,     0.93103,     0.93103,     0.93103,     0.93103,     0.93103,     0.93103,     0.93103,\n",
       "            0.93103,     0.93103,     0.93103,     0.93103,     0.93103,     0.93103,     0.93103,     0.93103,     0.93103,     0.93103,     0.93103,     0.93103,     0.93103,     0.93103,     0.93103,     0.93103,     0.92623,     0.92623,     0.92623,     0.92623,     0.92623,     0.92623,     0.92623,\n",
       "            0.92623,     0.92623,     0.92623,     0.92623,     0.92623,     0.92623,     0.92623,     0.92623,     0.92623,     0.92623,     0.92623,     0.92623,     0.92623,     0.92623,     0.92623,     0.92086,     0.92086,     0.92086,     0.92086,     0.92086,     0.92086,     0.92086,     0.92086,\n",
       "            0.92086,     0.92086,     0.92086,     0.92086,     0.92086,     0.92086,     0.92086,     0.92086,     0.92086,     0.92086,     0.92086,     0.92086,     0.92086,     0.92086,     0.92086,     0.92086,     0.92086,     0.92086,     0.92086,     0.92086,     0.92086,     0.92086,     0.92086,\n",
       "            0.92086,     0.92086,     0.92086,     0.92086,     0.92086,     0.92086,     0.92086,     0.92086,     0.92086,     0.92086,     0.92086,     0.92086,     0.92086,     0.92086,     0.92086,     0.92086,     0.92086,     0.92086,     0.92086,     0.92086,     0.92086,     0.92086,     0.92086,\n",
       "            0.92086,     0.92086,     0.92086,     0.92086,     0.92086,     0.92086,     0.92086,     0.92086,     0.92086,     0.92086,     0.92086,     0.92086,     0.91781,     0.91781,     0.91781,     0.91781,     0.91781,     0.91781,     0.91781,     0.91781,     0.91781,     0.91781,     0.91781,\n",
       "            0.91781,     0.91781,     0.91781,     0.91781,     0.91781,     0.91781,     0.91781,     0.91781,     0.91781,     0.91781,     0.91781,     0.91781,     0.91781,     0.91781,     0.91781,     0.91026,     0.91026,     0.91026,     0.91026,     0.91026,     0.91026,     0.91026,     0.91026,\n",
       "            0.91026,     0.91026,     0.91026,     0.91026,     0.91026,     0.91026,     0.91026,     0.91026,     0.91026,     0.91026,     0.91026,     0.91026,     0.91026,     0.91026,     0.91026,     0.91026,     0.91026,     0.91026,     0.91026,     0.91026,     0.91026,     0.91026,     0.91026,\n",
       "            0.91026,     0.91026,     0.91026,     0.91026,     0.90683,     0.90683,     0.90683,     0.90683,     0.90683,     0.90683,     0.90683,     0.90683,     0.90683,     0.90683,     0.90683,     0.90683,     0.90683,     0.90683,     0.90683,     0.90683,     0.90683,     0.90683,     0.90116,\n",
       "            0.90116,     0.90116,     0.90116,     0.90116,     0.90116,     0.90116,     0.90116,     0.90116,     0.90116,     0.90116,     0.90116,     0.90116,     0.90116,     0.90116,     0.90116,     0.90116,     0.90116,     0.90116,     0.90116,     0.90116,     0.90116,     0.90116,     0.90116,\n",
       "            0.90116,     0.90116,     0.90116,     0.90116,     0.90116,     0.90116,     0.90116,     0.90116,     0.90116,     0.90116,     0.90116,     0.90116,     0.90116,     0.90116,     0.90116,     0.90116,     0.89714,     0.89714,     0.89714,     0.89714,     0.89714,     0.89714,     0.89714,\n",
       "            0.89714,     0.89503,     0.89503,     0.89503,     0.89503,     0.89503,     0.89503,     0.89503,     0.89503,     0.89503,     0.89503,     0.89503,     0.89503,     0.89503,     0.89503,     0.89503,     0.89503,     0.89503,     0.89503,     0.89503,     0.89503,     0.89503,     0.89503,\n",
       "            0.89362,     0.89362,     0.89362,     0.89362,     0.89362,     0.89362,     0.89362,     0.89362,     0.89362,     0.89362,     0.89362,     0.89362,     0.89362,     0.89362,     0.89362,     0.89362,     0.89362,     0.89362,     0.89362,     0.89362,     0.89362,     0.89362,     0.89362,\n",
       "            0.89362,     0.89362,     0.89362,     0.89362,     0.88601,     0.88601,     0.88601,     0.88601,     0.88601,     0.88601,     0.88601,     0.88601,     0.88601,     0.88601,     0.88601,     0.88601,     0.88601,     0.88557,     0.88557,     0.88557,     0.88557,     0.88557,     0.88557,\n",
       "            0.88557,     0.88557,     0.88557,     0.88557,     0.88557,     0.88557,     0.88557,     0.88557,     0.88557,     0.88557,     0.88557,     0.88557,     0.88557,     0.88557,     0.88557,     0.88557,     0.88557,     0.88557,     0.88557,     0.88557,     0.88557,     0.88557,     0.88557,\n",
       "            0.88557,     0.88557,     0.88177,     0.88177,     0.88177,     0.88177,     0.87864,     0.87864,     0.87864,     0.87864,     0.87864,     0.87864,     0.87864,     0.87864,     0.87864,     0.87081,     0.87081,     0.87081,     0.87081,     0.83945,     0.83945,     0.83945,     0.83945,\n",
       "            0.83945,     0.82895,     0.82895,     0.82895,     0.82895,     0.82895,     0.82895,     0.82895,     0.82895,     0.82895,     0.82895,     0.82895,     0.82895,     0.82895,     0.82895,     0.82895,     0.82895,     0.82895,     0.82895,     0.82895,     0.82895,     0.82895,     0.82895,\n",
       "            0.82895,     0.82895,     0.82895,     0.82895,     0.82251,     0.82251,     0.82251,     0.82251,     0.82251,     0.81624,     0.81624,     0.81624,     0.81624,     0.80672,     0.80672,     0.80672,     0.80672,     0.80498,     0.80498,     0.80498,     0.80498,     0.80498,     0.80498,\n",
       "            0.80498,     0.80498,     0.80498,     0.79918,     0.79918,     0.79918,     0.79918,     0.79918,     0.79032,     0.79032,     0.79032,     0.79032,     0.74905,     0.74905,     0.74905,     0.74905,     0.73333,     0.73333,     0.73333,     0.73333,     0.73333,     0.71326,     0.71326,\n",
       "            0.71326,     0.71326,     0.71174,     0.71174,     0.71174,     0.71174,     0.71174,     0.70139,     0.70139,     0.70139,     0.70139,     0.70139,     0.70139,     0.70139,     0.70139,     0.57345,     0.57345,     0.57345,     0.57345,     0.57345,     0.54255,     0.54255,     0.54255,\n",
       "            0.54255,     0.46275,     0.46275,     0.46275,     0.46275,     0.46275,     0.43737,     0.43737,     0.43737,     0.43737,     0.36833,     0.36833,     0.36833,     0.36833,     0.36237,     0.36237,     0.36237,     0.36237,     0.36237,     0.35849,     0.35849,     0.35849,     0.35849,\n",
       "            0.34314,     0.34314,     0.34314,     0.34314,     0.34314,     0.32969,     0.32969,     0.32969,     0.32969,     0.32666,     0.32666,     0.32666,     0.32666,     0.30736,     0.30736,     0.30736,     0.30736,     0.30736,     0.28495,     0.28495,     0.28495,     0.28495,     0.22466,\n",
       "            0.22466,     0.22466,     0.22466,     0.22466,     0.21951,     0.21951,     0.21951,     0.21951,     0.21212,     0.21212,     0.21212,     0.21212,     0.19818,     0.19818,     0.19818,     0.19818,     0.19818,     0.17562,     0.17562,     0.17562,     0.17562,     0.13018,     0.13018,\n",
       "            0.13018,     0.13018,     0.13018,     0.12782,     0.12782,     0.12782,     0.12782,      0.1152,      0.1152,      0.1152,      0.1152,     0.10127,     0.10127,     0.10127,     0.10127,     0.10127,    0.080837,    0.080837,    0.080837,    0.080837,    0.072387,    0.066818,     0.06125,\n",
       "           0.055682,    0.050114,    0.044546,    0.038977,    0.033409,    0.027841,    0.022273,    0.016705,    0.011136,   0.0055682,           0]]), 'Recall', 'Precision'], [array([          0,    0.001001,    0.002002,    0.003003,    0.004004,    0.005005,    0.006006,    0.007007,    0.008008,    0.009009,     0.01001,    0.011011,    0.012012,    0.013013,    0.014014,    0.015015,    0.016016,    0.017017,    0.018018,    0.019019,     0.02002,    0.021021,    0.022022,    0.023023,\n",
       "          0.024024,    0.025025,    0.026026,    0.027027,    0.028028,    0.029029,     0.03003,    0.031031,    0.032032,    0.033033,    0.034034,    0.035035,    0.036036,    0.037037,    0.038038,    0.039039,     0.04004,    0.041041,    0.042042,    0.043043,    0.044044,    0.045045,    0.046046,    0.047047,\n",
       "          0.048048,    0.049049,     0.05005,    0.051051,    0.052052,    0.053053,    0.054054,    0.055055,    0.056056,    0.057057,    0.058058,    0.059059,     0.06006,    0.061061,    0.062062,    0.063063,    0.064064,    0.065065,    0.066066,    0.067067,    0.068068,    0.069069,     0.07007,    0.071071,\n",
       "          0.072072,    0.073073,    0.074074,    0.075075,    0.076076,    0.077077,    0.078078,    0.079079,     0.08008,    0.081081,    0.082082,    0.083083,    0.084084,    0.085085,    0.086086,    0.087087,    0.088088,    0.089089,     0.09009,    0.091091,    0.092092,    0.093093,    0.094094,    0.095095,\n",
       "          0.096096,    0.097097,    0.098098,    0.099099,      0.1001,      0.1011,      0.1021,      0.1031,      0.1041,     0.10511,     0.10611,     0.10711,     0.10811,     0.10911,     0.11011,     0.11111,     0.11211,     0.11311,     0.11411,     0.11512,     0.11612,     0.11712,     0.11812,     0.11912,\n",
       "           0.12012,     0.12112,     0.12212,     0.12312,     0.12412,     0.12513,     0.12613,     0.12713,     0.12813,     0.12913,     0.13013,     0.13113,     0.13213,     0.13313,     0.13413,     0.13514,     0.13614,     0.13714,     0.13814,     0.13914,     0.14014,     0.14114,     0.14214,     0.14314,\n",
       "           0.14414,     0.14515,     0.14615,     0.14715,     0.14815,     0.14915,     0.15015,     0.15115,     0.15215,     0.15315,     0.15415,     0.15516,     0.15616,     0.15716,     0.15816,     0.15916,     0.16016,     0.16116,     0.16216,     0.16316,     0.16416,     0.16517,     0.16617,     0.16717,\n",
       "           0.16817,     0.16917,     0.17017,     0.17117,     0.17217,     0.17317,     0.17417,     0.17518,     0.17618,     0.17718,     0.17818,     0.17918,     0.18018,     0.18118,     0.18218,     0.18318,     0.18418,     0.18519,     0.18619,     0.18719,     0.18819,     0.18919,     0.19019,     0.19119,\n",
       "           0.19219,     0.19319,     0.19419,      0.1952,      0.1962,      0.1972,      0.1982,      0.1992,      0.2002,      0.2012,      0.2022,      0.2032,      0.2042,     0.20521,     0.20621,     0.20721,     0.20821,     0.20921,     0.21021,     0.21121,     0.21221,     0.21321,     0.21421,     0.21522,\n",
       "           0.21622,     0.21722,     0.21822,     0.21922,     0.22022,     0.22122,     0.22222,     0.22322,     0.22422,     0.22523,     0.22623,     0.22723,     0.22823,     0.22923,     0.23023,     0.23123,     0.23223,     0.23323,     0.23423,     0.23524,     0.23624,     0.23724,     0.23824,     0.23924,\n",
       "           0.24024,     0.24124,     0.24224,     0.24324,     0.24424,     0.24525,     0.24625,     0.24725,     0.24825,     0.24925,     0.25025,     0.25125,     0.25225,     0.25325,     0.25425,     0.25526,     0.25626,     0.25726,     0.25826,     0.25926,     0.26026,     0.26126,     0.26226,     0.26326,\n",
       "           0.26426,     0.26527,     0.26627,     0.26727,     0.26827,     0.26927,     0.27027,     0.27127,     0.27227,     0.27327,     0.27427,     0.27528,     0.27628,     0.27728,     0.27828,     0.27928,     0.28028,     0.28128,     0.28228,     0.28328,     0.28428,     0.28529,     0.28629,     0.28729,\n",
       "           0.28829,     0.28929,     0.29029,     0.29129,     0.29229,     0.29329,     0.29429,      0.2953,      0.2963,      0.2973,      0.2983,      0.2993,      0.3003,      0.3013,      0.3023,      0.3033,      0.3043,     0.30531,     0.30631,     0.30731,     0.30831,     0.30931,     0.31031,     0.31131,\n",
       "           0.31231,     0.31331,     0.31431,     0.31532,     0.31632,     0.31732,     0.31832,     0.31932,     0.32032,     0.32132,     0.32232,     0.32332,     0.32432,     0.32533,     0.32633,     0.32733,     0.32833,     0.32933,     0.33033,     0.33133,     0.33233,     0.33333,     0.33433,     0.33534,\n",
       "           0.33634,     0.33734,     0.33834,     0.33934,     0.34034,     0.34134,     0.34234,     0.34334,     0.34434,     0.34535,     0.34635,     0.34735,     0.34835,     0.34935,     0.35035,     0.35135,     0.35235,     0.35335,     0.35435,     0.35536,     0.35636,     0.35736,     0.35836,     0.35936,\n",
       "           0.36036,     0.36136,     0.36236,     0.36336,     0.36436,     0.36537,     0.36637,     0.36737,     0.36837,     0.36937,     0.37037,     0.37137,     0.37237,     0.37337,     0.37437,     0.37538,     0.37638,     0.37738,     0.37838,     0.37938,     0.38038,     0.38138,     0.38238,     0.38338,\n",
       "           0.38438,     0.38539,     0.38639,     0.38739,     0.38839,     0.38939,     0.39039,     0.39139,     0.39239,     0.39339,     0.39439,      0.3954,      0.3964,      0.3974,      0.3984,      0.3994,      0.4004,      0.4014,      0.4024,      0.4034,      0.4044,     0.40541,     0.40641,     0.40741,\n",
       "           0.40841,     0.40941,     0.41041,     0.41141,     0.41241,     0.41341,     0.41441,     0.41542,     0.41642,     0.41742,     0.41842,     0.41942,     0.42042,     0.42142,     0.42242,     0.42342,     0.42442,     0.42543,     0.42643,     0.42743,     0.42843,     0.42943,     0.43043,     0.43143,\n",
       "           0.43243,     0.43343,     0.43443,     0.43544,     0.43644,     0.43744,     0.43844,     0.43944,     0.44044,     0.44144,     0.44244,     0.44344,     0.44444,     0.44545,     0.44645,     0.44745,     0.44845,     0.44945,     0.45045,     0.45145,     0.45245,     0.45345,     0.45445,     0.45546,\n",
       "           0.45646,     0.45746,     0.45846,     0.45946,     0.46046,     0.46146,     0.46246,     0.46346,     0.46446,     0.46547,     0.46647,     0.46747,     0.46847,     0.46947,     0.47047,     0.47147,     0.47247,     0.47347,     0.47447,     0.47548,     0.47648,     0.47748,     0.47848,     0.47948,\n",
       "           0.48048,     0.48148,     0.48248,     0.48348,     0.48448,     0.48549,     0.48649,     0.48749,     0.48849,     0.48949,     0.49049,     0.49149,     0.49249,     0.49349,     0.49449,      0.4955,      0.4965,      0.4975,      0.4985,      0.4995,      0.5005,      0.5015,      0.5025,      0.5035,\n",
       "            0.5045,     0.50551,     0.50651,     0.50751,     0.50851,     0.50951,     0.51051,     0.51151,     0.51251,     0.51351,     0.51451,     0.51552,     0.51652,     0.51752,     0.51852,     0.51952,     0.52052,     0.52152,     0.52252,     0.52352,     0.52452,     0.52553,     0.52653,     0.52753,\n",
       "           0.52853,     0.52953,     0.53053,     0.53153,     0.53253,     0.53353,     0.53453,     0.53554,     0.53654,     0.53754,     0.53854,     0.53954,     0.54054,     0.54154,     0.54254,     0.54354,     0.54454,     0.54555,     0.54655,     0.54755,     0.54855,     0.54955,     0.55055,     0.55155,\n",
       "           0.55255,     0.55355,     0.55455,     0.55556,     0.55656,     0.55756,     0.55856,     0.55956,     0.56056,     0.56156,     0.56256,     0.56356,     0.56456,     0.56557,     0.56657,     0.56757,     0.56857,     0.56957,     0.57057,     0.57157,     0.57257,     0.57357,     0.57457,     0.57558,\n",
       "           0.57658,     0.57758,     0.57858,     0.57958,     0.58058,     0.58158,     0.58258,     0.58358,     0.58458,     0.58559,     0.58659,     0.58759,     0.58859,     0.58959,     0.59059,     0.59159,     0.59259,     0.59359,     0.59459,      0.5956,      0.5966,      0.5976,      0.5986,      0.5996,\n",
       "            0.6006,      0.6016,      0.6026,      0.6036,      0.6046,     0.60561,     0.60661,     0.60761,     0.60861,     0.60961,     0.61061,     0.61161,     0.61261,     0.61361,     0.61461,     0.61562,     0.61662,     0.61762,     0.61862,     0.61962,     0.62062,     0.62162,     0.62262,     0.62362,\n",
       "           0.62462,     0.62563,     0.62663,     0.62763,     0.62863,     0.62963,     0.63063,     0.63163,     0.63263,     0.63363,     0.63463,     0.63564,     0.63664,     0.63764,     0.63864,     0.63964,     0.64064,     0.64164,     0.64264,     0.64364,     0.64464,     0.64565,     0.64665,     0.64765,\n",
       "           0.64865,     0.64965,     0.65065,     0.65165,     0.65265,     0.65365,     0.65465,     0.65566,     0.65666,     0.65766,     0.65866,     0.65966,     0.66066,     0.66166,     0.66266,     0.66366,     0.66466,     0.66567,     0.66667,     0.66767,     0.66867,     0.66967,     0.67067,     0.67167,\n",
       "           0.67267,     0.67367,     0.67467,     0.67568,     0.67668,     0.67768,     0.67868,     0.67968,     0.68068,     0.68168,     0.68268,     0.68368,     0.68468,     0.68569,     0.68669,     0.68769,     0.68869,     0.68969,     0.69069,     0.69169,     0.69269,     0.69369,     0.69469,      0.6957,\n",
       "            0.6967,      0.6977,      0.6987,      0.6997,      0.7007,      0.7017,      0.7027,      0.7037,      0.7047,     0.70571,     0.70671,     0.70771,     0.70871,     0.70971,     0.71071,     0.71171,     0.71271,     0.71371,     0.71471,     0.71572,     0.71672,     0.71772,     0.71872,     0.71972,\n",
       "           0.72072,     0.72172,     0.72272,     0.72372,     0.72472,     0.72573,     0.72673,     0.72773,     0.72873,     0.72973,     0.73073,     0.73173,     0.73273,     0.73373,     0.73473,     0.73574,     0.73674,     0.73774,     0.73874,     0.73974,     0.74074,     0.74174,     0.74274,     0.74374,\n",
       "           0.74474,     0.74575,     0.74675,     0.74775,     0.74875,     0.74975,     0.75075,     0.75175,     0.75275,     0.75375,     0.75475,     0.75576,     0.75676,     0.75776,     0.75876,     0.75976,     0.76076,     0.76176,     0.76276,     0.76376,     0.76476,     0.76577,     0.76677,     0.76777,\n",
       "           0.76877,     0.76977,     0.77077,     0.77177,     0.77277,     0.77377,     0.77477,     0.77578,     0.77678,     0.77778,     0.77878,     0.77978,     0.78078,     0.78178,     0.78278,     0.78378,     0.78478,     0.78579,     0.78679,     0.78779,     0.78879,     0.78979,     0.79079,     0.79179,\n",
       "           0.79279,     0.79379,     0.79479,      0.7958,      0.7968,      0.7978,      0.7988,      0.7998,      0.8008,      0.8018,      0.8028,      0.8038,      0.8048,     0.80581,     0.80681,     0.80781,     0.80881,     0.80981,     0.81081,     0.81181,     0.81281,     0.81381,     0.81481,     0.81582,\n",
       "           0.81682,     0.81782,     0.81882,     0.81982,     0.82082,     0.82182,     0.82282,     0.82382,     0.82482,     0.82583,     0.82683,     0.82783,     0.82883,     0.82983,     0.83083,     0.83183,     0.83283,     0.83383,     0.83483,     0.83584,     0.83684,     0.83784,     0.83884,     0.83984,\n",
       "           0.84084,     0.84184,     0.84284,     0.84384,     0.84484,     0.84585,     0.84685,     0.84785,     0.84885,     0.84985,     0.85085,     0.85185,     0.85285,     0.85385,     0.85485,     0.85586,     0.85686,     0.85786,     0.85886,     0.85986,     0.86086,     0.86186,     0.86286,     0.86386,\n",
       "           0.86486,     0.86587,     0.86687,     0.86787,     0.86887,     0.86987,     0.87087,     0.87187,     0.87287,     0.87387,     0.87487,     0.87588,     0.87688,     0.87788,     0.87888,     0.87988,     0.88088,     0.88188,     0.88288,     0.88388,     0.88488,     0.88589,     0.88689,     0.88789,\n",
       "           0.88889,     0.88989,     0.89089,     0.89189,     0.89289,     0.89389,     0.89489,      0.8959,      0.8969,      0.8979,      0.8989,      0.8999,      0.9009,      0.9019,      0.9029,      0.9039,      0.9049,     0.90591,     0.90691,     0.90791,     0.90891,     0.90991,     0.91091,     0.91191,\n",
       "           0.91291,     0.91391,     0.91491,     0.91592,     0.91692,     0.91792,     0.91892,     0.91992,     0.92092,     0.92192,     0.92292,     0.92392,     0.92492,     0.92593,     0.92693,     0.92793,     0.92893,     0.92993,     0.93093,     0.93193,     0.93293,     0.93393,     0.93493,     0.93594,\n",
       "           0.93694,     0.93794,     0.93894,     0.93994,     0.94094,     0.94194,     0.94294,     0.94394,     0.94494,     0.94595,     0.94695,     0.94795,     0.94895,     0.94995,     0.95095,     0.95195,     0.95295,     0.95395,     0.95495,     0.95596,     0.95696,     0.95796,     0.95896,     0.95996,\n",
       "           0.96096,     0.96196,     0.96296,     0.96396,     0.96496,     0.96597,     0.96697,     0.96797,     0.96897,     0.96997,     0.97097,     0.97197,     0.97297,     0.97397,     0.97497,     0.97598,     0.97698,     0.97798,     0.97898,     0.97998,     0.98098,     0.98198,     0.98298,     0.98398,\n",
       "           0.98498,     0.98599,     0.98699,     0.98799,     0.98899,     0.98999,     0.99099,     0.99199,     0.99299,     0.99399,     0.99499,       0.996,       0.997,       0.998,       0.999,           1]), array([[    0.13684,     0.13697,     0.18437,     0.21436,       0.235,     0.25558,     0.27338,     0.28764,     0.30264,     0.31827,     0.32866,     0.33879,     0.35411,     0.36085,     0.37039,       0.381,     0.39022,     0.39926,     0.40657,     0.41629,     0.42508,     0.42993,     0.43686,\n",
       "            0.44136,     0.44814,     0.45302,     0.46164,     0.46586,     0.47466,     0.47796,     0.48388,     0.48717,     0.49372,     0.49937,      0.5057,     0.51203,     0.51424,     0.51726,     0.51841,     0.52192,      0.5236,     0.52979,     0.53861,     0.54058,     0.54574,     0.54724,\n",
       "            0.55197,     0.55818,     0.56402,     0.56832,     0.57406,     0.57609,     0.58112,     0.58534,     0.58832,     0.59146,     0.59324,      0.5989,     0.60312,     0.60587,     0.60844,     0.61172,     0.61193,     0.61543,      0.6184,     0.61952,      0.6208,     0.62393,     0.62788,\n",
       "            0.63095,     0.63482,     0.63674,     0.63713,      0.6376,     0.63946,     0.63999,     0.64051,     0.64623,     0.65078,     0.65108,     0.65138,     0.65168,      0.6538,     0.65602,     0.65664,     0.65768,     0.65844,     0.65892,     0.66219,     0.66499,     0.66643,     0.67006,\n",
       "            0.67088,     0.67299,     0.67378,     0.67436,      0.6753,     0.67473,     0.67552,     0.67714,     0.67924,     0.68108,     0.68469,     0.68537,     0.68775,     0.69055,     0.69147,     0.69345,     0.69551,     0.69784,     0.69867,      0.6994,     0.70123,     0.70211,     0.70285,\n",
       "            0.70358,     0.70468,     0.70544,     0.70597,      0.7067,     0.70857,     0.70974,     0.71275,     0.71341,     0.71393,     0.71429,     0.71464,     0.71499,     0.71552,     0.71607,     0.71661,     0.71714,     0.71766,     0.71818,     0.71869,     0.71916,      0.7196,     0.72004,\n",
       "            0.72086,      0.7217,     0.72241,      0.7234,     0.72446,      0.7254,     0.72662,     0.72982,     0.73079,     0.73192,     0.73223,     0.73254,     0.73285,     0.73316,     0.73476,     0.73572,     0.73646,     0.73717,     0.73831,     0.74039,     0.74099,     0.74271,     0.74411,\n",
       "            0.74569,     0.74747,     0.74916,     0.75102,     0.75124,     0.75146,     0.75168,      0.7519,     0.75212,     0.75236,     0.75318,     0.75385,     0.75422,     0.75458,     0.75494,     0.75816,     0.75891,      0.7596,     0.76019,     0.76078,     0.76204,     0.76474,     0.76553,\n",
       "            0.76599,     0.76645,     0.76815,     0.76854,     0.76894,     0.76933,     0.76968,     0.76999,     0.77029,      0.7706,      0.7709,     0.77115,     0.77138,      0.7716,     0.77183,     0.77206,     0.77228,      0.7727,      0.7739,     0.77457,     0.77521,     0.77585,     0.77649,\n",
       "            0.77733,     0.77905,     0.78302,     0.78444,     0.78267,     0.77994,     0.78049,     0.78103,     0.78157,     0.78211,     0.78265,     0.78291,     0.78307,     0.78323,      0.7834,     0.78356,     0.78373,     0.78389,     0.78406,     0.78422,     0.78442,     0.78468,     0.78494,\n",
       "             0.7852,     0.78546,     0.78572,     0.78509,     0.78601,     0.78639,     0.78602,     0.78565,     0.78528,     0.78491,     0.78454,     0.78417,      0.7852,     0.78659,     0.78795,     0.78902,     0.78978,     0.79046,     0.79075,     0.79103,     0.79131,     0.79159,     0.79187,\n",
       "            0.79363,     0.79391,     0.79419,     0.79448,     0.79476,     0.79504,     0.79526,     0.79543,      0.7956,     0.79576,     0.79593,      0.7961,     0.79626,     0.79643,     0.79659,     0.79676,     0.79594,     0.79499,      0.7949,      0.7965,     0.79764,     0.79786,     0.79808,\n",
       "             0.7983,     0.79852,     0.79874,     0.79896,     0.79918,     0.79984,      0.8005,     0.80102,     0.80142,     0.80182,     0.80222,     0.80307,     0.80357,      0.8018,     0.80331,     0.80357,     0.80384,     0.80411,     0.80437,     0.80464,      0.8049,     0.80528,     0.80566,\n",
       "            0.80605,     0.80644,     0.80687,     0.80732,     0.80777,     0.80823,     0.81017,     0.81046,     0.81074,     0.81102,      0.8113,     0.81158,     0.81241,     0.81326,     0.81527,     0.81593,     0.81659,     0.81693,     0.81722,     0.81751,      0.8178,     0.81809,     0.81841,\n",
       "            0.81924,     0.82007,     0.82137,     0.82205,     0.82243,      0.8228,     0.82317,     0.82354,     0.82376,     0.82397,     0.82419,     0.82441,     0.82462,     0.82484,     0.82506,     0.82524,     0.82463,     0.82403,     0.82342,     0.82281,     0.82319,     0.82361,     0.82403,\n",
       "            0.82446,     0.82525,     0.82612,     0.82689,     0.82764,     0.82775,     0.82718,      0.8266,     0.82603,     0.82562,     0.82628,     0.82693,     0.82742,     0.82772,     0.82801,     0.82831,      0.8286,      0.8289,     0.82891,     0.82858,     0.82824,     0.82791,     0.82757,\n",
       "            0.82724,      0.8269,     0.82656,     0.82626,     0.82595,     0.82565,     0.82534,     0.82504,     0.82473,     0.82442,     0.82412,     0.82555,     0.82542,     0.82497,     0.82453,     0.82408,     0.82363,     0.82332,     0.82356,      0.8238,     0.82404,     0.82428,     0.82452,\n",
       "            0.82476,     0.82499,     0.82536,     0.82576,     0.82616,     0.82657,     0.82702,     0.82758,     0.82814,     0.82858,     0.82811,     0.82765,     0.82718,     0.82672,     0.82625,     0.82715,     0.82837,     0.83022,     0.82707,     0.82518,     0.82406,     0.82299,     0.82271,\n",
       "            0.82242,     0.82213,     0.82184,     0.82156,     0.82127,     0.82098,     0.82069,     0.82041,     0.81947,     0.81852,     0.81843,     0.81716,     0.81721,     0.81746,     0.81771,     0.81796,     0.81822,     0.81847,     0.81872,     0.81894,     0.81915,     0.81937,     0.81958,\n",
       "            0.81979,        0.82,     0.82021,     0.82042,     0.82063,       0.822,     0.82063,     0.81995,     0.82027,     0.82059,      0.8209,     0.82122,     0.82154,     0.82224,     0.82323,     0.82382,     0.82423,     0.82465,     0.82506,     0.82729,     0.82765,       0.828,     0.82836,\n",
       "            0.82871,     0.82907,     0.83113,     0.83136,     0.83159,     0.83182,     0.83205,     0.83227,      0.8325,     0.83273,       0.833,     0.83464,     0.83244,     0.83274,     0.83336,     0.83397,     0.83455,     0.83513,      0.8357,     0.83193,     0.83126,      0.8322,     0.83108,\n",
       "            0.83147,     0.82873,     0.82655,     0.82149,     0.82002,     0.81912,     0.81821,     0.81727,      0.8163,     0.81533,     0.81446,     0.81361,     0.81276,     0.81258,     0.81301,     0.81343,     0.81386,     0.81428,     0.81195,      0.8105,     0.80929,     0.80811,     0.80696,\n",
       "            0.80582,     0.80711,      0.8065,     0.80326,     0.80204,     0.80086,         0.8,     0.79913,     0.79826,     0.79763,     0.79708,     0.79652,     0.79596,      0.7954,      0.7945,     0.79325,      0.7929,     0.79293,     0.79137,     0.78955,     0.78631,     0.78462,     0.78395,\n",
       "            0.78327,      0.7826,      0.7821,     0.78189,     0.78167,     0.78146,     0.78125,     0.78104,     0.78083,     0.78061,      0.7804,     0.78019,     0.77997,     0.77976,     0.77955,     0.77934,     0.77927,     0.78002,     0.78077,     0.78013,      0.7784,     0.77639,     0.77621,\n",
       "            0.77647,     0.77589,      0.7753,     0.77471,     0.77412,     0.77092,      0.7674,     0.75812,     0.75641,     0.75493,     0.75423,     0.75352,     0.75281,     0.75211,     0.74918,     0.74996,     0.75087,     0.75197,       0.743,     0.74063,     0.74084,     0.73822,     0.73457,\n",
       "            0.73383,     0.73308,     0.73233,     0.73158,     0.72722,     0.72442,     0.72321,       0.722,      0.7208,      0.7196,     0.71841,     0.71583,      0.7184,     0.71343,     0.71161,     0.70549,     0.69464,     0.69123,     0.68783,     0.68446,     0.68242,     0.67668,     0.67074,\n",
       "            0.66705,     0.66198,     0.65883,     0.65723,     0.65562,     0.65442,     0.65329,     0.65216,     0.65217,     0.65316,     0.64693,     0.64617,     0.64672,     0.64727,      0.6437,     0.63845,     0.63689,     0.63098,     0.62837,     0.62548,     0.62311,     0.61734,     0.61471,\n",
       "            0.61081,     0.60844,     0.60702,      0.6056,     0.59844,     0.58415,     0.58139,     0.58092,     0.58045,     0.57998,     0.57951,     0.57904,     0.57857,      0.5781,     0.57763,     0.57373,     0.57428,     0.56925,     0.56362,     0.55574,     0.54954,     0.54703,     0.54552,\n",
       "              0.544,     0.53797,     0.53531,     0.52927,     0.52396,     0.52178,     0.51887,     0.51466,     0.50976,     0.50648,      0.4926,       0.481,     0.47905,     0.47707,     0.47317,     0.46279,     0.45886,     0.45627,     0.45477,     0.45328,      0.4501,     0.44353,     0.43001,\n",
       "            0.42547,     0.42297,     0.42046,     0.41442,      0.4106,     0.40809,     0.40559,     0.40629,     0.39991,     0.39683,      0.3944,     0.39228,     0.38975,     0.37656,     0.37143,     0.36861,     0.36691,     0.36594,     0.36497,       0.364,     0.36303,     0.36206,     0.35429,\n",
       "            0.35146,     0.34868,     0.34595,     0.34273,     0.33848,     0.32833,     0.32469,     0.32255,     0.32041,      0.2991,     0.29385,     0.29122,      0.2829,     0.27712,     0.27475,     0.27307,     0.27139,      0.2697,     0.25807,     0.24889,     0.24645,     0.24401,     0.24128,\n",
       "            0.23845,     0.23051,     0.22448,     0.22031,     0.21662,     0.21674,     0.21608,     0.21388,     0.21169,     0.20405,     0.19954,     0.19494,     0.18568,      0.1819,     0.18214,     0.18238,     0.18179,     0.17945,      0.1771,     0.17399,     0.16836,     0.16829,     0.16859,\n",
       "            0.15879,     0.15529,      0.1467,     0.14273,       0.139,     0.13222,     0.12623,     0.12216,     0.11967,     0.11718,     0.11543,     0.11476,     0.11409,     0.11341,     0.11274,     0.11207,      0.1114,     0.11072,     0.11005,     0.10937,      0.1087,     0.10802,     0.10685,\n",
       "            0.10555,     0.10424,     0.10294,     0.10163,     0.10032,    0.097597,    0.094409,    0.091901,    0.091331,     0.09076,    0.090189,    0.089618,    0.089047,    0.088475,    0.087903,    0.087331,    0.086758,    0.086185,    0.085612,    0.085039,    0.084465,    0.082146,    0.075155,\n",
       "           0.070877,    0.066661,    0.062633,    0.057294,    0.051022,    0.050303,    0.049583,    0.048862,    0.048141,     0.04742,    0.046698,    0.045976,    0.045254,     0.04453,    0.043807,    0.043083,    0.041764,    0.040268,    0.038771,    0.037272,    0.035771,    0.033231,    0.025834,\n",
       "           0.025029,    0.024223,    0.023416,     0.02261,    0.021803,    0.020995,    0.020187,    0.019378,    0.018569,     0.01776,    0.016694,    0.015416,    0.014137,    0.012857,    0.011576,    0.010294,   0.0090104,   0.0087529,   0.0087668,           0,           0,           0,           0,\n",
       "                  0,           0,           0,           0,           0,           0,           0,           0,           0,           0,           0,           0,           0,           0,           0,           0,           0,           0,           0,           0,           0,           0,           0,\n",
       "                  0,           0,           0,           0,           0,           0,           0,           0,           0,           0,           0,           0,           0,           0,           0,           0,           0,           0,           0,           0,           0,           0,           0,\n",
       "                  0,           0,           0,           0,           0,           0,           0,           0,           0,           0,           0,           0,           0,           0,           0,           0,           0,           0,           0,           0,           0,           0,           0,\n",
       "                  0,           0,           0,           0,           0,           0,           0,           0,           0,           0,           0,           0,           0,           0,           0,           0,           0,           0,           0,           0,           0,           0,           0,\n",
       "                  0,           0,           0,           0,           0,           0,           0,           0,           0,           0,           0,           0,           0,           0,           0,           0,           0,           0,           0,           0,           0,           0,           0,\n",
       "                  0,           0,           0,           0,           0,           0,           0,           0,           0,           0,           0,           0,           0,           0,           0,           0,           0,           0,           0,           0,           0,           0,           0,\n",
       "                  0,           0,           0,           0,           0,           0,           0,           0,           0,           0,           0,           0,           0,           0,           0,           0,           0,           0,           0,           0,           0,           0,           0,\n",
       "                  0,           0,           0,           0,           0,           0,           0,           0,           0,           0,           0]]), 'Confidence', 'F1'], [array([          0,    0.001001,    0.002002,    0.003003,    0.004004,    0.005005,    0.006006,    0.007007,    0.008008,    0.009009,     0.01001,    0.011011,    0.012012,    0.013013,    0.014014,    0.015015,    0.016016,    0.017017,    0.018018,    0.019019,     0.02002,    0.021021,    0.022022,    0.023023,\n",
       "          0.024024,    0.025025,    0.026026,    0.027027,    0.028028,    0.029029,     0.03003,    0.031031,    0.032032,    0.033033,    0.034034,    0.035035,    0.036036,    0.037037,    0.038038,    0.039039,     0.04004,    0.041041,    0.042042,    0.043043,    0.044044,    0.045045,    0.046046,    0.047047,\n",
       "          0.048048,    0.049049,     0.05005,    0.051051,    0.052052,    0.053053,    0.054054,    0.055055,    0.056056,    0.057057,    0.058058,    0.059059,     0.06006,    0.061061,    0.062062,    0.063063,    0.064064,    0.065065,    0.066066,    0.067067,    0.068068,    0.069069,     0.07007,    0.071071,\n",
       "          0.072072,    0.073073,    0.074074,    0.075075,    0.076076,    0.077077,    0.078078,    0.079079,     0.08008,    0.081081,    0.082082,    0.083083,    0.084084,    0.085085,    0.086086,    0.087087,    0.088088,    0.089089,     0.09009,    0.091091,    0.092092,    0.093093,    0.094094,    0.095095,\n",
       "          0.096096,    0.097097,    0.098098,    0.099099,      0.1001,      0.1011,      0.1021,      0.1031,      0.1041,     0.10511,     0.10611,     0.10711,     0.10811,     0.10911,     0.11011,     0.11111,     0.11211,     0.11311,     0.11411,     0.11512,     0.11612,     0.11712,     0.11812,     0.11912,\n",
       "           0.12012,     0.12112,     0.12212,     0.12312,     0.12412,     0.12513,     0.12613,     0.12713,     0.12813,     0.12913,     0.13013,     0.13113,     0.13213,     0.13313,     0.13413,     0.13514,     0.13614,     0.13714,     0.13814,     0.13914,     0.14014,     0.14114,     0.14214,     0.14314,\n",
       "           0.14414,     0.14515,     0.14615,     0.14715,     0.14815,     0.14915,     0.15015,     0.15115,     0.15215,     0.15315,     0.15415,     0.15516,     0.15616,     0.15716,     0.15816,     0.15916,     0.16016,     0.16116,     0.16216,     0.16316,     0.16416,     0.16517,     0.16617,     0.16717,\n",
       "           0.16817,     0.16917,     0.17017,     0.17117,     0.17217,     0.17317,     0.17417,     0.17518,     0.17618,     0.17718,     0.17818,     0.17918,     0.18018,     0.18118,     0.18218,     0.18318,     0.18418,     0.18519,     0.18619,     0.18719,     0.18819,     0.18919,     0.19019,     0.19119,\n",
       "           0.19219,     0.19319,     0.19419,      0.1952,      0.1962,      0.1972,      0.1982,      0.1992,      0.2002,      0.2012,      0.2022,      0.2032,      0.2042,     0.20521,     0.20621,     0.20721,     0.20821,     0.20921,     0.21021,     0.21121,     0.21221,     0.21321,     0.21421,     0.21522,\n",
       "           0.21622,     0.21722,     0.21822,     0.21922,     0.22022,     0.22122,     0.22222,     0.22322,     0.22422,     0.22523,     0.22623,     0.22723,     0.22823,     0.22923,     0.23023,     0.23123,     0.23223,     0.23323,     0.23423,     0.23524,     0.23624,     0.23724,     0.23824,     0.23924,\n",
       "           0.24024,     0.24124,     0.24224,     0.24324,     0.24424,     0.24525,     0.24625,     0.24725,     0.24825,     0.24925,     0.25025,     0.25125,     0.25225,     0.25325,     0.25425,     0.25526,     0.25626,     0.25726,     0.25826,     0.25926,     0.26026,     0.26126,     0.26226,     0.26326,\n",
       "           0.26426,     0.26527,     0.26627,     0.26727,     0.26827,     0.26927,     0.27027,     0.27127,     0.27227,     0.27327,     0.27427,     0.27528,     0.27628,     0.27728,     0.27828,     0.27928,     0.28028,     0.28128,     0.28228,     0.28328,     0.28428,     0.28529,     0.28629,     0.28729,\n",
       "           0.28829,     0.28929,     0.29029,     0.29129,     0.29229,     0.29329,     0.29429,      0.2953,      0.2963,      0.2973,      0.2983,      0.2993,      0.3003,      0.3013,      0.3023,      0.3033,      0.3043,     0.30531,     0.30631,     0.30731,     0.30831,     0.30931,     0.31031,     0.31131,\n",
       "           0.31231,     0.31331,     0.31431,     0.31532,     0.31632,     0.31732,     0.31832,     0.31932,     0.32032,     0.32132,     0.32232,     0.32332,     0.32432,     0.32533,     0.32633,     0.32733,     0.32833,     0.32933,     0.33033,     0.33133,     0.33233,     0.33333,     0.33433,     0.33534,\n",
       "           0.33634,     0.33734,     0.33834,     0.33934,     0.34034,     0.34134,     0.34234,     0.34334,     0.34434,     0.34535,     0.34635,     0.34735,     0.34835,     0.34935,     0.35035,     0.35135,     0.35235,     0.35335,     0.35435,     0.35536,     0.35636,     0.35736,     0.35836,     0.35936,\n",
       "           0.36036,     0.36136,     0.36236,     0.36336,     0.36436,     0.36537,     0.36637,     0.36737,     0.36837,     0.36937,     0.37037,     0.37137,     0.37237,     0.37337,     0.37437,     0.37538,     0.37638,     0.37738,     0.37838,     0.37938,     0.38038,     0.38138,     0.38238,     0.38338,\n",
       "           0.38438,     0.38539,     0.38639,     0.38739,     0.38839,     0.38939,     0.39039,     0.39139,     0.39239,     0.39339,     0.39439,      0.3954,      0.3964,      0.3974,      0.3984,      0.3994,      0.4004,      0.4014,      0.4024,      0.4034,      0.4044,     0.40541,     0.40641,     0.40741,\n",
       "           0.40841,     0.40941,     0.41041,     0.41141,     0.41241,     0.41341,     0.41441,     0.41542,     0.41642,     0.41742,     0.41842,     0.41942,     0.42042,     0.42142,     0.42242,     0.42342,     0.42442,     0.42543,     0.42643,     0.42743,     0.42843,     0.42943,     0.43043,     0.43143,\n",
       "           0.43243,     0.43343,     0.43443,     0.43544,     0.43644,     0.43744,     0.43844,     0.43944,     0.44044,     0.44144,     0.44244,     0.44344,     0.44444,     0.44545,     0.44645,     0.44745,     0.44845,     0.44945,     0.45045,     0.45145,     0.45245,     0.45345,     0.45445,     0.45546,\n",
       "           0.45646,     0.45746,     0.45846,     0.45946,     0.46046,     0.46146,     0.46246,     0.46346,     0.46446,     0.46547,     0.46647,     0.46747,     0.46847,     0.46947,     0.47047,     0.47147,     0.47247,     0.47347,     0.47447,     0.47548,     0.47648,     0.47748,     0.47848,     0.47948,\n",
       "           0.48048,     0.48148,     0.48248,     0.48348,     0.48448,     0.48549,     0.48649,     0.48749,     0.48849,     0.48949,     0.49049,     0.49149,     0.49249,     0.49349,     0.49449,      0.4955,      0.4965,      0.4975,      0.4985,      0.4995,      0.5005,      0.5015,      0.5025,      0.5035,\n",
       "            0.5045,     0.50551,     0.50651,     0.50751,     0.50851,     0.50951,     0.51051,     0.51151,     0.51251,     0.51351,     0.51451,     0.51552,     0.51652,     0.51752,     0.51852,     0.51952,     0.52052,     0.52152,     0.52252,     0.52352,     0.52452,     0.52553,     0.52653,     0.52753,\n",
       "           0.52853,     0.52953,     0.53053,     0.53153,     0.53253,     0.53353,     0.53453,     0.53554,     0.53654,     0.53754,     0.53854,     0.53954,     0.54054,     0.54154,     0.54254,     0.54354,     0.54454,     0.54555,     0.54655,     0.54755,     0.54855,     0.54955,     0.55055,     0.55155,\n",
       "           0.55255,     0.55355,     0.55455,     0.55556,     0.55656,     0.55756,     0.55856,     0.55956,     0.56056,     0.56156,     0.56256,     0.56356,     0.56456,     0.56557,     0.56657,     0.56757,     0.56857,     0.56957,     0.57057,     0.57157,     0.57257,     0.57357,     0.57457,     0.57558,\n",
       "           0.57658,     0.57758,     0.57858,     0.57958,     0.58058,     0.58158,     0.58258,     0.58358,     0.58458,     0.58559,     0.58659,     0.58759,     0.58859,     0.58959,     0.59059,     0.59159,     0.59259,     0.59359,     0.59459,      0.5956,      0.5966,      0.5976,      0.5986,      0.5996,\n",
       "            0.6006,      0.6016,      0.6026,      0.6036,      0.6046,     0.60561,     0.60661,     0.60761,     0.60861,     0.60961,     0.61061,     0.61161,     0.61261,     0.61361,     0.61461,     0.61562,     0.61662,     0.61762,     0.61862,     0.61962,     0.62062,     0.62162,     0.62262,     0.62362,\n",
       "           0.62462,     0.62563,     0.62663,     0.62763,     0.62863,     0.62963,     0.63063,     0.63163,     0.63263,     0.63363,     0.63463,     0.63564,     0.63664,     0.63764,     0.63864,     0.63964,     0.64064,     0.64164,     0.64264,     0.64364,     0.64464,     0.64565,     0.64665,     0.64765,\n",
       "           0.64865,     0.64965,     0.65065,     0.65165,     0.65265,     0.65365,     0.65465,     0.65566,     0.65666,     0.65766,     0.65866,     0.65966,     0.66066,     0.66166,     0.66266,     0.66366,     0.66466,     0.66567,     0.66667,     0.66767,     0.66867,     0.66967,     0.67067,     0.67167,\n",
       "           0.67267,     0.67367,     0.67467,     0.67568,     0.67668,     0.67768,     0.67868,     0.67968,     0.68068,     0.68168,     0.68268,     0.68368,     0.68468,     0.68569,     0.68669,     0.68769,     0.68869,     0.68969,     0.69069,     0.69169,     0.69269,     0.69369,     0.69469,      0.6957,\n",
       "            0.6967,      0.6977,      0.6987,      0.6997,      0.7007,      0.7017,      0.7027,      0.7037,      0.7047,     0.70571,     0.70671,     0.70771,     0.70871,     0.70971,     0.71071,     0.71171,     0.71271,     0.71371,     0.71471,     0.71572,     0.71672,     0.71772,     0.71872,     0.71972,\n",
       "           0.72072,     0.72172,     0.72272,     0.72372,     0.72472,     0.72573,     0.72673,     0.72773,     0.72873,     0.72973,     0.73073,     0.73173,     0.73273,     0.73373,     0.73473,     0.73574,     0.73674,     0.73774,     0.73874,     0.73974,     0.74074,     0.74174,     0.74274,     0.74374,\n",
       "           0.74474,     0.74575,     0.74675,     0.74775,     0.74875,     0.74975,     0.75075,     0.75175,     0.75275,     0.75375,     0.75475,     0.75576,     0.75676,     0.75776,     0.75876,     0.75976,     0.76076,     0.76176,     0.76276,     0.76376,     0.76476,     0.76577,     0.76677,     0.76777,\n",
       "           0.76877,     0.76977,     0.77077,     0.77177,     0.77277,     0.77377,     0.77477,     0.77578,     0.77678,     0.77778,     0.77878,     0.77978,     0.78078,     0.78178,     0.78278,     0.78378,     0.78478,     0.78579,     0.78679,     0.78779,     0.78879,     0.78979,     0.79079,     0.79179,\n",
       "           0.79279,     0.79379,     0.79479,      0.7958,      0.7968,      0.7978,      0.7988,      0.7998,      0.8008,      0.8018,      0.8028,      0.8038,      0.8048,     0.80581,     0.80681,     0.80781,     0.80881,     0.80981,     0.81081,     0.81181,     0.81281,     0.81381,     0.81481,     0.81582,\n",
       "           0.81682,     0.81782,     0.81882,     0.81982,     0.82082,     0.82182,     0.82282,     0.82382,     0.82482,     0.82583,     0.82683,     0.82783,     0.82883,     0.82983,     0.83083,     0.83183,     0.83283,     0.83383,     0.83483,     0.83584,     0.83684,     0.83784,     0.83884,     0.83984,\n",
       "           0.84084,     0.84184,     0.84284,     0.84384,     0.84484,     0.84585,     0.84685,     0.84785,     0.84885,     0.84985,     0.85085,     0.85185,     0.85285,     0.85385,     0.85485,     0.85586,     0.85686,     0.85786,     0.85886,     0.85986,     0.86086,     0.86186,     0.86286,     0.86386,\n",
       "           0.86486,     0.86587,     0.86687,     0.86787,     0.86887,     0.86987,     0.87087,     0.87187,     0.87287,     0.87387,     0.87487,     0.87588,     0.87688,     0.87788,     0.87888,     0.87988,     0.88088,     0.88188,     0.88288,     0.88388,     0.88488,     0.88589,     0.88689,     0.88789,\n",
       "           0.88889,     0.88989,     0.89089,     0.89189,     0.89289,     0.89389,     0.89489,      0.8959,      0.8969,      0.8979,      0.8989,      0.8999,      0.9009,      0.9019,      0.9029,      0.9039,      0.9049,     0.90591,     0.90691,     0.90791,     0.90891,     0.90991,     0.91091,     0.91191,\n",
       "           0.91291,     0.91391,     0.91491,     0.91592,     0.91692,     0.91792,     0.91892,     0.91992,     0.92092,     0.92192,     0.92292,     0.92392,     0.92492,     0.92593,     0.92693,     0.92793,     0.92893,     0.92993,     0.93093,     0.93193,     0.93293,     0.93393,     0.93493,     0.93594,\n",
       "           0.93694,     0.93794,     0.93894,     0.93994,     0.94094,     0.94194,     0.94294,     0.94394,     0.94494,     0.94595,     0.94695,     0.94795,     0.94895,     0.94995,     0.95095,     0.95195,     0.95295,     0.95395,     0.95495,     0.95596,     0.95696,     0.95796,     0.95896,     0.95996,\n",
       "           0.96096,     0.96196,     0.96296,     0.96396,     0.96496,     0.96597,     0.96697,     0.96797,     0.96897,     0.96997,     0.97097,     0.97197,     0.97297,     0.97397,     0.97497,     0.97598,     0.97698,     0.97798,     0.97898,     0.97998,     0.98098,     0.98198,     0.98298,     0.98398,\n",
       "           0.98498,     0.98599,     0.98699,     0.98799,     0.98899,     0.98999,     0.99099,     0.99199,     0.99299,     0.99399,     0.99499,       0.996,       0.997,       0.998,       0.999,           1]), array([[   0.073515,    0.073593,     0.10178,     0.12044,     0.13379,      0.1473,     0.15925,     0.16901,     0.17962,     0.19074,     0.19844,     0.20587,     0.21753,     0.22288,     0.23047,     0.23874,     0.24603,     0.25326,     0.25917,     0.26713,      0.2744,     0.27846,      0.2843,\n",
       "            0.28854,     0.29436,     0.29859,     0.30612,     0.31033,     0.31819,     0.32116,     0.32653,     0.33064,     0.33671,     0.34199,     0.34858,     0.35462,     0.35741,     0.36034,     0.36214,     0.36558,     0.36795,      0.3741,     0.38295,     0.38494,     0.39019,     0.39173,\n",
       "             0.3966,     0.40304,     0.40916,      0.4137,     0.41981,     0.42199,      0.4274,     0.43199,     0.43626,     0.43973,      0.4417,       0.448,     0.45274,     0.45584,     0.45877,      0.4625,     0.46391,     0.46794,     0.47138,     0.47269,     0.47418,     0.47784,      0.4825,\n",
       "            0.48612,     0.49074,     0.49304,      0.4935,     0.49406,      0.4963,     0.49695,     0.49757,     0.50451,     0.51008,     0.51045,     0.51081,     0.51118,      0.5138,     0.51655,     0.51732,      0.5186,     0.51955,     0.52015,     0.52423,     0.52775,     0.52957,     0.53417,\n",
       "            0.53521,      0.5379,     0.53892,     0.53966,     0.54086,     0.54173,     0.54275,     0.54484,     0.54758,     0.54996,     0.55469,     0.55558,     0.55871,     0.56242,     0.56365,     0.56628,     0.56903,     0.57217,     0.57328,     0.57609,     0.57858,     0.57978,     0.58079,\n",
       "            0.58179,     0.58329,     0.58433,     0.58506,     0.58607,     0.58864,     0.59026,     0.59443,     0.59535,     0.59608,     0.59657,     0.59707,     0.59756,     0.59829,     0.59907,     0.59982,     0.60057,      0.6013,     0.60202,     0.60274,      0.6034,     0.60402,     0.60465,\n",
       "             0.6058,       0.607,       0.608,      0.6094,     0.61091,     0.61224,     0.61398,     0.61857,     0.61996,     0.62159,     0.62204,     0.62249,     0.62294,     0.62338,      0.6257,     0.62709,     0.62817,     0.62919,     0.63086,      0.6339,     0.63478,     0.63731,     0.63938,\n",
       "            0.64172,     0.64435,     0.64688,     0.64965,     0.64998,     0.65031,     0.65064,     0.65097,      0.6513,     0.65166,      0.6529,      0.6539,     0.65445,       0.655,     0.65554,     0.66042,     0.66155,      0.6626,      0.6635,     0.66441,     0.66632,     0.67047,     0.67168,\n",
       "            0.67238,     0.67309,     0.67572,     0.67633,     0.67695,     0.67756,      0.6781,     0.67857,     0.67904,     0.67952,     0.67999,     0.68038,     0.68073,     0.68109,     0.68144,      0.6818,     0.68215,      0.6828,     0.68467,     0.68572,     0.68673,     0.68773,     0.68873,\n",
       "            0.69006,     0.69277,     0.69908,     0.70134,      0.7006,     0.69965,     0.70053,      0.7014,     0.70228,     0.70315,     0.70402,     0.70443,      0.7047,     0.70496,     0.70523,      0.7055,     0.70576,     0.70603,     0.70629,     0.70656,     0.70689,     0.70732,     0.70774,\n",
       "            0.70816,     0.70858,       0.709,     0.71075,     0.71235,     0.71319,     0.71303,     0.71287,     0.71271,     0.71255,     0.71239,     0.71223,     0.71395,     0.71624,     0.71852,     0.72028,     0.72156,      0.7227,     0.72317,     0.72364,     0.72412,     0.72459,     0.72506,\n",
       "            0.72801,     0.72849,     0.72896,     0.72944,     0.72991,     0.73039,     0.73077,     0.73105,     0.73133,     0.73161,     0.73189,     0.73217,     0.73246,     0.73274,     0.73302,      0.7333,     0.73299,      0.7326,     0.73327,     0.73599,     0.73794,     0.73832,      0.7387,\n",
       "            0.73908,     0.73946,     0.73984,     0.74022,     0.74059,     0.74172,     0.74286,     0.74376,     0.74445,     0.74513,     0.74582,     0.74729,     0.74885,     0.74816,     0.75101,     0.75147,     0.75194,      0.7524,     0.75287,     0.75334,      0.7538,     0.75446,     0.75514,\n",
       "            0.75582,      0.7565,     0.75725,     0.75805,     0.75886,     0.75966,      0.7631,      0.7636,      0.7641,      0.7646,      0.7651,     0.76561,     0.76708,      0.7686,     0.77219,     0.77337,     0.77456,     0.77517,      0.7757,     0.77622,     0.77675,     0.77728,     0.77785,\n",
       "            0.77935,     0.78085,      0.7832,     0.78445,     0.78513,     0.78582,      0.7865,     0.78717,     0.78756,     0.78796,     0.78836,     0.78875,     0.78915,     0.78955,     0.78994,     0.79031,     0.79011,      0.7899,     0.78969,     0.78948,     0.79022,       0.791,     0.79178,\n",
       "            0.79256,     0.79403,     0.79563,     0.79706,     0.79846,     0.79909,      0.7989,     0.79871,     0.79852,     0.79852,     0.79975,     0.80098,      0.8019,     0.80246,     0.80301,     0.80356,     0.80412,     0.80467,     0.80493,     0.80482,     0.80471,     0.80461,      0.8045,\n",
       "            0.80439,     0.80428,     0.80417,     0.80407,     0.80397,     0.80387,     0.80377,     0.80367,     0.80357,     0.80347,     0.80337,     0.80623,      0.8066,     0.80645,     0.80631,     0.80617,     0.80602,       0.806,     0.80646,     0.80691,     0.80737,     0.80783,     0.80829,\n",
       "            0.80875,     0.80921,      0.8099,     0.81068,     0.81146,     0.81224,     0.81312,      0.8142,     0.81528,     0.81622,     0.81608,     0.81593,     0.81579,     0.81565,      0.8155,     0.82177,     0.82418,     0.82879,     0.82786,     0.82731,     0.82698,     0.82666,     0.82658,\n",
       "            0.82649,     0.82641,     0.82632,     0.82624,     0.82615,     0.82607,     0.82598,      0.8259,     0.82562,     0.82533,     0.82645,     0.82811,     0.82855,     0.82907,     0.82959,     0.83011,     0.83063,     0.83115,     0.83167,     0.83213,     0.83257,       0.833,     0.83344,\n",
       "            0.83387,     0.83431,     0.83474,     0.83518,     0.83562,     0.83932,     0.83893,     0.83898,     0.83965,     0.84032,     0.84098,     0.84165,     0.84231,      0.8438,     0.84588,     0.84712,       0.848,     0.84888,     0.84975,      0.8545,     0.85526,     0.85602,     0.85678,\n",
       "            0.85754,      0.8583,     0.86273,     0.86323,     0.86372,     0.86421,     0.86471,      0.8652,     0.86569,     0.86619,     0.86676,     0.87033,     0.87025,     0.87141,     0.87276,      0.8741,     0.87539,     0.87665,     0.87791,     0.87774,     0.87887,     0.88098,     0.88146,\n",
       "            0.88487,     0.88493,     0.88448,      0.8834,     0.88309,      0.8829,     0.88271,      0.8825,     0.88229,     0.88209,      0.8819,     0.88171,     0.88153,     0.88198,     0.88299,       0.884,     0.88501,     0.88601,     0.88552,     0.88521,     0.88496,     0.88471,     0.88447,\n",
       "            0.88422,     0.88748,       0.893,     0.89235,      0.8921,     0.89187,      0.8917,     0.89152,     0.89135,     0.89122,     0.89111,     0.89099,     0.89088,     0.89077,     0.89058,     0.89033,     0.89195,     0.89479,     0.89449,     0.89413,     0.89348,     0.89314,     0.89301,\n",
       "            0.89287,     0.89274,     0.89264,      0.8926,     0.89255,     0.89251,     0.89247,     0.89242,     0.89238,     0.89234,      0.8923,     0.89225,     0.89221,     0.89217,     0.89212,     0.89208,     0.89235,     0.89431,     0.89627,     0.89696,     0.89662,     0.89623,      0.8992,\n",
       "            0.90107,     0.90096,     0.90085,     0.90074,     0.90063,     0.90003,     0.89935,     0.89756,     0.89723,     0.89694,      0.8968,     0.89666,     0.89652,     0.89638,     0.89703,     0.89926,     0.90188,     0.90672,     0.90509,     0.90465,     0.91014,     0.90968,     0.90903,\n",
       "             0.9089,     0.90876,     0.90863,      0.9085,     0.90771,      0.9072,     0.90698,     0.90676,     0.90654,     0.90632,      0.9061,     0.90916,      0.9175,     0.91697,     0.91667,     0.91564,     0.92009,     0.91953,     0.91897,     0.91841,     0.91807,     0.91711,     0.91609,\n",
       "            0.91545,     0.91456,       0.914,     0.91372,     0.91343,     0.91321,     0.91301,     0.91281,      0.9151,     0.91996,     0.91891,     0.92054,     0.92279,     0.92505,     0.92562,     0.92479,     0.92454,     0.92358,     0.92509,      0.9304,     0.93004,     0.92916,     0.92875,\n",
       "            0.92814,     0.92776,     0.92754,     0.92731,     0.92616,     0.93239,     0.93197,      0.9319,     0.93183,     0.93175,     0.93168,     0.93161,     0.93154,     0.93146,     0.93139,     0.93366,     0.93991,     0.93921,     0.93841,     0.93727,     0.93636,     0.93598,     0.93575,\n",
       "            0.93552,     0.93459,     0.93418,     0.93322,     0.93236,     0.93201,     0.93152,     0.93082,     0.92999,     0.92942,     0.92695,     0.92479,     0.92442,     0.92404,     0.92328,      0.9212,     0.92039,     0.91985,     0.91954,     0.91922,     0.91855,     0.91712,     0.91406,\n",
       "            0.91299,     0.91239,     0.91179,     0.92382,       0.923,     0.92245,     0.92189,     0.93639,      0.9352,     0.93461,     0.93414,     0.93373,     0.93323,     0.93053,     0.92943,     0.92881,     0.92844,     0.92822,     0.92801,     0.92779,     0.92757,     0.92735,     0.92555,\n",
       "            0.92488,      0.9242,     0.92353,     0.92273,     0.92166,     0.91897,     0.91798,     0.91738,     0.91678,     0.91035,     0.90864,     0.90776,     0.90489,      0.9028,     0.90192,     0.90129,     0.90065,     0.90002,     0.89534,     0.89139,     0.89029,     0.88919,     0.88791,\n",
       "            0.88657,     0.88266,     0.87952,     0.87726,     0.87522,     0.89241,     0.90277,     0.90175,     0.90073,       0.897,     0.89467,     0.89222,     0.88692,     0.88834,     0.90017,     0.91199,     0.91965,     0.91857,     0.91749,     0.91601,     0.91322,     0.93061,     0.94938,\n",
       "            0.95158,     0.95046,     0.94749,     0.94597,     0.94453,     0.94164,     0.93882,      0.9368,     0.93546,     0.93412,     0.93317,     0.93276,     0.93235,     0.93194,     0.93153,     0.93112,     0.93071,      0.9303,     0.92989,     0.92948,     0.92907,     0.92866,     0.92785,\n",
       "            0.92694,     0.92603,     0.92512,     0.92421,      0.9233,     0.92113,     0.91856,     0.91652,     0.91598,     0.91544,      0.9149,     0.91436,     0.91382,     0.91328,     0.91274,      0.9122,     0.91166,     0.91112,     0.91058,     0.91004,      0.9095,     0.90696,     0.89891,\n",
       "            0.89308,     0.88696,     0.88015,     0.87008,      0.8564,     0.85435,     0.85229,     0.85024,     0.84818,     0.84613,     0.84407,     0.84202,     0.83996,     0.83791,     0.83585,      0.8338,     0.82876,     0.82284,     0.81692,     0.81099,     0.80507,     0.79262,     0.74864,\n",
       "             0.7408,     0.73296,     0.72512,     0.71728,     0.70943,     0.70159,     0.69375,     0.68591,     0.67807,     0.67023,     0.65322,     0.62857,     0.60392,     0.57927,     0.55462,     0.52996,     0.50531,     0.66838,     0.88302,           1,           1,           1,           1,\n",
       "                  1,           1,           1,           1,           1,           1,           1,           1,           1,           1,           1,           1,           1,           1,           1,           1,           1,           1,           1,           1,           1,           1,           1,\n",
       "                  1,           1,           1,           1,           1,           1,           1,           1,           1,           1,           1,           1,           1,           1,           1,           1,           1,           1,           1,           1,           1,           1,           1,\n",
       "                  1,           1,           1,           1,           1,           1,           1,           1,           1,           1,           1,           1,           1,           1,           1,           1,           1,           1,           1,           1,           1,           1,           1,\n",
       "                  1,           1,           1,           1,           1,           1,           1,           1,           1,           1,           1,           1,           1,           1,           1,           1,           1,           1,           1,           1,           1,           1,           1,\n",
       "                  1,           1,           1,           1,           1,           1,           1,           1,           1,           1,           1,           1,           1,           1,           1,           1,           1,           1,           1,           1,           1,           1,           1,\n",
       "                  1,           1,           1,           1,           1,           1,           1,           1,           1,           1,           1,           1,           1,           1,           1,           1,           1,           1,           1,           1,           1,           1,           1,\n",
       "                  1,           1,           1,           1,           1,           1,           1,           1,           1,           1,           1,           1,           1,           1,           1,           1,           1,           1,           1,           1,           1,           1,           1,\n",
       "                  1,           1,           1,           1,           1,           1,           1,           1,           1,           1,           1]]), 'Confidence', 'Precision'], [array([          0,    0.001001,    0.002002,    0.003003,    0.004004,    0.005005,    0.006006,    0.007007,    0.008008,    0.009009,     0.01001,    0.011011,    0.012012,    0.013013,    0.014014,    0.015015,    0.016016,    0.017017,    0.018018,    0.019019,     0.02002,    0.021021,    0.022022,    0.023023,\n",
       "          0.024024,    0.025025,    0.026026,    0.027027,    0.028028,    0.029029,     0.03003,    0.031031,    0.032032,    0.033033,    0.034034,    0.035035,    0.036036,    0.037037,    0.038038,    0.039039,     0.04004,    0.041041,    0.042042,    0.043043,    0.044044,    0.045045,    0.046046,    0.047047,\n",
       "          0.048048,    0.049049,     0.05005,    0.051051,    0.052052,    0.053053,    0.054054,    0.055055,    0.056056,    0.057057,    0.058058,    0.059059,     0.06006,    0.061061,    0.062062,    0.063063,    0.064064,    0.065065,    0.066066,    0.067067,    0.068068,    0.069069,     0.07007,    0.071071,\n",
       "          0.072072,    0.073073,    0.074074,    0.075075,    0.076076,    0.077077,    0.078078,    0.079079,     0.08008,    0.081081,    0.082082,    0.083083,    0.084084,    0.085085,    0.086086,    0.087087,    0.088088,    0.089089,     0.09009,    0.091091,    0.092092,    0.093093,    0.094094,    0.095095,\n",
       "          0.096096,    0.097097,    0.098098,    0.099099,      0.1001,      0.1011,      0.1021,      0.1031,      0.1041,     0.10511,     0.10611,     0.10711,     0.10811,     0.10911,     0.11011,     0.11111,     0.11211,     0.11311,     0.11411,     0.11512,     0.11612,     0.11712,     0.11812,     0.11912,\n",
       "           0.12012,     0.12112,     0.12212,     0.12312,     0.12412,     0.12513,     0.12613,     0.12713,     0.12813,     0.12913,     0.13013,     0.13113,     0.13213,     0.13313,     0.13413,     0.13514,     0.13614,     0.13714,     0.13814,     0.13914,     0.14014,     0.14114,     0.14214,     0.14314,\n",
       "           0.14414,     0.14515,     0.14615,     0.14715,     0.14815,     0.14915,     0.15015,     0.15115,     0.15215,     0.15315,     0.15415,     0.15516,     0.15616,     0.15716,     0.15816,     0.15916,     0.16016,     0.16116,     0.16216,     0.16316,     0.16416,     0.16517,     0.16617,     0.16717,\n",
       "           0.16817,     0.16917,     0.17017,     0.17117,     0.17217,     0.17317,     0.17417,     0.17518,     0.17618,     0.17718,     0.17818,     0.17918,     0.18018,     0.18118,     0.18218,     0.18318,     0.18418,     0.18519,     0.18619,     0.18719,     0.18819,     0.18919,     0.19019,     0.19119,\n",
       "           0.19219,     0.19319,     0.19419,      0.1952,      0.1962,      0.1972,      0.1982,      0.1992,      0.2002,      0.2012,      0.2022,      0.2032,      0.2042,     0.20521,     0.20621,     0.20721,     0.20821,     0.20921,     0.21021,     0.21121,     0.21221,     0.21321,     0.21421,     0.21522,\n",
       "           0.21622,     0.21722,     0.21822,     0.21922,     0.22022,     0.22122,     0.22222,     0.22322,     0.22422,     0.22523,     0.22623,     0.22723,     0.22823,     0.22923,     0.23023,     0.23123,     0.23223,     0.23323,     0.23423,     0.23524,     0.23624,     0.23724,     0.23824,     0.23924,\n",
       "           0.24024,     0.24124,     0.24224,     0.24324,     0.24424,     0.24525,     0.24625,     0.24725,     0.24825,     0.24925,     0.25025,     0.25125,     0.25225,     0.25325,     0.25425,     0.25526,     0.25626,     0.25726,     0.25826,     0.25926,     0.26026,     0.26126,     0.26226,     0.26326,\n",
       "           0.26426,     0.26527,     0.26627,     0.26727,     0.26827,     0.26927,     0.27027,     0.27127,     0.27227,     0.27327,     0.27427,     0.27528,     0.27628,     0.27728,     0.27828,     0.27928,     0.28028,     0.28128,     0.28228,     0.28328,     0.28428,     0.28529,     0.28629,     0.28729,\n",
       "           0.28829,     0.28929,     0.29029,     0.29129,     0.29229,     0.29329,     0.29429,      0.2953,      0.2963,      0.2973,      0.2983,      0.2993,      0.3003,      0.3013,      0.3023,      0.3033,      0.3043,     0.30531,     0.30631,     0.30731,     0.30831,     0.30931,     0.31031,     0.31131,\n",
       "           0.31231,     0.31331,     0.31431,     0.31532,     0.31632,     0.31732,     0.31832,     0.31932,     0.32032,     0.32132,     0.32232,     0.32332,     0.32432,     0.32533,     0.32633,     0.32733,     0.32833,     0.32933,     0.33033,     0.33133,     0.33233,     0.33333,     0.33433,     0.33534,\n",
       "           0.33634,     0.33734,     0.33834,     0.33934,     0.34034,     0.34134,     0.34234,     0.34334,     0.34434,     0.34535,     0.34635,     0.34735,     0.34835,     0.34935,     0.35035,     0.35135,     0.35235,     0.35335,     0.35435,     0.35536,     0.35636,     0.35736,     0.35836,     0.35936,\n",
       "           0.36036,     0.36136,     0.36236,     0.36336,     0.36436,     0.36537,     0.36637,     0.36737,     0.36837,     0.36937,     0.37037,     0.37137,     0.37237,     0.37337,     0.37437,     0.37538,     0.37638,     0.37738,     0.37838,     0.37938,     0.38038,     0.38138,     0.38238,     0.38338,\n",
       "           0.38438,     0.38539,     0.38639,     0.38739,     0.38839,     0.38939,     0.39039,     0.39139,     0.39239,     0.39339,     0.39439,      0.3954,      0.3964,      0.3974,      0.3984,      0.3994,      0.4004,      0.4014,      0.4024,      0.4034,      0.4044,     0.40541,     0.40641,     0.40741,\n",
       "           0.40841,     0.40941,     0.41041,     0.41141,     0.41241,     0.41341,     0.41441,     0.41542,     0.41642,     0.41742,     0.41842,     0.41942,     0.42042,     0.42142,     0.42242,     0.42342,     0.42442,     0.42543,     0.42643,     0.42743,     0.42843,     0.42943,     0.43043,     0.43143,\n",
       "           0.43243,     0.43343,     0.43443,     0.43544,     0.43644,     0.43744,     0.43844,     0.43944,     0.44044,     0.44144,     0.44244,     0.44344,     0.44444,     0.44545,     0.44645,     0.44745,     0.44845,     0.44945,     0.45045,     0.45145,     0.45245,     0.45345,     0.45445,     0.45546,\n",
       "           0.45646,     0.45746,     0.45846,     0.45946,     0.46046,     0.46146,     0.46246,     0.46346,     0.46446,     0.46547,     0.46647,     0.46747,     0.46847,     0.46947,     0.47047,     0.47147,     0.47247,     0.47347,     0.47447,     0.47548,     0.47648,     0.47748,     0.47848,     0.47948,\n",
       "           0.48048,     0.48148,     0.48248,     0.48348,     0.48448,     0.48549,     0.48649,     0.48749,     0.48849,     0.48949,     0.49049,     0.49149,     0.49249,     0.49349,     0.49449,      0.4955,      0.4965,      0.4975,      0.4985,      0.4995,      0.5005,      0.5015,      0.5025,      0.5035,\n",
       "            0.5045,     0.50551,     0.50651,     0.50751,     0.50851,     0.50951,     0.51051,     0.51151,     0.51251,     0.51351,     0.51451,     0.51552,     0.51652,     0.51752,     0.51852,     0.51952,     0.52052,     0.52152,     0.52252,     0.52352,     0.52452,     0.52553,     0.52653,     0.52753,\n",
       "           0.52853,     0.52953,     0.53053,     0.53153,     0.53253,     0.53353,     0.53453,     0.53554,     0.53654,     0.53754,     0.53854,     0.53954,     0.54054,     0.54154,     0.54254,     0.54354,     0.54454,     0.54555,     0.54655,     0.54755,     0.54855,     0.54955,     0.55055,     0.55155,\n",
       "           0.55255,     0.55355,     0.55455,     0.55556,     0.55656,     0.55756,     0.55856,     0.55956,     0.56056,     0.56156,     0.56256,     0.56356,     0.56456,     0.56557,     0.56657,     0.56757,     0.56857,     0.56957,     0.57057,     0.57157,     0.57257,     0.57357,     0.57457,     0.57558,\n",
       "           0.57658,     0.57758,     0.57858,     0.57958,     0.58058,     0.58158,     0.58258,     0.58358,     0.58458,     0.58559,     0.58659,     0.58759,     0.58859,     0.58959,     0.59059,     0.59159,     0.59259,     0.59359,     0.59459,      0.5956,      0.5966,      0.5976,      0.5986,      0.5996,\n",
       "            0.6006,      0.6016,      0.6026,      0.6036,      0.6046,     0.60561,     0.60661,     0.60761,     0.60861,     0.60961,     0.61061,     0.61161,     0.61261,     0.61361,     0.61461,     0.61562,     0.61662,     0.61762,     0.61862,     0.61962,     0.62062,     0.62162,     0.62262,     0.62362,\n",
       "           0.62462,     0.62563,     0.62663,     0.62763,     0.62863,     0.62963,     0.63063,     0.63163,     0.63263,     0.63363,     0.63463,     0.63564,     0.63664,     0.63764,     0.63864,     0.63964,     0.64064,     0.64164,     0.64264,     0.64364,     0.64464,     0.64565,     0.64665,     0.64765,\n",
       "           0.64865,     0.64965,     0.65065,     0.65165,     0.65265,     0.65365,     0.65465,     0.65566,     0.65666,     0.65766,     0.65866,     0.65966,     0.66066,     0.66166,     0.66266,     0.66366,     0.66466,     0.66567,     0.66667,     0.66767,     0.66867,     0.66967,     0.67067,     0.67167,\n",
       "           0.67267,     0.67367,     0.67467,     0.67568,     0.67668,     0.67768,     0.67868,     0.67968,     0.68068,     0.68168,     0.68268,     0.68368,     0.68468,     0.68569,     0.68669,     0.68769,     0.68869,     0.68969,     0.69069,     0.69169,     0.69269,     0.69369,     0.69469,      0.6957,\n",
       "            0.6967,      0.6977,      0.6987,      0.6997,      0.7007,      0.7017,      0.7027,      0.7037,      0.7047,     0.70571,     0.70671,     0.70771,     0.70871,     0.70971,     0.71071,     0.71171,     0.71271,     0.71371,     0.71471,     0.71572,     0.71672,     0.71772,     0.71872,     0.71972,\n",
       "           0.72072,     0.72172,     0.72272,     0.72372,     0.72472,     0.72573,     0.72673,     0.72773,     0.72873,     0.72973,     0.73073,     0.73173,     0.73273,     0.73373,     0.73473,     0.73574,     0.73674,     0.73774,     0.73874,     0.73974,     0.74074,     0.74174,     0.74274,     0.74374,\n",
       "           0.74474,     0.74575,     0.74675,     0.74775,     0.74875,     0.74975,     0.75075,     0.75175,     0.75275,     0.75375,     0.75475,     0.75576,     0.75676,     0.75776,     0.75876,     0.75976,     0.76076,     0.76176,     0.76276,     0.76376,     0.76476,     0.76577,     0.76677,     0.76777,\n",
       "           0.76877,     0.76977,     0.77077,     0.77177,     0.77277,     0.77377,     0.77477,     0.77578,     0.77678,     0.77778,     0.77878,     0.77978,     0.78078,     0.78178,     0.78278,     0.78378,     0.78478,     0.78579,     0.78679,     0.78779,     0.78879,     0.78979,     0.79079,     0.79179,\n",
       "           0.79279,     0.79379,     0.79479,      0.7958,      0.7968,      0.7978,      0.7988,      0.7998,      0.8008,      0.8018,      0.8028,      0.8038,      0.8048,     0.80581,     0.80681,     0.80781,     0.80881,     0.80981,     0.81081,     0.81181,     0.81281,     0.81381,     0.81481,     0.81582,\n",
       "           0.81682,     0.81782,     0.81882,     0.81982,     0.82082,     0.82182,     0.82282,     0.82382,     0.82482,     0.82583,     0.82683,     0.82783,     0.82883,     0.82983,     0.83083,     0.83183,     0.83283,     0.83383,     0.83483,     0.83584,     0.83684,     0.83784,     0.83884,     0.83984,\n",
       "           0.84084,     0.84184,     0.84284,     0.84384,     0.84484,     0.84585,     0.84685,     0.84785,     0.84885,     0.84985,     0.85085,     0.85185,     0.85285,     0.85385,     0.85485,     0.85586,     0.85686,     0.85786,     0.85886,     0.85986,     0.86086,     0.86186,     0.86286,     0.86386,\n",
       "           0.86486,     0.86587,     0.86687,     0.86787,     0.86887,     0.86987,     0.87087,     0.87187,     0.87287,     0.87387,     0.87487,     0.87588,     0.87688,     0.87788,     0.87888,     0.87988,     0.88088,     0.88188,     0.88288,     0.88388,     0.88488,     0.88589,     0.88689,     0.88789,\n",
       "           0.88889,     0.88989,     0.89089,     0.89189,     0.89289,     0.89389,     0.89489,      0.8959,      0.8969,      0.8979,      0.8989,      0.8999,      0.9009,      0.9019,      0.9029,      0.9039,      0.9049,     0.90591,     0.90691,     0.90791,     0.90891,     0.90991,     0.91091,     0.91191,\n",
       "           0.91291,     0.91391,     0.91491,     0.91592,     0.91692,     0.91792,     0.91892,     0.91992,     0.92092,     0.92192,     0.92292,     0.92392,     0.92492,     0.92593,     0.92693,     0.92793,     0.92893,     0.92993,     0.93093,     0.93193,     0.93293,     0.93393,     0.93493,     0.93594,\n",
       "           0.93694,     0.93794,     0.93894,     0.93994,     0.94094,     0.94194,     0.94294,     0.94394,     0.94494,     0.94595,     0.94695,     0.94795,     0.94895,     0.94995,     0.95095,     0.95195,     0.95295,     0.95395,     0.95495,     0.95596,     0.95696,     0.95796,     0.95896,     0.95996,\n",
       "           0.96096,     0.96196,     0.96296,     0.96396,     0.96496,     0.96597,     0.96697,     0.96797,     0.96897,     0.96997,     0.97097,     0.97197,     0.97297,     0.97397,     0.97497,     0.97598,     0.97698,     0.97798,     0.97898,     0.97998,     0.98098,     0.98198,     0.98298,     0.98398,\n",
       "           0.98498,     0.98599,     0.98699,     0.98799,     0.98899,     0.98999,     0.99099,     0.99199,     0.99299,     0.99399,     0.99499,       0.996,       0.997,       0.998,       0.999,           1]), array([[    0.98678,     0.98678,     0.97797,     0.97357,     0.96476,     0.96476,     0.96476,     0.96476,     0.96035,     0.96035,     0.95595,     0.95595,     0.95154,     0.94714,     0.94273,     0.94273,     0.94273,     0.94273,     0.94273,     0.94273,     0.94273,     0.94273,     0.94273,\n",
       "            0.93833,     0.93833,     0.93833,     0.93833,     0.93392,     0.93392,     0.93392,     0.93392,     0.92511,     0.92511,     0.92511,      0.9207,      0.9207,      0.9163,      0.9163,     0.91189,     0.91189,     0.90749,     0.90749,     0.90749,     0.90749,     0.90749,     0.90749,\n",
       "            0.90749,     0.90749,     0.90749,     0.90749,     0.90749,     0.90749,     0.90749,     0.90749,     0.90308,     0.90308,     0.90308,     0.90308,     0.90308,     0.90308,     0.90308,     0.90308,     0.89868,     0.89868,     0.89868,     0.89868,     0.89868,     0.89868,     0.89868,\n",
       "            0.89868,     0.89868,     0.89868,     0.89868,     0.89868,     0.89868,     0.89868,     0.89868,     0.89868,     0.89868,     0.89868,     0.89868,     0.89868,     0.89868,     0.89868,     0.89868,     0.89868,     0.89868,     0.89868,     0.89868,     0.89868,     0.89868,     0.89868,\n",
       "            0.89868,     0.89868,     0.89868,     0.89868,     0.89868,     0.89427,     0.89427,     0.89427,     0.89427,     0.89427,     0.89427,     0.89427,     0.89427,     0.89427,     0.89427,     0.89427,     0.89427,     0.89427,     0.89427,     0.88987,     0.88987,     0.88987,     0.88987,\n",
       "            0.88987,     0.88987,     0.88987,     0.88987,     0.88987,     0.88987,     0.88987,     0.88987,     0.88987,     0.88987,     0.88987,     0.88987,     0.88987,     0.88987,     0.88987,     0.88987,     0.88987,     0.88987,     0.88987,     0.88987,     0.88987,     0.88987,     0.88987,\n",
       "            0.88987,     0.88987,     0.88987,     0.88987,     0.88987,     0.88987,     0.88987,     0.88987,     0.88987,     0.88987,     0.88987,     0.88987,     0.88987,     0.88987,     0.88987,     0.88987,     0.88987,     0.88987,     0.88987,     0.88987,     0.88987,     0.88987,     0.88987,\n",
       "            0.88987,     0.88987,     0.88987,     0.88987,     0.88987,     0.88987,     0.88987,     0.88987,     0.88987,     0.88987,     0.88987,     0.88987,     0.88987,     0.88987,     0.88987,     0.88987,     0.88987,     0.88987,     0.88987,     0.88987,     0.88987,     0.88987,     0.88987,\n",
       "            0.88987,     0.88987,     0.88987,     0.88987,     0.88987,     0.88987,     0.88987,     0.88987,     0.88987,     0.88987,     0.88987,     0.88987,     0.88987,     0.88987,     0.88987,     0.88987,     0.88987,     0.88987,     0.88987,     0.88987,     0.88987,     0.88987,     0.88987,\n",
       "            0.88987,     0.88987,     0.88987,     0.88987,     0.88651,     0.88106,     0.88106,     0.88106,     0.88106,     0.88106,     0.88106,     0.88106,     0.88106,     0.88106,     0.88106,     0.88106,     0.88106,     0.88106,     0.88106,     0.88106,     0.88106,     0.88106,     0.88106,\n",
       "            0.88106,     0.88106,     0.88106,      0.8768,     0.87665,     0.87635,     0.87567,     0.87499,     0.87431,     0.87363,     0.87295,     0.87227,     0.87225,     0.87225,     0.87225,     0.87225,     0.87225,     0.87225,     0.87225,     0.87225,     0.87225,     0.87225,     0.87225,\n",
       "            0.87225,     0.87225,     0.87225,     0.87225,     0.87225,     0.87225,     0.87225,     0.87225,     0.87225,     0.87225,     0.87225,     0.87225,     0.87225,     0.87225,     0.87225,     0.87225,     0.87073,       0.869,     0.86784,     0.86784,     0.86784,     0.86784,     0.86784,\n",
       "            0.86784,     0.86784,     0.86784,     0.86784,     0.86784,     0.86784,     0.86784,     0.86784,     0.86784,     0.86784,     0.86784,     0.86784,     0.86691,     0.86373,     0.86344,     0.86344,     0.86344,     0.86344,     0.86344,     0.86344,     0.86344,     0.86344,     0.86344,\n",
       "            0.86344,     0.86344,     0.86344,     0.86344,     0.86344,     0.86344,     0.86344,     0.86344,     0.86344,     0.86344,     0.86344,     0.86344,     0.86344,     0.86344,     0.86344,     0.86344,     0.86344,     0.86344,     0.86344,     0.86344,     0.86344,     0.86344,     0.86344,\n",
       "            0.86344,     0.86344,     0.86344,     0.86344,     0.86344,     0.86344,     0.86344,     0.86344,     0.86344,     0.86344,     0.86344,     0.86344,     0.86344,     0.86344,     0.86344,     0.86339,     0.86232,     0.86124,     0.86016,     0.85908,     0.85903,     0.85903,     0.85903,\n",
       "            0.85903,     0.85903,     0.85903,     0.85903,     0.85903,     0.85854,     0.85753,     0.85652,      0.8555,     0.85463,     0.85463,     0.85463,     0.85463,     0.85463,     0.85463,     0.85463,     0.85463,     0.85463,     0.85437,     0.85378,     0.85319,      0.8526,     0.85201,\n",
       "            0.85142,     0.85083,     0.85024,      0.8497,     0.84917,     0.84864,      0.8481,     0.84757,     0.84703,      0.8465,     0.84596,     0.84581,     0.84513,     0.84436,     0.84358,     0.84281,     0.84203,     0.84141,     0.84141,     0.84141,     0.84141,     0.84141,     0.84141,\n",
       "            0.84141,     0.84141,     0.84141,     0.84141,     0.84141,     0.84141,     0.84141,     0.84141,     0.84141,     0.84132,     0.84051,     0.83971,      0.8389,      0.8381,     0.83729,      0.8326,      0.8326,     0.83166,     0.82627,     0.82306,     0.82117,     0.81936,     0.81887,\n",
       "            0.81839,      0.8179,     0.81742,     0.81693,     0.81645,     0.81596,     0.81548,     0.81499,     0.81342,     0.81181,     0.81057,     0.80649,     0.80617,     0.80617,     0.80617,     0.80617,     0.80617,     0.80617,     0.80617,     0.80617,     0.80617,     0.80617,     0.80617,\n",
       "            0.80617,     0.80617,     0.80617,     0.80617,     0.80617,     0.80539,      0.8031,     0.80176,     0.80176,     0.80176,     0.80176,     0.80176,     0.80176,     0.80176,     0.80176,     0.80176,     0.80176,     0.80176,     0.80176,     0.80176,     0.80176,     0.80176,     0.80176,\n",
       "            0.80176,     0.80176,     0.80176,     0.80176,     0.80176,     0.80176,     0.80176,     0.80176,     0.80176,     0.80176,     0.80176,     0.80176,     0.79779,     0.79736,     0.79736,     0.79736,     0.79736,     0.79736,     0.79736,     0.79066,     0.78855,     0.78855,     0.78615,\n",
       "            0.78414,     0.77924,     0.77574,     0.76768,     0.76536,     0.76393,     0.76251,     0.76101,     0.75949,     0.75797,      0.7566,     0.75527,     0.75393,      0.7533,      0.7533,      0.7533,      0.7533,     0.75329,     0.74966,     0.74742,     0.74554,     0.74371,     0.74195,\n",
       "            0.74019,     0.74009,     0.73528,     0.73034,     0.72849,      0.7267,      0.7254,     0.72409,     0.72278,     0.72183,       0.721,     0.72016,     0.71932,     0.71848,     0.71713,     0.71526,     0.71366,      0.7119,     0.70957,     0.70687,      0.7021,     0.69961,     0.69863,\n",
       "            0.69764,     0.69665,     0.69592,     0.69561,      0.6953,     0.69499,     0.69468,     0.69437,     0.69406,     0.69375,     0.69344,     0.69313,     0.69282,     0.69251,      0.6922,     0.69189,     0.69163,     0.69163,     0.69163,     0.69023,     0.68773,     0.68483,     0.68282,\n",
       "            0.68215,      0.6813,     0.68046,     0.67962,     0.67878,     0.67421,     0.66921,     0.65618,      0.6538,     0.65175,     0.65077,     0.64979,     0.64881,     0.64784,     0.64317,     0.64317,     0.64317,     0.64234,     0.63015,     0.62696,     0.62465,     0.62115,      0.6163,\n",
       "            0.61531,     0.61432,     0.61333,     0.61234,      0.6066,     0.60293,     0.60136,     0.59978,     0.59822,     0.59668,     0.59513,     0.59031,     0.59031,     0.58384,     0.58152,     0.57379,     0.55794,     0.55374,      0.5496,      0.5455,     0.54303,     0.53613,     0.52905,\n",
       "            0.52468,     0.51872,     0.51504,     0.51317,     0.51131,     0.50991,     0.50861,      0.5073,     0.50661,     0.50633,     0.49918,      0.4978,      0.4978,      0.4978,     0.49341,     0.48751,     0.48576,     0.47917,     0.47577,     0.47109,      0.4685,     0.46222,     0.45938,\n",
       "            0.45518,     0.45265,     0.45113,     0.44961,     0.44202,     0.42531,     0.42247,     0.42199,     0.42151,     0.42103,     0.42055,     0.42007,     0.41959,     0.41911,     0.41863,      0.4141,     0.41345,     0.40838,     0.40276,     0.39496,     0.38889,     0.38645,     0.38497,\n",
       "             0.3835,     0.37769,     0.37514,     0.36938,     0.36436,     0.36231,     0.35958,     0.35565,      0.3511,     0.34808,     0.33542,     0.32502,     0.32329,     0.32154,     0.31809,     0.30902,     0.30561,     0.30337,     0.30209,      0.3008,     0.29808,     0.29249,     0.28113,\n",
       "            0.27736,     0.27529,     0.27323,     0.26712,     0.26402,       0.262,     0.25998,     0.25942,     0.25434,     0.25189,     0.24997,      0.2483,     0.24631,     0.23604,     0.23209,     0.22993,     0.22863,     0.22789,     0.22715,     0.22642,     0.22568,     0.22494,     0.21908,\n",
       "            0.21695,     0.21487,     0.21284,     0.21045,     0.20731,     0.19987,     0.19723,     0.19568,     0.19413,     0.17895,     0.17527,     0.17343,     0.16766,     0.16368,     0.16206,     0.16091,     0.15976,     0.15862,     0.15076,     0.14464,     0.14302,     0.14141,     0.13961,\n",
       "            0.13775,     0.13257,     0.12866,     0.12598,     0.12361,     0.12335,     0.12273,     0.12133,     0.11994,     0.11512,     0.11229,     0.10942,     0.10369,     0.10132,     0.10132,     0.10132,     0.10086,    0.099435,    0.098009,    0.096124,    0.092729,    0.092511,    0.092511,\n",
       "            0.08662,    0.084552,    0.079507,     0.07719,     0.07502,    0.071103,    0.067665,    0.065338,    0.063924,     0.06251,    0.061519,     0.06114,     0.06076,    0.060381,    0.060002,    0.059622,    0.059243,    0.058864,    0.058484,    0.058105,    0.057726,    0.057346,    0.056688,\n",
       "           0.055959,     0.05523,      0.0545,    0.053771,    0.053042,    0.051528,    0.049762,    0.048376,    0.048061,    0.047747,    0.047433,    0.047118,    0.046804,     0.04649,    0.046175,    0.045861,    0.045546,    0.045232,    0.044918,    0.044603,    0.044289,    0.043021,    0.039217,\n",
       "           0.036903,    0.034632,    0.032472,    0.029622,    0.026294,    0.025914,    0.025534,    0.025154,    0.024774,    0.024394,    0.024013,    0.023633,    0.023253,    0.022873,    0.022493,    0.022113,    0.021422,    0.020639,    0.019857,    0.019074,    0.018292,    0.016971,    0.013144,\n",
       "           0.012729,    0.012315,      0.0119,    0.011486,    0.011071,    0.010657,    0.010242,    0.009828,   0.0094135,    0.008999,   0.0084552,   0.0078036,    0.007152,   0.0065005,   0.0058489,   0.0051973,   0.0045457,   0.0044053,   0.0044053,           0,           0,           0,           0,\n",
       "                  0,           0,           0,           0,           0,           0,           0,           0,           0,           0,           0,           0,           0,           0,           0,           0,           0,           0,           0,           0,           0,           0,           0,\n",
       "                  0,           0,           0,           0,           0,           0,           0,           0,           0,           0,           0,           0,           0,           0,           0,           0,           0,           0,           0,           0,           0,           0,           0,\n",
       "                  0,           0,           0,           0,           0,           0,           0,           0,           0,           0,           0,           0,           0,           0,           0,           0,           0,           0,           0,           0,           0,           0,           0,\n",
       "                  0,           0,           0,           0,           0,           0,           0,           0,           0,           0,           0,           0,           0,           0,           0,           0,           0,           0,           0,           0,           0,           0,           0,\n",
       "                  0,           0,           0,           0,           0,           0,           0,           0,           0,           0,           0,           0,           0,           0,           0,           0,           0,           0,           0,           0,           0,           0,           0,\n",
       "                  0,           0,           0,           0,           0,           0,           0,           0,           0,           0,           0,           0,           0,           0,           0,           0,           0,           0,           0,           0,           0,           0,           0,\n",
       "                  0,           0,           0,           0,           0,           0,           0,           0,           0,           0,           0,           0,           0,           0,           0,           0,           0,           0,           0,           0,           0,           0,           0,\n",
       "                  0,           0,           0,           0,           0,           0,           0,           0,           0,           0,           0]]), 'Confidence', 'Recall']]\n",
       "fitness: 0.43246381716398546\n",
       "keys: ['metrics/precision(B)', 'metrics/recall(B)', 'metrics/mAP50(B)', 'metrics/mAP50-95(B)']\n",
       "maps: array([    0.38714])\n",
       "names: {0: 'car'}\n",
       "plot: True\n",
       "results_dict: {'metrics/precision(B)': 0.8330019926120398, 'metrics/recall(B)': 0.8061674008810573, 'metrics/mAP50(B)': 0.8404051559517007, 'metrics/mAP50-95(B)': 0.3871370017431282, 'fitness': 0.43246381716398546}\n",
       "save_dir: WindowsPath('runs/detect/train72')\n",
       "speed: {'preprocess': 1.3045750412286496, 'inference': 55.74728460872874, 'loss': 0.0, 'postprocess': 0.6764683068967333}\n",
       "task: 'detect'"
      ]
     },
     "execution_count": 5,
     "metadata": {},
     "output_type": "execute_result"
    }
   ],
   "source": [
    "# train & validate on dataset\n",
    "first_weights = \"train7_weights.pt\"\n",
    "yolo8_model.train(data=data_config,\n",
    "                  epochs=50,\n",
    "                  patience=15,\n",
    "                  pretrained=first_weights,\n",
    "                  optimizer=\"AdamW\",    # Adam + weight decay for less overfitting\n",
    "                  val=True, # validate during training\n",
    "                  seed=1,\n",
    "                  imgsz=400,\n",
    "                  batch=16,\n",
    "                  cache=\"disk\",\n",
    "                  )\n"
   ]
  }
 ],
 "metadata": {
  "kernelspec": {
   "display_name": "venv",
   "language": "python",
   "name": "python3"
  },
  "language_info": {
   "codemirror_mode": {
    "name": "ipython",
    "version": 3
   },
   "file_extension": ".py",
   "mimetype": "text/x-python",
   "name": "python",
   "nbconvert_exporter": "python",
   "pygments_lexer": "ipython3",
   "version": "3.9.0"
  }
 },
 "nbformat": 4,
 "nbformat_minor": 2
}
