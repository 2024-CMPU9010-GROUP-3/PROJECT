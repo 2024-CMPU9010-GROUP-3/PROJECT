{
 "cells": [
  {
   "cell_type": "markdown",
   "metadata": {},
   "source": [
    "# Auto-labelling using YOLOv8"
   ]
  },
  {
   "cell_type": "code",
   "execution_count": null,
   "metadata": {},
   "outputs": [],
   "source": [
    "import ultralytics\n",
    "from ultralytics import YOLO\n",
    "\n",
    "ultralytics.checks()\n",
    "\n",
    "# import model\n",
    "yolo8_model = YOLO(\"yolov8s.pt\") # pre-trained on COCO small model\n",
    "\n",
    "# path to train, validation & test images\n",
    "data_config = \"data.yaml\""
   ]
  },
  {
   "cell_type": "code",
   "execution_count": null,
   "metadata": {},
   "outputs": [],
   "source": [
    "# tune model -- for future\n",
    "#tune_results = yolo8_model.tune(data=data_config,\n",
    "                  #epochs=15,\n",
    "                  #iterations=20,\n",
    "                  #optimizer=\"AdamW\",    # Adam + weight decay for less overfitting\n",
    "                  #val=True, # validate during training\n",
    "                  #plots=False,  # skip plotting for faster tuning\n",
    "                  #save=False    # skip checkpointing for faster tuning\n",
    "                  #)"
   ]
  },
  {
   "cell_type": "code",
   "execution_count": null,
   "metadata": {},
   "outputs": [],
   "source": [
    "# train & validate on dataset\n",
    "best_weights = \"besttrain_weights.pt\"\n",
    "train_results = yolo8_model.train(data=data_config,\n",
    "                  epochs=35,\n",
    "                  patience=15,\n",
    "                  pretrained=best_weights,\n",
    "                  optimizer=\"AdamW\",    # Adam + weight decay for less overfitting\n",
    "                  val=True, # validate during training\n",
    "                  seed=1,\n",
    "                  imgsz=416,\n",
    "                  batch=16,\n",
    "                  cache=\"disk\",\n",
    "                  )\n"
   ]
  },
  {
   "cell_type": "code",
   "execution_count": null,
   "metadata": {},
   "outputs": [],
   "source": [
    "# load last trained model\n",
    "new_yolo8_model = YOLO(\"finaltrain_weights.pt\")\n",
    "\n",
    "# define test path -- not able to make it work through data.yaml -- cause for investigation\n",
    "test_path = \"C:\\TUD_MSC\\sem_3\\Magpie_mc\\dataset_ann\\yolov8_n\\images\\\\test\"\n",
    "\n",
    "# predict on test images (aka label) \n",
    "predict_results = new_yolo8_model.predict(source=test_path,\n",
    "                                  imgsz=416,\n",
    "                                  save=True,\n",
    "                                  conf=0.358)   # confidence threshold from F1-curve\n",
    "\n"
   ]
  }
 ],
 "metadata": {
  "kernelspec": {
   "display_name": "venv",
   "language": "python",
   "name": "python3"
  },
  "language_info": {
   "codemirror_mode": {
    "name": "ipython",
    "version": 3
   },
   "file_extension": ".py",
   "mimetype": "text/x-python",
   "name": "python",
   "nbconvert_exporter": "python",
   "pygments_lexer": "ipython3",
   "version": "3.9.0"
  }
 },
 "nbformat": 4,
 "nbformat_minor": 2
}
