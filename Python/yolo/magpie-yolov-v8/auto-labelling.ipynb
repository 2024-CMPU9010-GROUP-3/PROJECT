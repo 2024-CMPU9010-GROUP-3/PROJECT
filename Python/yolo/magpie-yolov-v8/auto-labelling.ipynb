{
 "cells": [
  {
   "cell_type": "markdown",
   "metadata": {},
   "source": [
    "# Auto-labelling using YOLOv8"
   ]
  },
  {
   "cell_type": "code",
   "execution_count": null,
   "metadata": {},
   "outputs": [],
   "source": [
    "import ultralytics\n",
    "from ultralytics import YOLO\n",
    "\n",
    "ultralytics.checks()"
   ]
  },
  {
   "cell_type": "code",
   "execution_count": null,
   "metadata": {},
   "outputs": [],
   "source": [
    "# import model\n",
    "yolo8_model = YOLO(\"yolov8s.pt\") # pre-trained"
   ]
  },
  {
   "cell_type": "code",
   "execution_count": null,
   "metadata": {},
   "outputs": [],
   "source": [
    "# train & validate on dataset\n",
    "data_config = \"data.yaml\"\n",
    "\n",
    "yolo8_model.tune(data=data_config,\n",
    "                  epochs=20,\n",
    "                  iterations=10,\n",
    "                  optimizer=\"AdamW\",\n",
    "                  plots=False,\n",
    "                  save=False,\n",
    "                  val=False,\n",
    "                  imgsz=640,\n",
    "                  batch=16,\n",
    "                  cache=True,\n",
    "                  )\n"
   ]
  }
 ],
 "metadata": {
  "kernelspec": {
   "display_name": "venv",
   "language": "python",
   "name": "python3"
  },
  "language_info": {
   "codemirror_mode": {
    "name": "ipython",
    "version": 3
   },
   "file_extension": ".py",
   "mimetype": "text/x-python",
   "name": "python",
   "nbconvert_exporter": "python",
   "pygments_lexer": "ipython3",
   "version": "3.9.0"
  }
 },
 "nbformat": 4,
 "nbformat_minor": 2
}
