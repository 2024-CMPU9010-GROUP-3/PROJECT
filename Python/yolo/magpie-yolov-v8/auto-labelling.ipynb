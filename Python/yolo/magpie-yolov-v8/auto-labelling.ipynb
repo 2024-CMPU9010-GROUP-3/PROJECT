{
 "cells": [
  {
   "cell_type": "markdown",
   "metadata": {},
   "source": [
    "# Auto-labelling using YOLOv8"
   ]
  },
  {
   "cell_type": "code",
   "execution_count": null,
   "metadata": {},
   "outputs": [],
   "source": [
    "import ultralytics\n",
    "from ultralytics import YOLO\n",
    "\n",
    "ultralytics.checks()"
   ]
  },
  {
   "cell_type": "code",
   "execution_count": 2,
   "metadata": {},
   "outputs": [],
   "source": [
    "# import model\n",
    "yolo8_model = YOLO(\"yolov8m.pt\") # pre-trained medium model"
   ]
  },
  {
   "cell_type": "code",
   "execution_count": 3,
   "metadata": {},
   "outputs": [],
   "source": [
    "# data path\n",
    "data_config = \"data.yaml\""
   ]
  },
  {
   "cell_type": "code",
   "execution_count": null,
   "metadata": {},
   "outputs": [],
   "source": [
    "# tune model\n",
    "yolo8_model.tune(data=data_config,\n",
    "                  epochs=20,\n",
    "                  iterations=100,\n",
    "                  optimizer=\"AdamW\",    # Adam + weight decay for less overfitting\n",
    "                  val=True, # validate during training\n",
    "                  plots=False,  # skip plotting for faster tuning\n",
    "                  save=False    # skip checkpointing for faster tuning\n",
    "                  )"
   ]
  },
  {
   "cell_type": "code",
   "execution_count": null,
   "metadata": {},
   "outputs": [],
   "source": [
    "# train & validate on dataset\n",
    "finetuned_weights = \"best_finetune.pt\"  # use best weights from prev cell tuning\n",
    "\n",
    "yolo8_model.train(data=data_config,\n",
    "                  epochs=30,\n",
    "                  patience=10,\n",
    "                  pretrained=finetuned_weights,\n",
    "                  optimizer=\"AdamW\",    # Adam + weight decay for less overfitting\n",
    "                  val=True, # validate during training\n",
    "                  seed=1,\n",
    "                  imgsz=640,\n",
    "                  batch=16,\n",
    "                  cache=\"disk\",\n",
    "                  )\n"
   ]
  }
 ],
 "metadata": {
  "kernelspec": {
   "display_name": "Python 3",
   "language": "python",
   "name": "python3"
  },
  "language_info": {
   "codemirror_mode": {
    "name": "ipython",
    "version": 3
   },
   "file_extension": ".py",
   "mimetype": "text/x-python",
   "name": "python",
   "nbconvert_exporter": "python",
   "pygments_lexer": "ipython3",
   "version": "3.11.9"
  }
 },
 "nbformat": 4,
 "nbformat_minor": 2
}
