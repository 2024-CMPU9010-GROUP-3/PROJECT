{
 "cells": [
  {
   "cell_type": "markdown",
   "metadata": {},
   "source": [
    "# Auto-labelling using YOLOv8"
   ]
  },
  {
   "cell_type": "code",
   "execution_count": null,
   "metadata": {},
   "outputs": [],
   "source": [
    "import ultralytics\n",
    "from ultralytics import YOLO\n",
    "\n",
    "ultralytics.checks()"
   ]
  },
  {
   "cell_type": "code",
   "execution_count": 8,
   "metadata": {},
   "outputs": [],
   "source": [
    "# import model\n",
    "yolo8_model = YOLO(\"yolov8s.pt\") # pre-trained"
   ]
  },
  {
   "cell_type": "code",
   "execution_count": null,
   "metadata": {},
   "outputs": [],
   "source": [
    "# train & validate on dataset\n",
    "data_config = \"data.yaml\"\n",
    "finetuned_weights = \"best_finetune.pt\"\n",
    "\n",
    "yolo8_model.train(data=data_config,\n",
    "                  epochs=30,\n",
    "                  patience=10,\n",
    "                  pretrained=finetuned_weights,\n",
    "                  seed=1,\n",
    "                  imgsz=640,\n",
    "                  batch=16,\n",
    "                  cache=\"disk\",\n",
    "                  )\n"
   ]
  }
 ],
 "metadata": {
  "kernelspec": {
   "display_name": "venv",
   "language": "python",
   "name": "python3"
  },
  "language_info": {
   "codemirror_mode": {
    "name": "ipython",
    "version": 3
   },
   "file_extension": ".py",
   "mimetype": "text/x-python",
   "name": "python",
   "nbconvert_exporter": "python",
   "pygments_lexer": "ipython3",
   "version": "3.9.0"
  }
 },
 "nbformat": 4,
 "nbformat_minor": 2
}
